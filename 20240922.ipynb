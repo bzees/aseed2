{
  "nbformat": 4,
  "nbformat_minor": 0,
  "metadata": {
    "colab": {
      "provenance": [],
      "gpuType": "T4"
    },
    "kernelspec": {
      "name": "ir",
      "display_name": "R"
    },
    "language_info": {
      "name": "R"
    },
    "accelerator": "GPU"
  },
  "cells": [
    {
      "cell_type": "code",
      "execution_count": null,
      "metadata": {
        "id": "n56RN08BhUZR",
        "colab": {
          "base_uri": "https://localhost:8080/"
        },
        "outputId": "ab84ce46-0283-461d-d7aa-9dd2a4b13419"
      },
      "outputs": [
        {
          "output_type": "stream",
          "name": "stderr",
          "text": [
            "Installing packages into ‘/usr/local/lib/R/site-library’\n",
            "(as ‘lib’ is unspecified)\n",
            "\n",
            "also installing the dependencies ‘NLP’, ‘slam’, ‘BH’\n",
            "\n",
            "\n"
          ]
        }
      ],
      "source": [
        "install.packages(c(\"tm\", \"stringr\", \"wordcloud\", \"SnowballC\"))"
      ]
    },
    {
      "cell_type": "code",
      "source": [
        "library(tm)\n",
        "library(stringr)\n",
        "library(wordcloud)\n",
        "library(SnowballC)"
      ],
      "metadata": {
        "id": "1OTRb_u1MiCv"
      },
      "execution_count": null,
      "outputs": []
    }
  ]
}