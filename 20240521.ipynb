{
  "nbformat": 4,
  "nbformat_minor": 0,
  "metadata": {
    "colab": {
      "provenance": [],
      "gpuType": "T4"
    },
    "kernelspec": {
      "name": "ir",
      "display_name": "R"
    },
    "language_info": {
      "name": "R"
    },
    "accelerator": "GPU"
  },
  "cells": [
    {
      "cell_type": "markdown",
      "source": [
        "# **여기서부터 책의 예제를 코랩에 맞도록 코딩한 것임**\n",
        "\n"
      ],
      "metadata": {
        "id": "pQzNgou-bvqv"
      }
    },
    {
      "cell_type": "markdown",
      "source": [
        "# **csv 파일로 실습**"
      ],
      "metadata": {
        "id": "TGU7HESzHoDC"
      }
    },
    {
      "cell_type": "code",
      "source": [
        "# CSV 파일 업로드 : 경로 /content/sample_data\n",
        "# 업로드 파일명 : 실습샘플데이터 sample_data_final_1_eng\n",
        "# CSV 파일명 변경 : sampledata.csv\n",
        "\n",
        "# CSV 파일 경로\n",
        "file_path <- \"/content/sample_data/sampledata.csv\"\n",
        "\n",
        "# CSV 파일을 데이터 프레임으로 읽기\n",
        "sampledata <- read.csv(file_path)\n",
        "\n",
        "# 데이터를 확인한다.\n",
        "sampledata\n",
        "\n",
        "# 데이터를 출력합니다.\n",
        "print(sampledata)"
      ],
      "metadata": {
        "id": "4-_XM0bMdkyT",
        "colab": {
          "base_uri": "https://localhost:8080/",
          "height": 1000
        },
        "outputId": "3843e8c9-ebc0-490a-e08f-b401684e70cb"
      },
      "execution_count": null,
      "outputs": [
        {
          "output_type": "display_data",
          "data": {
            "text/html": [
              "<table class=\"dataframe\">\n",
              "<caption>A data.frame: 176 × 19</caption>\n",
              "<thead>\n",
              "\t<tr><th scope=col>programtype</th><th scope=col>dramapref</th><th scope=col>varietypref</th><th scope=col>brandaware</th><th scope=col>brandpref</th><th scope=col>programaware</th><th scope=col>programpref</th><th scope=col>modelaware</th><th scope=col>modelpref</th><th scope=col>gender</th><th scope=col>pplaware</th><th scope=col>fun</th><th scope=col>like</th><th scope=col>reactance</th><th scope=col>brandattitude</th><th scope=col>programattitude</th><th scope=col>job</th><th scope=col>city</th><th scope=col>age</th></tr>\n",
              "\t<tr><th scope=col>&lt;int&gt;</th><th scope=col>&lt;int&gt;</th><th scope=col>&lt;int&gt;</th><th scope=col>&lt;int&gt;</th><th scope=col>&lt;int&gt;</th><th scope=col>&lt;int&gt;</th><th scope=col>&lt;int&gt;</th><th scope=col>&lt;int&gt;</th><th scope=col>&lt;int&gt;</th><th scope=col>&lt;chr&gt;</th><th scope=col>&lt;chr&gt;</th><th scope=col>&lt;dbl&gt;</th><th scope=col>&lt;dbl&gt;</th><th scope=col>&lt;dbl&gt;</th><th scope=col>&lt;dbl&gt;</th><th scope=col>&lt;dbl&gt;</th><th scope=col>&lt;chr&gt;</th><th scope=col>&lt;chr&gt;</th><th scope=col>&lt;int&gt;</th></tr>\n",
              "</thead>\n",
              "<tbody>\n",
              "\t<tr><td>2</td><td>4</td><td>4</td><td>7</td><td>7</td><td>7</td><td>4</td><td>1</td><td>1</td><td>female</td><td>yes</td><td>5.00</td><td>4.00</td><td>6.00</td><td>3.00</td><td>3.33</td><td>student</td><td>busan</td><td>22</td></tr>\n",
              "\t<tr><td>2</td><td>4</td><td>7</td><td>7</td><td>5</td><td>7</td><td>5</td><td>7</td><td>7</td><td>male  </td><td>yes</td><td>3.50</td><td>6.67</td><td>6.00</td><td>2.00</td><td>2.33</td><td>student</td><td>busan</td><td>24</td></tr>\n",
              "\t<tr><td>2</td><td>5</td><td>6</td><td>7</td><td>3</td><td>7</td><td>4</td><td>7</td><td>7</td><td>female</td><td>yes</td><td>4.75</td><td>5.00</td><td>2.75</td><td>4.33</td><td>3.67</td><td>student</td><td>busan</td><td>20</td></tr>\n",
              "\t<tr><td>2</td><td>6</td><td>2</td><td>7</td><td>4</td><td>3</td><td>2</td><td>2</td><td>2</td><td>female</td><td>no </td><td>3.75</td><td>2.00</td><td>4.00</td><td>6.00</td><td>4.00</td><td>student</td><td>busan</td><td>23</td></tr>\n",
              "\t<tr><td>2</td><td>2</td><td>7</td><td>3</td><td>3</td><td>6</td><td>4</td><td>6</td><td>6</td><td>male  </td><td>yes</td><td>5.00</td><td>5.33</td><td>4.00</td><td>5.67</td><td>3.67</td><td>student</td><td>busan</td><td>22</td></tr>\n",
              "\t<tr><td>2</td><td>4</td><td>4</td><td>7</td><td>6</td><td>7</td><td>4</td><td>7</td><td>7</td><td>female</td><td>yes</td><td>3.50</td><td>3.67</td><td>3.75</td><td>3.33</td><td>4.00</td><td>student</td><td>busan</td><td>21</td></tr>\n",
              "\t<tr><td>2</td><td>5</td><td>2</td><td>7</td><td>7</td><td>7</td><td>1</td><td>7</td><td>3</td><td>female</td><td>yes</td><td>5.25</td><td>2.33</td><td>6.75</td><td>1.00</td><td>7.00</td><td>student</td><td>busan</td><td>22</td></tr>\n",
              "\t<tr><td>2</td><td>2</td><td>5</td><td>6</td><td>4</td><td>6</td><td>3</td><td>5</td><td>5</td><td>male  </td><td>yes</td><td>4.00</td><td>4.00</td><td>5.00</td><td>3.00</td><td>3.33</td><td>student</td><td>busan</td><td>23</td></tr>\n",
              "\t<tr><td>2</td><td>1</td><td>7</td><td>7</td><td>4</td><td>7</td><td>5</td><td>7</td><td>7</td><td>male  </td><td>yes</td><td>3.75</td><td>4.00</td><td>3.00</td><td>2.00</td><td>1.67</td><td>student</td><td>busan</td><td>25</td></tr>\n",
              "\t<tr><td>2</td><td>5</td><td>5</td><td>7</td><td>6</td><td>7</td><td>6</td><td>7</td><td>7</td><td>female</td><td>yes</td><td>3.50</td><td>3.67</td><td>2.00</td><td>5.33</td><td>1.67</td><td>student</td><td>busan</td><td>21</td></tr>\n",
              "\t<tr><td>2</td><td>6</td><td>6</td><td>7</td><td>4</td><td>7</td><td>4</td><td>5</td><td>5</td><td>male  </td><td>yes</td><td>5.00</td><td>3.67</td><td>3.25</td><td>5.33</td><td>4.00</td><td>student</td><td>busan</td><td>25</td></tr>\n",
              "\t<tr><td>2</td><td>5</td><td>4</td><td>7</td><td>6</td><td>6</td><td>4</td><td>5</td><td>5</td><td>female</td><td>yes</td><td>5.00</td><td>2.67</td><td>4.00</td><td>1.67</td><td>3.33</td><td>student</td><td>busan</td><td>23</td></tr>\n",
              "\t<tr><td>2</td><td>2</td><td>4</td><td>7</td><td>3</td><td>7</td><td>3</td><td>6</td><td>7</td><td>male  </td><td>yes</td><td>4.75</td><td>2.33</td><td>3.50</td><td>5.67</td><td>5.67</td><td>student</td><td>busan</td><td>25</td></tr>\n",
              "\t<tr><td>2</td><td>2</td><td>6</td><td>7</td><td>4</td><td>7</td><td>1</td><td>7</td><td>7</td><td>female</td><td>yes</td><td>5.50</td><td>7.00</td><td>5.75</td><td>1.00</td><td>7.00</td><td>student</td><td>busan</td><td>22</td></tr>\n",
              "\t<tr><td>2</td><td>3</td><td>4</td><td>7</td><td>5</td><td>6</td><td>4</td><td>5</td><td>5</td><td>male  </td><td>yes</td><td>2.75</td><td>3.33</td><td>3.50</td><td>4.33</td><td>2.67</td><td>student</td><td>busan</td><td>25</td></tr>\n",
              "\t<tr><td>2</td><td>2</td><td>1</td><td>7</td><td>3</td><td>6</td><td>1</td><td>6</td><td>6</td><td>female</td><td>yes</td><td>1.50</td><td>1.00</td><td>1.75</td><td>2.00</td><td>3.67</td><td>student</td><td>busan</td><td>22</td></tr>\n",
              "\t<tr><td>2</td><td>5</td><td>5</td><td>7</td><td>4</td><td>5</td><td>4</td><td>5</td><td>6</td><td>female</td><td>yes</td><td>2.50</td><td>3.33</td><td>4.50</td><td>2.00</td><td>6.00</td><td>student</td><td>busan</td><td>22</td></tr>\n",
              "\t<tr><td>2</td><td>6</td><td>4</td><td>7</td><td>3</td><td>7</td><td>3</td><td>7</td><td>7</td><td>female</td><td>yes</td><td>3.75</td><td>1.00</td><td>5.50</td><td>6.67</td><td>7.00</td><td>student</td><td>busan</td><td>22</td></tr>\n",
              "\t<tr><td>2</td><td>3</td><td>1</td><td>7</td><td>4</td><td>7</td><td>1</td><td>4</td><td>4</td><td>female</td><td>yes</td><td>1.00</td><td>2.00</td><td>6.25</td><td>7.00</td><td>6.67</td><td>student</td><td>busan</td><td>19</td></tr>\n",
              "\t<tr><td>2</td><td>7</td><td>5</td><td>1</td><td>4</td><td>1</td><td>6</td><td>1</td><td>4</td><td>female</td><td>yes</td><td>4.50</td><td>4.00</td><td>3.50</td><td>3.00</td><td>3.00</td><td>worker </td><td>busan</td><td>21</td></tr>\n",
              "\t<tr><td>2</td><td>4</td><td>4</td><td>6</td><td>3</td><td>6</td><td>5</td><td>6</td><td>6</td><td>male  </td><td>yes</td><td>4.00</td><td>1.67</td><td>1.00</td><td>4.33</td><td>4.33</td><td>worker </td><td>busan</td><td>18</td></tr>\n",
              "\t<tr><td>2</td><td>6</td><td>6</td><td>7</td><td>3</td><td>7</td><td>4</td><td>7</td><td>7</td><td>female</td><td>yes</td><td>4.50</td><td>7.00</td><td>3.75</td><td>2.00</td><td>2.67</td><td>worker </td><td>busan</td><td>21</td></tr>\n",
              "\t<tr><td>2</td><td>5</td><td>6</td><td>5</td><td>4</td><td>5</td><td>4</td><td>3</td><td>3</td><td>male  </td><td>no </td><td>2.75</td><td>4.33</td><td>3.50</td><td>5.00</td><td>4.00</td><td>worker </td><td>busan</td><td>19</td></tr>\n",
              "\t<tr><td>2</td><td>4</td><td>2</td><td>4</td><td>3</td><td>5</td><td>1</td><td>1</td><td>1</td><td>male  </td><td>no </td><td>1.00</td><td>1.00</td><td>6.00</td><td>7.00</td><td>7.00</td><td>worker </td><td>busan</td><td>19</td></tr>\n",
              "\t<tr><td>2</td><td>4</td><td>6</td><td>7</td><td>4</td><td>2</td><td>1</td><td>1</td><td>1</td><td>male  </td><td>yes</td><td>3.50</td><td>2.67</td><td>4.50</td><td>4.00</td><td>5.33</td><td>worker </td><td>busan</td><td>19</td></tr>\n",
              "\t<tr><td>2</td><td>2</td><td>6</td><td>7</td><td>4</td><td>7</td><td>4</td><td>7</td><td>7</td><td>male  </td><td>yes</td><td>3.00</td><td>3.67</td><td>1.25</td><td>6.00</td><td>2.67</td><td>worker </td><td>busan</td><td>19</td></tr>\n",
              "\t<tr><td>2</td><td>4</td><td>4</td><td>7</td><td>5</td><td>7</td><td>4</td><td>3</td><td>3</td><td>male  </td><td>yes</td><td>3.75</td><td>4.00</td><td>3.75</td><td>3.00</td><td>4.00</td><td>worker </td><td>busan</td><td>19</td></tr>\n",
              "\t<tr><td>2</td><td>3</td><td>5</td><td>5</td><td>4</td><td>5</td><td>4</td><td>5</td><td>5</td><td>male  </td><td>yes</td><td>1.50</td><td>3.00</td><td>3.75</td><td>3.33</td><td>4.00</td><td>worker </td><td>busan</td><td>18</td></tr>\n",
              "\t<tr><td>2</td><td>2</td><td>6</td><td>7</td><td>3</td><td>7</td><td>3</td><td>7</td><td>7</td><td>male  </td><td>no </td><td>2.75</td><td>2.33</td><td>3.25</td><td>4.00</td><td>3.33</td><td>worker </td><td>busan</td><td>19</td></tr>\n",
              "\t<tr><td>2</td><td>2</td><td>6</td><td>7</td><td>7</td><td>7</td><td>7</td><td>7</td><td>7</td><td>male  </td><td>no </td><td>5.00</td><td>2.67</td><td>1.00</td><td>1.67</td><td>1.00</td><td>worker </td><td>busan</td><td>19</td></tr>\n",
              "\t<tr><td>⋮</td><td>⋮</td><td>⋮</td><td>⋮</td><td>⋮</td><td>⋮</td><td>⋮</td><td>⋮</td><td>⋮</td><td>⋮</td><td>⋮</td><td>⋮</td><td>⋮</td><td>⋮</td><td>⋮</td><td>⋮</td><td>⋮</td><td>⋮</td><td>⋮</td></tr>\n",
              "\t<tr><td>2</td><td>3</td><td>3</td><td>7</td><td>5</td><td>7</td><td>1</td><td>7</td><td>7</td><td>female</td><td>yes</td><td>2.00</td><td>4.00</td><td>4.75</td><td>3.00</td><td>4.00</td><td>student</td><td>seoul</td><td>19</td></tr>\n",
              "\t<tr><td>2</td><td>7</td><td>7</td><td>7</td><td>4</td><td>7</td><td>3</td><td>7</td><td>7</td><td>male  </td><td>yes</td><td>5.75</td><td>5.00</td><td>5.25</td><td>3.67</td><td>4.00</td><td>student</td><td>seoul</td><td>23</td></tr>\n",
              "\t<tr><td>2</td><td>5</td><td>7</td><td>7</td><td>5</td><td>7</td><td>2</td><td>7</td><td>7</td><td>female</td><td>yes</td><td>4.00</td><td>4.00</td><td>5.50</td><td>2.67</td><td>4.33</td><td>student</td><td>seoul</td><td>23</td></tr>\n",
              "\t<tr><td>2</td><td>6</td><td>5</td><td>6</td><td>4</td><td>6</td><td>5</td><td>5</td><td>5</td><td>male  </td><td>yes</td><td>4.75</td><td>5.67</td><td>4.75</td><td>2.67</td><td>3.33</td><td>student</td><td>seoul</td><td>23</td></tr>\n",
              "\t<tr><td>2</td><td>3</td><td>4</td><td>7</td><td>4</td><td>7</td><td>2</td><td>5</td><td>5</td><td>male  </td><td>yes</td><td>4.25</td><td>5.00</td><td>4.75</td><td>4.00</td><td>4.00</td><td>student</td><td>seoul</td><td>23</td></tr>\n",
              "\t<tr><td>2</td><td>2</td><td>5</td><td>6</td><td>4</td><td>6</td><td>3</td><td>5</td><td>6</td><td>male  </td><td>yes</td><td>4.25</td><td>2.67</td><td>6.25</td><td>3.33</td><td>5.00</td><td>student</td><td>seoul</td><td>21</td></tr>\n",
              "\t<tr><td>2</td><td>6</td><td>7</td><td>7</td><td>6</td><td>7</td><td>3</td><td>5</td><td>5</td><td>female</td><td>yes</td><td>4.25</td><td>5.00</td><td>2.00</td><td>3.00</td><td>3.33</td><td>student</td><td>seoul</td><td>20</td></tr>\n",
              "\t<tr><td>2</td><td>6</td><td>5</td><td>6</td><td>4</td><td>5</td><td>4</td><td>5</td><td>5</td><td>female</td><td>yes</td><td>5.00</td><td>4.00</td><td>4.00</td><td>2.00</td><td>4.33</td><td>student</td><td>seoul</td><td>21</td></tr>\n",
              "\t<tr><td>2</td><td>5</td><td>6</td><td>7</td><td>5</td><td>5</td><td>4</td><td>1</td><td>1</td><td>female</td><td>yes</td><td>5.00</td><td>5.33</td><td>6.00</td><td>4.00</td><td>4.00</td><td>student</td><td>seoul</td><td>21</td></tr>\n",
              "\t<tr><td>2</td><td>6</td><td>7</td><td>6</td><td>4</td><td>6</td><td>4</td><td>5</td><td>6</td><td>male  </td><td>yes</td><td>5.00</td><td>3.67</td><td>4.00</td><td>3.67</td><td>4.33</td><td>student</td><td>seoul</td><td>22</td></tr>\n",
              "\t<tr><td>2</td><td>4</td><td>6</td><td>7</td><td>5</td><td>7</td><td>7</td><td>7</td><td>7</td><td>male  </td><td>yes</td><td>1.00</td><td>6.00</td><td>1.00</td><td>1.00</td><td>3.00</td><td>student</td><td>seoul</td><td>22</td></tr>\n",
              "\t<tr><td>2</td><td>3</td><td>1</td><td>5</td><td>1</td><td>5</td><td>3</td><td>1</td><td>2</td><td>male  </td><td>yes</td><td>1.00</td><td>1.67</td><td>1.00</td><td>7.00</td><td>4.00</td><td>worker </td><td>seoul</td><td>24</td></tr>\n",
              "\t<tr><td>2</td><td>5</td><td>5</td><td>7</td><td>6</td><td>7</td><td>4</td><td>1</td><td>1</td><td>male  </td><td>yes</td><td>2.00</td><td>4.00</td><td>2.00</td><td>2.00</td><td>3.00</td><td>worker </td><td>seoul</td><td>23</td></tr>\n",
              "\t<tr><td>2</td><td>5</td><td>6</td><td>6</td><td>5</td><td>7</td><td>4</td><td>2</td><td>2</td><td>female</td><td>yes</td><td>5.25</td><td>6.00</td><td>4.75</td><td>2.00</td><td>3.67</td><td>worker </td><td>seoul</td><td>24</td></tr>\n",
              "\t<tr><td>2</td><td>3</td><td>5</td><td>7</td><td>5</td><td>7</td><td>3</td><td>6</td><td>6</td><td>female</td><td>yes</td><td>1.75</td><td>2.33</td><td>5.25</td><td>4.67</td><td>4.00</td><td>worker </td><td>seoul</td><td>19</td></tr>\n",
              "\t<tr><td>2</td><td>7</td><td>5</td><td>7</td><td>5</td><td>7</td><td>6</td><td>7</td><td>7</td><td>female</td><td>yes</td><td>4.50</td><td>5.00</td><td>4.00</td><td>4.00</td><td>3.00</td><td>worker </td><td>seoul</td><td>19</td></tr>\n",
              "\t<tr><td>2</td><td>3</td><td>4</td><td>5</td><td>4</td><td>4</td><td>5</td><td>4</td><td>3</td><td>male  </td><td>no </td><td>4.50</td><td>4.00</td><td>4.00</td><td>3.67</td><td>4.33</td><td>worker </td><td>seoul</td><td>23</td></tr>\n",
              "\t<tr><td>2</td><td>4</td><td>4</td><td>3</td><td>2</td><td>3</td><td>2</td><td>3</td><td>3</td><td>female</td><td>yes</td><td>2.75</td><td>2.00</td><td>3.50</td><td>2.33</td><td>4.00</td><td>worker </td><td>seoul</td><td>21</td></tr>\n",
              "\t<tr><td>2</td><td>5</td><td>6</td><td>4</td><td>5</td><td>6</td><td>6</td><td>5</td><td>4</td><td>female</td><td>yes</td><td>5.00</td><td>5.67</td><td>4.75</td><td>3.00</td><td>2.67</td><td>worker </td><td>seoul</td><td>20</td></tr>\n",
              "\t<tr><td>2</td><td>4</td><td>4</td><td>4</td><td>5</td><td>3</td><td>4</td><td>6</td><td>4</td><td>male  </td><td>no </td><td>3.75</td><td>3.00</td><td>4.00</td><td>3.67</td><td>4.33</td><td>worker </td><td>seoul</td><td>23</td></tr>\n",
              "\t<tr><td>2</td><td>4</td><td>4</td><td>3</td><td>4</td><td>3</td><td>1</td><td>4</td><td>5</td><td>male  </td><td>yes</td><td>2.25</td><td>2.33</td><td>3.50</td><td>3.33</td><td>4.00</td><td>worker </td><td>seoul</td><td>20</td></tr>\n",
              "\t<tr><td>2</td><td>4</td><td>7</td><td>7</td><td>6</td><td>7</td><td>5</td><td>1</td><td>1</td><td>female</td><td>yes</td><td>1.00</td><td>7.00</td><td>5.00</td><td>4.00</td><td>4.33</td><td>worker </td><td>seoul</td><td>20</td></tr>\n",
              "\t<tr><td>2</td><td>4</td><td>6</td><td>7</td><td>2</td><td>7</td><td>6</td><td>6</td><td>6</td><td>male  </td><td>yes</td><td>5.50</td><td>5.00</td><td>4.00</td><td>4.67</td><td>4.33</td><td>worker </td><td>seoul</td><td>24</td></tr>\n",
              "\t<tr><td>2</td><td>1</td><td>5</td><td>7</td><td>4</td><td>7</td><td>2</td><td>7</td><td>7</td><td>female</td><td>no </td><td>2.50</td><td>3.67</td><td>3.25</td><td>3.33</td><td>4.00</td><td>worker </td><td>seoul</td><td>20</td></tr>\n",
              "\t<tr><td>2</td><td>6</td><td>6</td><td>7</td><td>6</td><td>7</td><td>4</td><td>7</td><td>7</td><td>female</td><td>no </td><td>5.25</td><td>3.67</td><td>6.00</td><td>3.33</td><td>3.33</td><td>worker </td><td>seoul</td><td>22</td></tr>\n",
              "\t<tr><td>2</td><td>4</td><td>7</td><td>7</td><td>4</td><td>7</td><td>3</td><td>4</td><td>4</td><td>male  </td><td>no </td><td>5.25</td><td>5.00</td><td>4.75</td><td>3.33</td><td>5.33</td><td>worker </td><td>seoul</td><td>22</td></tr>\n",
              "\t<tr><td>2</td><td>5</td><td>3</td><td>6</td><td>6</td><td>5</td><td>2</td><td>6</td><td>6</td><td>male  </td><td>no </td><td>4.75</td><td>6.00</td><td>5.50</td><td>1.67</td><td>4.33</td><td>worker </td><td>busan</td><td>20</td></tr>\n",
              "\t<tr><td>2</td><td>5</td><td>4</td><td>6</td><td>6</td><td>5</td><td>4</td><td>4</td><td>4</td><td>female</td><td>no </td><td>3.00</td><td>3.00</td><td>4.25</td><td>3.00</td><td>3.33</td><td>worker </td><td>busan</td><td>20</td></tr>\n",
              "\t<tr><td>2</td><td>1</td><td>1</td><td>4</td><td>1</td><td>4</td><td>1</td><td>1</td><td>1</td><td>female</td><td>yes</td><td>1.00</td><td>1.00</td><td>1.00</td><td>4.00</td><td>4.00</td><td>worker </td><td>busan</td><td>19</td></tr>\n",
              "\t<tr><td>2</td><td>4</td><td>6</td><td>7</td><td>7</td><td>7</td><td>1</td><td>7</td><td>7</td><td>male  </td><td>yes</td><td>4.50</td><td>1.00</td><td>5.25</td><td>3.33</td><td>4.33</td><td>worker </td><td>busan</td><td>19</td></tr>\n",
              "</tbody>\n",
              "</table>\n"
            ],
            "text/markdown": "\nA data.frame: 176 × 19\n\n| programtype &lt;int&gt; | dramapref &lt;int&gt; | varietypref &lt;int&gt; | brandaware &lt;int&gt; | brandpref &lt;int&gt; | programaware &lt;int&gt; | programpref &lt;int&gt; | modelaware &lt;int&gt; | modelpref &lt;int&gt; | gender &lt;chr&gt; | pplaware &lt;chr&gt; | fun &lt;dbl&gt; | like &lt;dbl&gt; | reactance &lt;dbl&gt; | brandattitude &lt;dbl&gt; | programattitude &lt;dbl&gt; | job &lt;chr&gt; | city &lt;chr&gt; | age &lt;int&gt; |\n|---|---|---|---|---|---|---|---|---|---|---|---|---|---|---|---|---|---|---|\n| 2 | 4 | 4 | 7 | 7 | 7 | 4 | 1 | 1 | female | yes | 5.00 | 4.00 | 6.00 | 3.00 | 3.33 | student | busan | 22 |\n| 2 | 4 | 7 | 7 | 5 | 7 | 5 | 7 | 7 | male   | yes | 3.50 | 6.67 | 6.00 | 2.00 | 2.33 | student | busan | 24 |\n| 2 | 5 | 6 | 7 | 3 | 7 | 4 | 7 | 7 | female | yes | 4.75 | 5.00 | 2.75 | 4.33 | 3.67 | student | busan | 20 |\n| 2 | 6 | 2 | 7 | 4 | 3 | 2 | 2 | 2 | female | no  | 3.75 | 2.00 | 4.00 | 6.00 | 4.00 | student | busan | 23 |\n| 2 | 2 | 7 | 3 | 3 | 6 | 4 | 6 | 6 | male   | yes | 5.00 | 5.33 | 4.00 | 5.67 | 3.67 | student | busan | 22 |\n| 2 | 4 | 4 | 7 | 6 | 7 | 4 | 7 | 7 | female | yes | 3.50 | 3.67 | 3.75 | 3.33 | 4.00 | student | busan | 21 |\n| 2 | 5 | 2 | 7 | 7 | 7 | 1 | 7 | 3 | female | yes | 5.25 | 2.33 | 6.75 | 1.00 | 7.00 | student | busan | 22 |\n| 2 | 2 | 5 | 6 | 4 | 6 | 3 | 5 | 5 | male   | yes | 4.00 | 4.00 | 5.00 | 3.00 | 3.33 | student | busan | 23 |\n| 2 | 1 | 7 | 7 | 4 | 7 | 5 | 7 | 7 | male   | yes | 3.75 | 4.00 | 3.00 | 2.00 | 1.67 | student | busan | 25 |\n| 2 | 5 | 5 | 7 | 6 | 7 | 6 | 7 | 7 | female | yes | 3.50 | 3.67 | 2.00 | 5.33 | 1.67 | student | busan | 21 |\n| 2 | 6 | 6 | 7 | 4 | 7 | 4 | 5 | 5 | male   | yes | 5.00 | 3.67 | 3.25 | 5.33 | 4.00 | student | busan | 25 |\n| 2 | 5 | 4 | 7 | 6 | 6 | 4 | 5 | 5 | female | yes | 5.00 | 2.67 | 4.00 | 1.67 | 3.33 | student | busan | 23 |\n| 2 | 2 | 4 | 7 | 3 | 7 | 3 | 6 | 7 | male   | yes | 4.75 | 2.33 | 3.50 | 5.67 | 5.67 | student | busan | 25 |\n| 2 | 2 | 6 | 7 | 4 | 7 | 1 | 7 | 7 | female | yes | 5.50 | 7.00 | 5.75 | 1.00 | 7.00 | student | busan | 22 |\n| 2 | 3 | 4 | 7 | 5 | 6 | 4 | 5 | 5 | male   | yes | 2.75 | 3.33 | 3.50 | 4.33 | 2.67 | student | busan | 25 |\n| 2 | 2 | 1 | 7 | 3 | 6 | 1 | 6 | 6 | female | yes | 1.50 | 1.00 | 1.75 | 2.00 | 3.67 | student | busan | 22 |\n| 2 | 5 | 5 | 7 | 4 | 5 | 4 | 5 | 6 | female | yes | 2.50 | 3.33 | 4.50 | 2.00 | 6.00 | student | busan | 22 |\n| 2 | 6 | 4 | 7 | 3 | 7 | 3 | 7 | 7 | female | yes | 3.75 | 1.00 | 5.50 | 6.67 | 7.00 | student | busan | 22 |\n| 2 | 3 | 1 | 7 | 4 | 7 | 1 | 4 | 4 | female | yes | 1.00 | 2.00 | 6.25 | 7.00 | 6.67 | student | busan | 19 |\n| 2 | 7 | 5 | 1 | 4 | 1 | 6 | 1 | 4 | female | yes | 4.50 | 4.00 | 3.50 | 3.00 | 3.00 | worker  | busan | 21 |\n| 2 | 4 | 4 | 6 | 3 | 6 | 5 | 6 | 6 | male   | yes | 4.00 | 1.67 | 1.00 | 4.33 | 4.33 | worker  | busan | 18 |\n| 2 | 6 | 6 | 7 | 3 | 7 | 4 | 7 | 7 | female | yes | 4.50 | 7.00 | 3.75 | 2.00 | 2.67 | worker  | busan | 21 |\n| 2 | 5 | 6 | 5 | 4 | 5 | 4 | 3 | 3 | male   | no  | 2.75 | 4.33 | 3.50 | 5.00 | 4.00 | worker  | busan | 19 |\n| 2 | 4 | 2 | 4 | 3 | 5 | 1 | 1 | 1 | male   | no  | 1.00 | 1.00 | 6.00 | 7.00 | 7.00 | worker  | busan | 19 |\n| 2 | 4 | 6 | 7 | 4 | 2 | 1 | 1 | 1 | male   | yes | 3.50 | 2.67 | 4.50 | 4.00 | 5.33 | worker  | busan | 19 |\n| 2 | 2 | 6 | 7 | 4 | 7 | 4 | 7 | 7 | male   | yes | 3.00 | 3.67 | 1.25 | 6.00 | 2.67 | worker  | busan | 19 |\n| 2 | 4 | 4 | 7 | 5 | 7 | 4 | 3 | 3 | male   | yes | 3.75 | 4.00 | 3.75 | 3.00 | 4.00 | worker  | busan | 19 |\n| 2 | 3 | 5 | 5 | 4 | 5 | 4 | 5 | 5 | male   | yes | 1.50 | 3.00 | 3.75 | 3.33 | 4.00 | worker  | busan | 18 |\n| 2 | 2 | 6 | 7 | 3 | 7 | 3 | 7 | 7 | male   | no  | 2.75 | 2.33 | 3.25 | 4.00 | 3.33 | worker  | busan | 19 |\n| 2 | 2 | 6 | 7 | 7 | 7 | 7 | 7 | 7 | male   | no  | 5.00 | 2.67 | 1.00 | 1.67 | 1.00 | worker  | busan | 19 |\n| ⋮ | ⋮ | ⋮ | ⋮ | ⋮ | ⋮ | ⋮ | ⋮ | ⋮ | ⋮ | ⋮ | ⋮ | ⋮ | ⋮ | ⋮ | ⋮ | ⋮ | ⋮ | ⋮ |\n| 2 | 3 | 3 | 7 | 5 | 7 | 1 | 7 | 7 | female | yes | 2.00 | 4.00 | 4.75 | 3.00 | 4.00 | student | seoul | 19 |\n| 2 | 7 | 7 | 7 | 4 | 7 | 3 | 7 | 7 | male   | yes | 5.75 | 5.00 | 5.25 | 3.67 | 4.00 | student | seoul | 23 |\n| 2 | 5 | 7 | 7 | 5 | 7 | 2 | 7 | 7 | female | yes | 4.00 | 4.00 | 5.50 | 2.67 | 4.33 | student | seoul | 23 |\n| 2 | 6 | 5 | 6 | 4 | 6 | 5 | 5 | 5 | male   | yes | 4.75 | 5.67 | 4.75 | 2.67 | 3.33 | student | seoul | 23 |\n| 2 | 3 | 4 | 7 | 4 | 7 | 2 | 5 | 5 | male   | yes | 4.25 | 5.00 | 4.75 | 4.00 | 4.00 | student | seoul | 23 |\n| 2 | 2 | 5 | 6 | 4 | 6 | 3 | 5 | 6 | male   | yes | 4.25 | 2.67 | 6.25 | 3.33 | 5.00 | student | seoul | 21 |\n| 2 | 6 | 7 | 7 | 6 | 7 | 3 | 5 | 5 | female | yes | 4.25 | 5.00 | 2.00 | 3.00 | 3.33 | student | seoul | 20 |\n| 2 | 6 | 5 | 6 | 4 | 5 | 4 | 5 | 5 | female | yes | 5.00 | 4.00 | 4.00 | 2.00 | 4.33 | student | seoul | 21 |\n| 2 | 5 | 6 | 7 | 5 | 5 | 4 | 1 | 1 | female | yes | 5.00 | 5.33 | 6.00 | 4.00 | 4.00 | student | seoul | 21 |\n| 2 | 6 | 7 | 6 | 4 | 6 | 4 | 5 | 6 | male   | yes | 5.00 | 3.67 | 4.00 | 3.67 | 4.33 | student | seoul | 22 |\n| 2 | 4 | 6 | 7 | 5 | 7 | 7 | 7 | 7 | male   | yes | 1.00 | 6.00 | 1.00 | 1.00 | 3.00 | student | seoul | 22 |\n| 2 | 3 | 1 | 5 | 1 | 5 | 3 | 1 | 2 | male   | yes | 1.00 | 1.67 | 1.00 | 7.00 | 4.00 | worker  | seoul | 24 |\n| 2 | 5 | 5 | 7 | 6 | 7 | 4 | 1 | 1 | male   | yes | 2.00 | 4.00 | 2.00 | 2.00 | 3.00 | worker  | seoul | 23 |\n| 2 | 5 | 6 | 6 | 5 | 7 | 4 | 2 | 2 | female | yes | 5.25 | 6.00 | 4.75 | 2.00 | 3.67 | worker  | seoul | 24 |\n| 2 | 3 | 5 | 7 | 5 | 7 | 3 | 6 | 6 | female | yes | 1.75 | 2.33 | 5.25 | 4.67 | 4.00 | worker  | seoul | 19 |\n| 2 | 7 | 5 | 7 | 5 | 7 | 6 | 7 | 7 | female | yes | 4.50 | 5.00 | 4.00 | 4.00 | 3.00 | worker  | seoul | 19 |\n| 2 | 3 | 4 | 5 | 4 | 4 | 5 | 4 | 3 | male   | no  | 4.50 | 4.00 | 4.00 | 3.67 | 4.33 | worker  | seoul | 23 |\n| 2 | 4 | 4 | 3 | 2 | 3 | 2 | 3 | 3 | female | yes | 2.75 | 2.00 | 3.50 | 2.33 | 4.00 | worker  | seoul | 21 |\n| 2 | 5 | 6 | 4 | 5 | 6 | 6 | 5 | 4 | female | yes | 5.00 | 5.67 | 4.75 | 3.00 | 2.67 | worker  | seoul | 20 |\n| 2 | 4 | 4 | 4 | 5 | 3 | 4 | 6 | 4 | male   | no  | 3.75 | 3.00 | 4.00 | 3.67 | 4.33 | worker  | seoul | 23 |\n| 2 | 4 | 4 | 3 | 4 | 3 | 1 | 4 | 5 | male   | yes | 2.25 | 2.33 | 3.50 | 3.33 | 4.00 | worker  | seoul | 20 |\n| 2 | 4 | 7 | 7 | 6 | 7 | 5 | 1 | 1 | female | yes | 1.00 | 7.00 | 5.00 | 4.00 | 4.33 | worker  | seoul | 20 |\n| 2 | 4 | 6 | 7 | 2 | 7 | 6 | 6 | 6 | male   | yes | 5.50 | 5.00 | 4.00 | 4.67 | 4.33 | worker  | seoul | 24 |\n| 2 | 1 | 5 | 7 | 4 | 7 | 2 | 7 | 7 | female | no  | 2.50 | 3.67 | 3.25 | 3.33 | 4.00 | worker  | seoul | 20 |\n| 2 | 6 | 6 | 7 | 6 | 7 | 4 | 7 | 7 | female | no  | 5.25 | 3.67 | 6.00 | 3.33 | 3.33 | worker  | seoul | 22 |\n| 2 | 4 | 7 | 7 | 4 | 7 | 3 | 4 | 4 | male   | no  | 5.25 | 5.00 | 4.75 | 3.33 | 5.33 | worker  | seoul | 22 |\n| 2 | 5 | 3 | 6 | 6 | 5 | 2 | 6 | 6 | male   | no  | 4.75 | 6.00 | 5.50 | 1.67 | 4.33 | worker  | busan | 20 |\n| 2 | 5 | 4 | 6 | 6 | 5 | 4 | 4 | 4 | female | no  | 3.00 | 3.00 | 4.25 | 3.00 | 3.33 | worker  | busan | 20 |\n| 2 | 1 | 1 | 4 | 1 | 4 | 1 | 1 | 1 | female | yes | 1.00 | 1.00 | 1.00 | 4.00 | 4.00 | worker  | busan | 19 |\n| 2 | 4 | 6 | 7 | 7 | 7 | 1 | 7 | 7 | male   | yes | 4.50 | 1.00 | 5.25 | 3.33 | 4.33 | worker  | busan | 19 |\n\n",
            "text/latex": "A data.frame: 176 × 19\n\\begin{tabular}{lllllllllllllllllll}\n programtype & dramapref & varietypref & brandaware & brandpref & programaware & programpref & modelaware & modelpref & gender & pplaware & fun & like & reactance & brandattitude & programattitude & job & city & age\\\\\n <int> & <int> & <int> & <int> & <int> & <int> & <int> & <int> & <int> & <chr> & <chr> & <dbl> & <dbl> & <dbl> & <dbl> & <dbl> & <chr> & <chr> & <int>\\\\\n\\hline\n\t 2 & 4 & 4 & 7 & 7 & 7 & 4 & 1 & 1 & female & yes & 5.00 & 4.00 & 6.00 & 3.00 & 3.33 & student & busan & 22\\\\\n\t 2 & 4 & 7 & 7 & 5 & 7 & 5 & 7 & 7 & male   & yes & 3.50 & 6.67 & 6.00 & 2.00 & 2.33 & student & busan & 24\\\\\n\t 2 & 5 & 6 & 7 & 3 & 7 & 4 & 7 & 7 & female & yes & 4.75 & 5.00 & 2.75 & 4.33 & 3.67 & student & busan & 20\\\\\n\t 2 & 6 & 2 & 7 & 4 & 3 & 2 & 2 & 2 & female & no  & 3.75 & 2.00 & 4.00 & 6.00 & 4.00 & student & busan & 23\\\\\n\t 2 & 2 & 7 & 3 & 3 & 6 & 4 & 6 & 6 & male   & yes & 5.00 & 5.33 & 4.00 & 5.67 & 3.67 & student & busan & 22\\\\\n\t 2 & 4 & 4 & 7 & 6 & 7 & 4 & 7 & 7 & female & yes & 3.50 & 3.67 & 3.75 & 3.33 & 4.00 & student & busan & 21\\\\\n\t 2 & 5 & 2 & 7 & 7 & 7 & 1 & 7 & 3 & female & yes & 5.25 & 2.33 & 6.75 & 1.00 & 7.00 & student & busan & 22\\\\\n\t 2 & 2 & 5 & 6 & 4 & 6 & 3 & 5 & 5 & male   & yes & 4.00 & 4.00 & 5.00 & 3.00 & 3.33 & student & busan & 23\\\\\n\t 2 & 1 & 7 & 7 & 4 & 7 & 5 & 7 & 7 & male   & yes & 3.75 & 4.00 & 3.00 & 2.00 & 1.67 & student & busan & 25\\\\\n\t 2 & 5 & 5 & 7 & 6 & 7 & 6 & 7 & 7 & female & yes & 3.50 & 3.67 & 2.00 & 5.33 & 1.67 & student & busan & 21\\\\\n\t 2 & 6 & 6 & 7 & 4 & 7 & 4 & 5 & 5 & male   & yes & 5.00 & 3.67 & 3.25 & 5.33 & 4.00 & student & busan & 25\\\\\n\t 2 & 5 & 4 & 7 & 6 & 6 & 4 & 5 & 5 & female & yes & 5.00 & 2.67 & 4.00 & 1.67 & 3.33 & student & busan & 23\\\\\n\t 2 & 2 & 4 & 7 & 3 & 7 & 3 & 6 & 7 & male   & yes & 4.75 & 2.33 & 3.50 & 5.67 & 5.67 & student & busan & 25\\\\\n\t 2 & 2 & 6 & 7 & 4 & 7 & 1 & 7 & 7 & female & yes & 5.50 & 7.00 & 5.75 & 1.00 & 7.00 & student & busan & 22\\\\\n\t 2 & 3 & 4 & 7 & 5 & 6 & 4 & 5 & 5 & male   & yes & 2.75 & 3.33 & 3.50 & 4.33 & 2.67 & student & busan & 25\\\\\n\t 2 & 2 & 1 & 7 & 3 & 6 & 1 & 6 & 6 & female & yes & 1.50 & 1.00 & 1.75 & 2.00 & 3.67 & student & busan & 22\\\\\n\t 2 & 5 & 5 & 7 & 4 & 5 & 4 & 5 & 6 & female & yes & 2.50 & 3.33 & 4.50 & 2.00 & 6.00 & student & busan & 22\\\\\n\t 2 & 6 & 4 & 7 & 3 & 7 & 3 & 7 & 7 & female & yes & 3.75 & 1.00 & 5.50 & 6.67 & 7.00 & student & busan & 22\\\\\n\t 2 & 3 & 1 & 7 & 4 & 7 & 1 & 4 & 4 & female & yes & 1.00 & 2.00 & 6.25 & 7.00 & 6.67 & student & busan & 19\\\\\n\t 2 & 7 & 5 & 1 & 4 & 1 & 6 & 1 & 4 & female & yes & 4.50 & 4.00 & 3.50 & 3.00 & 3.00 & worker  & busan & 21\\\\\n\t 2 & 4 & 4 & 6 & 3 & 6 & 5 & 6 & 6 & male   & yes & 4.00 & 1.67 & 1.00 & 4.33 & 4.33 & worker  & busan & 18\\\\\n\t 2 & 6 & 6 & 7 & 3 & 7 & 4 & 7 & 7 & female & yes & 4.50 & 7.00 & 3.75 & 2.00 & 2.67 & worker  & busan & 21\\\\\n\t 2 & 5 & 6 & 5 & 4 & 5 & 4 & 3 & 3 & male   & no  & 2.75 & 4.33 & 3.50 & 5.00 & 4.00 & worker  & busan & 19\\\\\n\t 2 & 4 & 2 & 4 & 3 & 5 & 1 & 1 & 1 & male   & no  & 1.00 & 1.00 & 6.00 & 7.00 & 7.00 & worker  & busan & 19\\\\\n\t 2 & 4 & 6 & 7 & 4 & 2 & 1 & 1 & 1 & male   & yes & 3.50 & 2.67 & 4.50 & 4.00 & 5.33 & worker  & busan & 19\\\\\n\t 2 & 2 & 6 & 7 & 4 & 7 & 4 & 7 & 7 & male   & yes & 3.00 & 3.67 & 1.25 & 6.00 & 2.67 & worker  & busan & 19\\\\\n\t 2 & 4 & 4 & 7 & 5 & 7 & 4 & 3 & 3 & male   & yes & 3.75 & 4.00 & 3.75 & 3.00 & 4.00 & worker  & busan & 19\\\\\n\t 2 & 3 & 5 & 5 & 4 & 5 & 4 & 5 & 5 & male   & yes & 1.50 & 3.00 & 3.75 & 3.33 & 4.00 & worker  & busan & 18\\\\\n\t 2 & 2 & 6 & 7 & 3 & 7 & 3 & 7 & 7 & male   & no  & 2.75 & 2.33 & 3.25 & 4.00 & 3.33 & worker  & busan & 19\\\\\n\t 2 & 2 & 6 & 7 & 7 & 7 & 7 & 7 & 7 & male   & no  & 5.00 & 2.67 & 1.00 & 1.67 & 1.00 & worker  & busan & 19\\\\\n\t ⋮ & ⋮ & ⋮ & ⋮ & ⋮ & ⋮ & ⋮ & ⋮ & ⋮ & ⋮ & ⋮ & ⋮ & ⋮ & ⋮ & ⋮ & ⋮ & ⋮ & ⋮ & ⋮\\\\\n\t 2 & 3 & 3 & 7 & 5 & 7 & 1 & 7 & 7 & female & yes & 2.00 & 4.00 & 4.75 & 3.00 & 4.00 & student & seoul & 19\\\\\n\t 2 & 7 & 7 & 7 & 4 & 7 & 3 & 7 & 7 & male   & yes & 5.75 & 5.00 & 5.25 & 3.67 & 4.00 & student & seoul & 23\\\\\n\t 2 & 5 & 7 & 7 & 5 & 7 & 2 & 7 & 7 & female & yes & 4.00 & 4.00 & 5.50 & 2.67 & 4.33 & student & seoul & 23\\\\\n\t 2 & 6 & 5 & 6 & 4 & 6 & 5 & 5 & 5 & male   & yes & 4.75 & 5.67 & 4.75 & 2.67 & 3.33 & student & seoul & 23\\\\\n\t 2 & 3 & 4 & 7 & 4 & 7 & 2 & 5 & 5 & male   & yes & 4.25 & 5.00 & 4.75 & 4.00 & 4.00 & student & seoul & 23\\\\\n\t 2 & 2 & 5 & 6 & 4 & 6 & 3 & 5 & 6 & male   & yes & 4.25 & 2.67 & 6.25 & 3.33 & 5.00 & student & seoul & 21\\\\\n\t 2 & 6 & 7 & 7 & 6 & 7 & 3 & 5 & 5 & female & yes & 4.25 & 5.00 & 2.00 & 3.00 & 3.33 & student & seoul & 20\\\\\n\t 2 & 6 & 5 & 6 & 4 & 5 & 4 & 5 & 5 & female & yes & 5.00 & 4.00 & 4.00 & 2.00 & 4.33 & student & seoul & 21\\\\\n\t 2 & 5 & 6 & 7 & 5 & 5 & 4 & 1 & 1 & female & yes & 5.00 & 5.33 & 6.00 & 4.00 & 4.00 & student & seoul & 21\\\\\n\t 2 & 6 & 7 & 6 & 4 & 6 & 4 & 5 & 6 & male   & yes & 5.00 & 3.67 & 4.00 & 3.67 & 4.33 & student & seoul & 22\\\\\n\t 2 & 4 & 6 & 7 & 5 & 7 & 7 & 7 & 7 & male   & yes & 1.00 & 6.00 & 1.00 & 1.00 & 3.00 & student & seoul & 22\\\\\n\t 2 & 3 & 1 & 5 & 1 & 5 & 3 & 1 & 2 & male   & yes & 1.00 & 1.67 & 1.00 & 7.00 & 4.00 & worker  & seoul & 24\\\\\n\t 2 & 5 & 5 & 7 & 6 & 7 & 4 & 1 & 1 & male   & yes & 2.00 & 4.00 & 2.00 & 2.00 & 3.00 & worker  & seoul & 23\\\\\n\t 2 & 5 & 6 & 6 & 5 & 7 & 4 & 2 & 2 & female & yes & 5.25 & 6.00 & 4.75 & 2.00 & 3.67 & worker  & seoul & 24\\\\\n\t 2 & 3 & 5 & 7 & 5 & 7 & 3 & 6 & 6 & female & yes & 1.75 & 2.33 & 5.25 & 4.67 & 4.00 & worker  & seoul & 19\\\\\n\t 2 & 7 & 5 & 7 & 5 & 7 & 6 & 7 & 7 & female & yes & 4.50 & 5.00 & 4.00 & 4.00 & 3.00 & worker  & seoul & 19\\\\\n\t 2 & 3 & 4 & 5 & 4 & 4 & 5 & 4 & 3 & male   & no  & 4.50 & 4.00 & 4.00 & 3.67 & 4.33 & worker  & seoul & 23\\\\\n\t 2 & 4 & 4 & 3 & 2 & 3 & 2 & 3 & 3 & female & yes & 2.75 & 2.00 & 3.50 & 2.33 & 4.00 & worker  & seoul & 21\\\\\n\t 2 & 5 & 6 & 4 & 5 & 6 & 6 & 5 & 4 & female & yes & 5.00 & 5.67 & 4.75 & 3.00 & 2.67 & worker  & seoul & 20\\\\\n\t 2 & 4 & 4 & 4 & 5 & 3 & 4 & 6 & 4 & male   & no  & 3.75 & 3.00 & 4.00 & 3.67 & 4.33 & worker  & seoul & 23\\\\\n\t 2 & 4 & 4 & 3 & 4 & 3 & 1 & 4 & 5 & male   & yes & 2.25 & 2.33 & 3.50 & 3.33 & 4.00 & worker  & seoul & 20\\\\\n\t 2 & 4 & 7 & 7 & 6 & 7 & 5 & 1 & 1 & female & yes & 1.00 & 7.00 & 5.00 & 4.00 & 4.33 & worker  & seoul & 20\\\\\n\t 2 & 4 & 6 & 7 & 2 & 7 & 6 & 6 & 6 & male   & yes & 5.50 & 5.00 & 4.00 & 4.67 & 4.33 & worker  & seoul & 24\\\\\n\t 2 & 1 & 5 & 7 & 4 & 7 & 2 & 7 & 7 & female & no  & 2.50 & 3.67 & 3.25 & 3.33 & 4.00 & worker  & seoul & 20\\\\\n\t 2 & 6 & 6 & 7 & 6 & 7 & 4 & 7 & 7 & female & no  & 5.25 & 3.67 & 6.00 & 3.33 & 3.33 & worker  & seoul & 22\\\\\n\t 2 & 4 & 7 & 7 & 4 & 7 & 3 & 4 & 4 & male   & no  & 5.25 & 5.00 & 4.75 & 3.33 & 5.33 & worker  & seoul & 22\\\\\n\t 2 & 5 & 3 & 6 & 6 & 5 & 2 & 6 & 6 & male   & no  & 4.75 & 6.00 & 5.50 & 1.67 & 4.33 & worker  & busan & 20\\\\\n\t 2 & 5 & 4 & 6 & 6 & 5 & 4 & 4 & 4 & female & no  & 3.00 & 3.00 & 4.25 & 3.00 & 3.33 & worker  & busan & 20\\\\\n\t 2 & 1 & 1 & 4 & 1 & 4 & 1 & 1 & 1 & female & yes & 1.00 & 1.00 & 1.00 & 4.00 & 4.00 & worker  & busan & 19\\\\\n\t 2 & 4 & 6 & 7 & 7 & 7 & 1 & 7 & 7 & male   & yes & 4.50 & 1.00 & 5.25 & 3.33 & 4.33 & worker  & busan & 19\\\\\n\\end{tabular}\n",
            "text/plain": [
              "    programtype dramapref varietypref brandaware brandpref programaware\n",
              "1   2           4         4           7          7         7           \n",
              "2   2           4         7           7          5         7           \n",
              "3   2           5         6           7          3         7           \n",
              "4   2           6         2           7          4         3           \n",
              "5   2           2         7           3          3         6           \n",
              "6   2           4         4           7          6         7           \n",
              "7   2           5         2           7          7         7           \n",
              "8   2           2         5           6          4         6           \n",
              "9   2           1         7           7          4         7           \n",
              "10  2           5         5           7          6         7           \n",
              "11  2           6         6           7          4         7           \n",
              "12  2           5         4           7          6         6           \n",
              "13  2           2         4           7          3         7           \n",
              "14  2           2         6           7          4         7           \n",
              "15  2           3         4           7          5         6           \n",
              "16  2           2         1           7          3         6           \n",
              "17  2           5         5           7          4         5           \n",
              "18  2           6         4           7          3         7           \n",
              "19  2           3         1           7          4         7           \n",
              "20  2           7         5           1          4         1           \n",
              "21  2           4         4           6          3         6           \n",
              "22  2           6         6           7          3         7           \n",
              "23  2           5         6           5          4         5           \n",
              "24  2           4         2           4          3         5           \n",
              "25  2           4         6           7          4         2           \n",
              "26  2           2         6           7          4         7           \n",
              "27  2           4         4           7          5         7           \n",
              "28  2           3         5           5          4         5           \n",
              "29  2           2         6           7          3         7           \n",
              "30  2           2         6           7          7         7           \n",
              "⋮   ⋮           ⋮         ⋮           ⋮          ⋮         ⋮           \n",
              "147 2           3         3           7          5         7           \n",
              "148 2           7         7           7          4         7           \n",
              "149 2           5         7           7          5         7           \n",
              "150 2           6         5           6          4         6           \n",
              "151 2           3         4           7          4         7           \n",
              "152 2           2         5           6          4         6           \n",
              "153 2           6         7           7          6         7           \n",
              "154 2           6         5           6          4         5           \n",
              "155 2           5         6           7          5         5           \n",
              "156 2           6         7           6          4         6           \n",
              "157 2           4         6           7          5         7           \n",
              "158 2           3         1           5          1         5           \n",
              "159 2           5         5           7          6         7           \n",
              "160 2           5         6           6          5         7           \n",
              "161 2           3         5           7          5         7           \n",
              "162 2           7         5           7          5         7           \n",
              "163 2           3         4           5          4         4           \n",
              "164 2           4         4           3          2         3           \n",
              "165 2           5         6           4          5         6           \n",
              "166 2           4         4           4          5         3           \n",
              "167 2           4         4           3          4         3           \n",
              "168 2           4         7           7          6         7           \n",
              "169 2           4         6           7          2         7           \n",
              "170 2           1         5           7          4         7           \n",
              "171 2           6         6           7          6         7           \n",
              "172 2           4         7           7          4         7           \n",
              "173 2           5         3           6          6         5           \n",
              "174 2           5         4           6          6         5           \n",
              "175 2           1         1           4          1         4           \n",
              "176 2           4         6           7          7         7           \n",
              "    programpref modelaware modelpref gender pplaware fun  like reactance\n",
              "1   4           1          1         female yes      5.00 4.00 6.00     \n",
              "2   5           7          7         male   yes      3.50 6.67 6.00     \n",
              "3   4           7          7         female yes      4.75 5.00 2.75     \n",
              "4   2           2          2         female no       3.75 2.00 4.00     \n",
              "5   4           6          6         male   yes      5.00 5.33 4.00     \n",
              "6   4           7          7         female yes      3.50 3.67 3.75     \n",
              "7   1           7          3         female yes      5.25 2.33 6.75     \n",
              "8   3           5          5         male   yes      4.00 4.00 5.00     \n",
              "9   5           7          7         male   yes      3.75 4.00 3.00     \n",
              "10  6           7          7         female yes      3.50 3.67 2.00     \n",
              "11  4           5          5         male   yes      5.00 3.67 3.25     \n",
              "12  4           5          5         female yes      5.00 2.67 4.00     \n",
              "13  3           6          7         male   yes      4.75 2.33 3.50     \n",
              "14  1           7          7         female yes      5.50 7.00 5.75     \n",
              "15  4           5          5         male   yes      2.75 3.33 3.50     \n",
              "16  1           6          6         female yes      1.50 1.00 1.75     \n",
              "17  4           5          6         female yes      2.50 3.33 4.50     \n",
              "18  3           7          7         female yes      3.75 1.00 5.50     \n",
              "19  1           4          4         female yes      1.00 2.00 6.25     \n",
              "20  6           1          4         female yes      4.50 4.00 3.50     \n",
              "21  5           6          6         male   yes      4.00 1.67 1.00     \n",
              "22  4           7          7         female yes      4.50 7.00 3.75     \n",
              "23  4           3          3         male   no       2.75 4.33 3.50     \n",
              "24  1           1          1         male   no       1.00 1.00 6.00     \n",
              "25  1           1          1         male   yes      3.50 2.67 4.50     \n",
              "26  4           7          7         male   yes      3.00 3.67 1.25     \n",
              "27  4           3          3         male   yes      3.75 4.00 3.75     \n",
              "28  4           5          5         male   yes      1.50 3.00 3.75     \n",
              "29  3           7          7         male   no       2.75 2.33 3.25     \n",
              "30  7           7          7         male   no       5.00 2.67 1.00     \n",
              "⋮   ⋮           ⋮          ⋮         ⋮      ⋮        ⋮    ⋮    ⋮        \n",
              "147 1           7          7         female yes      2.00 4.00 4.75     \n",
              "148 3           7          7         male   yes      5.75 5.00 5.25     \n",
              "149 2           7          7         female yes      4.00 4.00 5.50     \n",
              "150 5           5          5         male   yes      4.75 5.67 4.75     \n",
              "151 2           5          5         male   yes      4.25 5.00 4.75     \n",
              "152 3           5          6         male   yes      4.25 2.67 6.25     \n",
              "153 3           5          5         female yes      4.25 5.00 2.00     \n",
              "154 4           5          5         female yes      5.00 4.00 4.00     \n",
              "155 4           1          1         female yes      5.00 5.33 6.00     \n",
              "156 4           5          6         male   yes      5.00 3.67 4.00     \n",
              "157 7           7          7         male   yes      1.00 6.00 1.00     \n",
              "158 3           1          2         male   yes      1.00 1.67 1.00     \n",
              "159 4           1          1         male   yes      2.00 4.00 2.00     \n",
              "160 4           2          2         female yes      5.25 6.00 4.75     \n",
              "161 3           6          6         female yes      1.75 2.33 5.25     \n",
              "162 6           7          7         female yes      4.50 5.00 4.00     \n",
              "163 5           4          3         male   no       4.50 4.00 4.00     \n",
              "164 2           3          3         female yes      2.75 2.00 3.50     \n",
              "165 6           5          4         female yes      5.00 5.67 4.75     \n",
              "166 4           6          4         male   no       3.75 3.00 4.00     \n",
              "167 1           4          5         male   yes      2.25 2.33 3.50     \n",
              "168 5           1          1         female yes      1.00 7.00 5.00     \n",
              "169 6           6          6         male   yes      5.50 5.00 4.00     \n",
              "170 2           7          7         female no       2.50 3.67 3.25     \n",
              "171 4           7          7         female no       5.25 3.67 6.00     \n",
              "172 3           4          4         male   no       5.25 5.00 4.75     \n",
              "173 2           6          6         male   no       4.75 6.00 5.50     \n",
              "174 4           4          4         female no       3.00 3.00 4.25     \n",
              "175 1           1          1         female yes      1.00 1.00 1.00     \n",
              "176 1           7          7         male   yes      4.50 1.00 5.25     \n",
              "    brandattitude programattitude job     city  age\n",
              "1   3.00          3.33            student busan 22 \n",
              "2   2.00          2.33            student busan 24 \n",
              "3   4.33          3.67            student busan 20 \n",
              "4   6.00          4.00            student busan 23 \n",
              "5   5.67          3.67            student busan 22 \n",
              "6   3.33          4.00            student busan 21 \n",
              "7   1.00          7.00            student busan 22 \n",
              "8   3.00          3.33            student busan 23 \n",
              "9   2.00          1.67            student busan 25 \n",
              "10  5.33          1.67            student busan 21 \n",
              "11  5.33          4.00            student busan 25 \n",
              "12  1.67          3.33            student busan 23 \n",
              "13  5.67          5.67            student busan 25 \n",
              "14  1.00          7.00            student busan 22 \n",
              "15  4.33          2.67            student busan 25 \n",
              "16  2.00          3.67            student busan 22 \n",
              "17  2.00          6.00            student busan 22 \n",
              "18  6.67          7.00            student busan 22 \n",
              "19  7.00          6.67            student busan 19 \n",
              "20  3.00          3.00            worker  busan 21 \n",
              "21  4.33          4.33            worker  busan 18 \n",
              "22  2.00          2.67            worker  busan 21 \n",
              "23  5.00          4.00            worker  busan 19 \n",
              "24  7.00          7.00            worker  busan 19 \n",
              "25  4.00          5.33            worker  busan 19 \n",
              "26  6.00          2.67            worker  busan 19 \n",
              "27  3.00          4.00            worker  busan 19 \n",
              "28  3.33          4.00            worker  busan 18 \n",
              "29  4.00          3.33            worker  busan 19 \n",
              "30  1.67          1.00            worker  busan 19 \n",
              "⋮   ⋮             ⋮               ⋮       ⋮     ⋮  \n",
              "147 3.00          4.00            student seoul 19 \n",
              "148 3.67          4.00            student seoul 23 \n",
              "149 2.67          4.33            student seoul 23 \n",
              "150 2.67          3.33            student seoul 23 \n",
              "151 4.00          4.00            student seoul 23 \n",
              "152 3.33          5.00            student seoul 21 \n",
              "153 3.00          3.33            student seoul 20 \n",
              "154 2.00          4.33            student seoul 21 \n",
              "155 4.00          4.00            student seoul 21 \n",
              "156 3.67          4.33            student seoul 22 \n",
              "157 1.00          3.00            student seoul 22 \n",
              "158 7.00          4.00            worker  seoul 24 \n",
              "159 2.00          3.00            worker  seoul 23 \n",
              "160 2.00          3.67            worker  seoul 24 \n",
              "161 4.67          4.00            worker  seoul 19 \n",
              "162 4.00          3.00            worker  seoul 19 \n",
              "163 3.67          4.33            worker  seoul 23 \n",
              "164 2.33          4.00            worker  seoul 21 \n",
              "165 3.00          2.67            worker  seoul 20 \n",
              "166 3.67          4.33            worker  seoul 23 \n",
              "167 3.33          4.00            worker  seoul 20 \n",
              "168 4.00          4.33            worker  seoul 20 \n",
              "169 4.67          4.33            worker  seoul 24 \n",
              "170 3.33          4.00            worker  seoul 20 \n",
              "171 3.33          3.33            worker  seoul 22 \n",
              "172 3.33          5.33            worker  seoul 22 \n",
              "173 1.67          4.33            worker  busan 20 \n",
              "174 3.00          3.33            worker  busan 20 \n",
              "175 4.00          4.00            worker  busan 19 \n",
              "176 3.33          4.33            worker  busan 19 "
            ]
          },
          "metadata": {}
        },
        {
          "output_type": "stream",
          "name": "stdout",
          "text": [
            "    programtype dramapref varietypref brandaware brandpref programaware\n",
            "1             2         4           4          7         7            7\n",
            "2             2         4           7          7         5            7\n",
            "3             2         5           6          7         3            7\n",
            "4             2         6           2          7         4            3\n",
            "5             2         2           7          3         3            6\n",
            "6             2         4           4          7         6            7\n",
            "7             2         5           2          7         7            7\n",
            "8             2         2           5          6         4            6\n",
            "9             2         1           7          7         4            7\n",
            "10            2         5           5          7         6            7\n",
            "11            2         6           6          7         4            7\n",
            "12            2         5           4          7         6            6\n",
            "13            2         2           4          7         3            7\n",
            "14            2         2           6          7         4            7\n",
            "15            2         3           4          7         5            6\n",
            "16            2         2           1          7         3            6\n",
            "17            2         5           5          7         4            5\n",
            "18            2         6           4          7         3            7\n",
            "19            2         3           1          7         4            7\n",
            "20            2         7           5          1         4            1\n",
            "21            2         4           4          6         3            6\n",
            "22            2         6           6          7         3            7\n",
            "23            2         5           6          5         4            5\n",
            "24            2         4           2          4         3            5\n",
            "25            2         4           6          7         4            2\n",
            "26            2         2           6          7         4            7\n",
            "27            2         4           4          7         5            7\n",
            "28            2         3           5          5         4            5\n",
            "29            2         2           6          7         3            7\n",
            "30            2         2           6          7         7            7\n",
            "31            2         4           4          7         5            6\n",
            "32            2         7           6          7         5            7\n",
            "33            2         5           4          5         5            5\n",
            "34            2         7           4          7         4            7\n",
            "35            2         5           6          6         5            6\n",
            "36            2         4           4          6         2            4\n",
            "37            2         4           4          7         2            7\n",
            "38            2         4           4          4         3            5\n",
            "39            2         5           5          5         4            7\n",
            "40            2         3           7          7         4            7\n",
            "41            1         4           4          4         1            1\n",
            "42            1         5           6          6         5            5\n",
            "43            1         6           6          7         2            4\n",
            "44            1         6           5          6         4            6\n",
            "45            1         5           6          7         5            3\n",
            "46            1         4           7          5         3            1\n",
            "47            1         7           6          7         6            4\n",
            "48            1         2           5          7         7            1\n",
            "49            1         4           6          7         4            5\n",
            "50            1         4           3          5         4            2\n",
            "51            1         4           6          7         2            1\n",
            "52            1         5           3          3         4            5\n",
            "53            1         3           6          5         3            5\n",
            "54            1         4           3          7         4            1\n",
            "55            1         6           6          7         4            1\n",
            "56            1         3           6          6         2            6\n",
            "57            1         5           6          7         4            7\n",
            "58            1         5           5          5         4            5\n",
            "59            1         5           6          6         5            5\n",
            "60            1         6           6          5         5            5\n",
            "61            1         4           6          7         4            5\n",
            "62            1         7           5          7         4            5\n",
            "63            1         4           5          7         4            7\n",
            "64            1         4           5          6         2            6\n",
            "65            1         7           4          2         4            4\n",
            "66            1         4           4          2         3            5\n",
            "67            1         4           4          7         2            7\n",
            "68            1         6           6          4         2            5\n",
            "69            1         6           2          1         5            1\n",
            "70            1         3           6          6         4            3\n",
            "71            1         6           6          5         4            5\n",
            "72            1         4           5          4         5            6\n",
            "73            1         4           5          7         4            7\n",
            "74            1         4           4          4         4            4\n",
            "75            1         4           4          6         5            5\n",
            "76            1         1           4          6         1            2\n",
            "77            1         2           6          7         6            4\n",
            "78            1         3           5          5         4            1\n",
            "79            1         4           4          5         4            5\n",
            "80            1         2           4          6         4            4\n",
            "81            1         6           5          7         4            5\n",
            "82            1         6           7          7         4            7\n",
            "83            1         6           6          6         5            6\n",
            "84            1         4           5          7         3            7\n",
            "85            1         4           4          4         3            5\n",
            "86            1         4           5          7         5            4\n",
            "87            1         6           6          5         4            5\n",
            "88            1         2           5          7         2            5\n",
            "89            1         2           5          7         7            3\n",
            "90            1         6           6          7         3            5\n",
            "91            1         4           1          6         4            6\n",
            "92            1         3           6          7         2            7\n",
            "93            1         4           4          7         3            7\n",
            "94            1         1           7          7         4            7\n",
            "95            1         4           6          5         4            5\n",
            "96            1         6           6          1         1            1\n",
            "97            1         5           6          5         2            5\n",
            "98            1         4           6          6         5            3\n",
            "99            1         4           6          6         3            4\n",
            "100           1         3           5          6         4            6\n",
            "101           1         5           5          6         4            3\n",
            "102           1         4           4          2         2            5\n",
            "103           1         6           6          7         1            7\n",
            "104           1         4           6          7         4            5\n",
            "105           1         4           6          6         5            5\n",
            "106           1         7           4          4         3            5\n",
            "107           1         4           5          2         3            7\n",
            "108           1         2           6          6         6            4\n",
            "109           1         6           6          6         4            5\n",
            "110           1         4           5          5         4            4\n",
            "111           1         7           2          7         3            7\n",
            "112           1         4           5          7         4            7\n",
            "113           1         5           7          7         5            7\n",
            "114           1         1           1          6         4            6\n",
            "115           1         4           2          4         4            5\n",
            "116           1         2           5          4         4            4\n",
            "117           1         3           4          7         4            7\n",
            "118           1         4           6          7         4            7\n",
            "119           1         4           5          7         4            4\n",
            "120           1         5           5          6         4            5\n",
            "121           1         4           6          1         4            7\n",
            "122           1         5           6          7         5            6\n",
            "123           1         7           5          6         4            6\n",
            "124           1         4           6          7         3            5\n",
            "125           1         4           6          7         4            7\n",
            "126           1         5           5          7         4            7\n",
            "127           1         6           7          7         4            7\n",
            "128           1         6           4          7         3            7\n",
            "129           2         4           6          6         4            6\n",
            "130           2         5           3          7         6            7\n",
            "131           2         4           4          6         6            5\n",
            "132           2         4           5          4         3            4\n",
            "133           2         5           6          7         6            6\n",
            "134           2         3           5          7         4            7\n",
            "135           2         3           7          7         5            7\n",
            "136           2         1           1          4         4            4\n",
            "137           2         4           2          7         5            7\n",
            "138           2         3           5          7         5            7\n",
            "139           2         5           7          6         6            6\n",
            "140           2         4           6          7         6            7\n",
            "141           2         7           6          7         4            7\n",
            "142           2         2           7          7         5            7\n",
            "143           2         6           5          5         4            6\n",
            "144           2         4           1          7         3            7\n",
            "145           2         6           6          7         4            7\n",
            "146           2         4           6          7         2            7\n",
            "147           2         3           3          7         5            7\n",
            "148           2         7           7          7         4            7\n",
            "149           2         5           7          7         5            7\n",
            "150           2         6           5          6         4            6\n",
            "151           2         3           4          7         4            7\n",
            "152           2         2           5          6         4            6\n",
            "153           2         6           7          7         6            7\n",
            "154           2         6           5          6         4            5\n",
            "155           2         5           6          7         5            5\n",
            "156           2         6           7          6         4            6\n",
            "157           2         4           6          7         5            7\n",
            "158           2         3           1          5         1            5\n",
            "159           2         5           5          7         6            7\n",
            "160           2         5           6          6         5            7\n",
            "161           2         3           5          7         5            7\n",
            "162           2         7           5          7         5            7\n",
            "163           2         3           4          5         4            4\n",
            "164           2         4           4          3         2            3\n",
            "165           2         5           6          4         5            6\n",
            "166           2         4           4          4         5            3\n",
            "167           2         4           4          3         4            3\n",
            "168           2         4           7          7         6            7\n",
            "169           2         4           6          7         2            7\n",
            "170           2         1           5          7         4            7\n",
            "171           2         6           6          7         6            7\n",
            "172           2         4           7          7         4            7\n",
            "173           2         5           3          6         6            5\n",
            "174           2         5           4          6         6            5\n",
            "175           2         1           1          4         1            4\n",
            "176           2         4           6          7         7            7\n",
            "    programpref modelaware modelpref gender pplaware  fun like reactance\n",
            "1             4          1         1 female      yes 5.00 4.00      6.00\n",
            "2             5          7         7   male      yes 3.50 6.67      6.00\n",
            "3             4          7         7 female      yes 4.75 5.00      2.75\n",
            "4             2          2         2 female       no 3.75 2.00      4.00\n",
            "5             4          6         6   male      yes 5.00 5.33      4.00\n",
            "6             4          7         7 female      yes 3.50 3.67      3.75\n",
            "7             1          7         3 female      yes 5.25 2.33      6.75\n",
            "8             3          5         5   male      yes 4.00 4.00      5.00\n",
            "9             5          7         7   male      yes 3.75 4.00      3.00\n",
            "10            6          7         7 female      yes 3.50 3.67      2.00\n",
            "11            4          5         5   male      yes 5.00 3.67      3.25\n",
            "12            4          5         5 female      yes 5.00 2.67      4.00\n",
            "13            3          6         7   male      yes 4.75 2.33      3.50\n",
            "14            1          7         7 female      yes 5.50 7.00      5.75\n",
            "15            4          5         5   male      yes 2.75 3.33      3.50\n",
            "16            1          6         6 female      yes 1.50 1.00      1.75\n",
            "17            4          5         6 female      yes 2.50 3.33      4.50\n",
            "18            3          7         7 female      yes 3.75 1.00      5.50\n",
            "19            1          4         4 female      yes 1.00 2.00      6.25\n",
            "20            6          1         4 female      yes 4.50 4.00      3.50\n",
            "21            5          6         6   male      yes 4.00 1.67      1.00\n",
            "22            4          7         7 female      yes 4.50 7.00      3.75\n",
            "23            4          3         3   male       no 2.75 4.33      3.50\n",
            "24            1          1         1   male       no 1.00 1.00      6.00\n",
            "25            1          1         1   male      yes 3.50 2.67      4.50\n",
            "26            4          7         7   male      yes 3.00 3.67      1.25\n",
            "27            4          3         3   male      yes 3.75 4.00      3.75\n",
            "28            4          5         5   male      yes 1.50 3.00      3.75\n",
            "29            3          7         7   male       no 2.75 2.33      3.25\n",
            "30            7          7         7   male       no 5.00 2.67      1.00\n",
            "31            5          2         2   male      yes 3.25 1.00      1.00\n",
            "32            5          2         2 female      yes 5.75 7.00      2.25\n",
            "33            5          5         5 female      yes 3.75 4.00      4.25\n",
            "34            6          7         7 female      yes 5.25 6.00      7.00\n",
            "35            4          2         2   male       no 4.25 6.00      5.00\n",
            "36            1          4         1 female       no 1.75 3.33      4.75\n",
            "37            2          1         1   male      yes 4.25 4.00      4.25\n",
            "38            4          2         4   male       no 3.50 3.67      6.50\n",
            "39            4          5         5 female       no 5.25 6.67      2.75\n",
            "40            4          7         7 female       no 4.50 7.00      2.75\n",
            "41            1          1         1   male       no 2.50 1.00      1.00\n",
            "42            4          6         4   male      yes 3.50 3.67      5.25\n",
            "43            3          2         2   male      yes 4.75 4.33      4.25\n",
            "44            5          5         4 female      yes 5.50 5.67      5.25\n",
            "45            4          1         5   male      yes 6.75 4.33      7.00\n",
            "46            4          1         1   male      yes 5.50 5.00      6.50\n",
            "47            4          1         4 female      yes 6.50 5.67      6.75\n",
            "48            3          2         3   male      yes 5.25 4.33      6.75\n",
            "49            4          4         4 female      yes 5.25 3.33      5.50\n",
            "50            3          3         3   male      yes 3.75 2.00      2.75\n",
            "51            1          1         1   male      yes 5.75 4.00      6.00\n",
            "52            3          4         5   male      yes 2.75 5.00      6.25\n",
            "53            3          3         3   male      yes 3.75 3.33      4.50\n",
            "54            4          7         6 female      yes 2.50 3.00      3.50\n",
            "55            4          1         4   male      yes 2.00 1.00      4.00\n",
            "56            2          6         4 female      yes 3.75 2.00      4.75\n",
            "57            6          7         1 female      yes 2.25 1.00      7.00\n",
            "58            4          4         4   male       no 4.50 1.00      4.25\n",
            "59            4          4         4   male       no 4.50 1.00      4.25\n",
            "60            6          5         4   male       no 5.75 4.67      5.25\n",
            "61            4          7         4 female       no 4.75 3.00      4.00\n",
            "62            2          4         4 female       no 1.00 4.67      4.50\n",
            "63            4          1         1 female       no 5.75 1.00      2.75\n",
            "64            3          1         1 female       no 3.00 4.00      6.75\n",
            "65            3          4         4 female       no 4.75 5.33      4.75\n",
            "66            4          5         4 female       no 3.00 1.67      5.25\n",
            "67            1          1         1 female      yes 4.00 3.33      4.75\n",
            "68            5          5         3 female      yes 2.25 2.00      4.75\n",
            "69            5          1         1 female      yes 2.25 2.67      5.00\n",
            "70            3          2         2   male      yes 1.75 3.00      4.25\n",
            "71            4          1         1 female      yes 4.75 4.00      4.25\n",
            "72            3          5         5   male      yes 3.25 3.00      4.00\n",
            "73            3          1         1   male      yes 4.50 1.33      5.00\n",
            "74            4          4         4   male      yes 1.50 1.00      4.00\n",
            "75            4          2         1   male      yes 3.50 3.00      4.00\n",
            "76            1          1         1   male      yes 1.00 1.00      5.50\n",
            "77            2          1         1   male      yes 3.75 3.33      7.00\n",
            "78            1          1         1   male      yes 1.25 3.67      6.50\n",
            "79            5          3         4 female      yes 4.50 4.00      6.00\n",
            "80            3          3         3   male      yes 3.00 2.00      5.00\n",
            "81            3          4         3   male      yes 4.50 4.00      5.00\n",
            "82            4          2         1   male      yes 4.25 4.00      2.50\n",
            "83            5          5         4   male      yes 6.00 4.67      4.50\n",
            "84            1          7         4 female      yes 5.00 5.00      6.00\n",
            "85            2          6         1   male      yes 3.50 2.00      5.50\n",
            "86            4          2         2   male      yes 3.00 3.33      6.50\n",
            "87            4          4         2 female      yes 4.00 4.33      5.00\n",
            "88            2          4         1   male      yes 1.50 5.33      5.75\n",
            "89            3          1         1   male      yes 2.75 2.00      5.50\n",
            "90            4          6         1 female      yes 5.25 4.00      5.50\n",
            "91            3          3         3   male      yes 3.75 4.67      6.00\n",
            "92            1          1         3   male      yes 3.00 2.00      6.25\n",
            "93            3          2         2   male      yes 2.00 3.67      6.50\n",
            "94            1          7         4   male      yes 2.50 1.00      4.00\n",
            "95            3          2         2   male       no 4.25 5.67      7.00\n",
            "96            1          1         1   male       no 5.25 4.00      2.00\n",
            "97            4          5         3   male       no 5.00 4.00      3.75\n",
            "98            2          2         2   male       no 4.75 2.33      2.00\n",
            "99            3          2         2   male       no 4.25 3.00      5.00\n",
            "100           4          2         2   male       no 2.00 1.00      5.00\n",
            "101           3          3         3   male       no 5.00 4.00      5.00\n",
            "102           2          1         1   male       no 4.00 2.33      7.00\n",
            "103           4          2         4 female      yes 3.25 3.00      5.25\n",
            "104           4          7         5   male      yes 2.75 2.33      6.25\n",
            "105           4          5         4   male      yes 4.50 4.00      3.75\n",
            "106           3          5         3 female      yes 4.75 4.00      3.75\n",
            "107           4          4         3   male      yes 3.00 1.00      1.00\n",
            "108           3          6         6   male      yes 3.75 5.00      5.00\n",
            "109           4          6         4   male      yes 4.00 4.67      6.00\n",
            "110           4          4         4   male      yes 3.75 3.67      6.25\n",
            "111           5          6         3 female      yes 2.75 4.33      5.25\n",
            "112           2          1         1   male      yes 4.00 4.33      6.00\n",
            "113           3          1         1 female      yes 5.50 6.00      6.25\n",
            "114           2          2         2   male      yes 6.00 4.00      6.00\n",
            "115           3          4         3 female      yes 4.75 2.67      4.00\n",
            "116           4          4         4   male      yes 3.50 2.33      6.75\n",
            "117           4          7         4   male      yes 1.75 3.00      5.75\n",
            "118           4          1         1   male      yes 3.00 1.00      5.00\n",
            "119           3          7         4   male      yes 4.25 6.00      5.25\n",
            "120           3          1         1   male      yes 4.25 3.67      4.50\n",
            "121           1          1         1 female      yes 4.75 2.67      3.00\n",
            "122           3          5         4   male      yes 5.25 3.67      5.00\n",
            "123           4          6         4   male      yes 1.00 1.00      2.00\n",
            "124           4          2         2   male      yes 3.75 4.00      6.00\n",
            "125           4          1         7   male      yes 1.00 2.00      7.00\n",
            "126           5          6         3   male      yes 5.50 5.00      6.50\n",
            "127           1          1         1   male      yes 5.50 3.67      7.00\n",
            "128           3          1         1 female      yes 1.75 1.67      6.50\n",
            "129           3          4         4   male       no 3.75 3.67      4.25\n",
            "130           4          7         7   male      yes 4.75 4.00      5.50\n",
            "131           5          5         5 female      yes 4.75 6.00      5.25\n",
            "132           3          4         3   male      yes 3.50 3.67      3.50\n",
            "133           4          5         6   male      yes 5.00 4.67      3.25\n",
            "134           4          7         6 female      yes 2.50 5.00      6.50\n",
            "135           4          7         7   male      yes 5.75 6.67      2.50\n",
            "136           4          4         4   male      yes 3.00 1.00      4.00\n",
            "137           7          7         7   male      yes 4.00 4.00      1.50\n",
            "138           3          6         5   male      yes 3.75 3.33      5.25\n",
            "139           6          6         6   male      yes 3.50 3.33      4.75\n",
            "140           1          7         7   male      yes 5.50 3.33      4.25\n",
            "141           3          2         1 female      yes 1.00 6.33      6.50\n",
            "142           2          7         7   male      yes 3.75 2.67      5.75\n",
            "143           3          5         6   male       no 4.75 5.33      3.75\n",
            "144           1          7         7   male       no 1.00 1.00      5.00\n",
            "145           2          7         7   male       no 2.25 6.00      2.75\n",
            "146           4          6         6   male      yes 3.25 6.67      5.75\n",
            "147           1          7         7 female      yes 2.00 4.00      4.75\n",
            "148           3          7         7   male      yes 5.75 5.00      5.25\n",
            "149           2          7         7 female      yes 4.00 4.00      5.50\n",
            "150           5          5         5   male      yes 4.75 5.67      4.75\n",
            "151           2          5         5   male      yes 4.25 5.00      4.75\n",
            "152           3          5         6   male      yes 4.25 2.67      6.25\n",
            "153           3          5         5 female      yes 4.25 5.00      2.00\n",
            "154           4          5         5 female      yes 5.00 4.00      4.00\n",
            "155           4          1         1 female      yes 5.00 5.33      6.00\n",
            "156           4          5         6   male      yes 5.00 3.67      4.00\n",
            "157           7          7         7   male      yes 1.00 6.00      1.00\n",
            "158           3          1         2   male      yes 1.00 1.67      1.00\n",
            "159           4          1         1   male      yes 2.00 4.00      2.00\n",
            "160           4          2         2 female      yes 5.25 6.00      4.75\n",
            "161           3          6         6 female      yes 1.75 2.33      5.25\n",
            "162           6          7         7 female      yes 4.50 5.00      4.00\n",
            "163           5          4         3   male       no 4.50 4.00      4.00\n",
            "164           2          3         3 female      yes 2.75 2.00      3.50\n",
            "165           6          5         4 female      yes 5.00 5.67      4.75\n",
            "166           4          6         4   male       no 3.75 3.00      4.00\n",
            "167           1          4         5   male      yes 2.25 2.33      3.50\n",
            "168           5          1         1 female      yes 1.00 7.00      5.00\n",
            "169           6          6         6   male      yes 5.50 5.00      4.00\n",
            "170           2          7         7 female       no 2.50 3.67      3.25\n",
            "171           4          7         7 female       no 5.25 3.67      6.00\n",
            "172           3          4         4   male       no 5.25 5.00      4.75\n",
            "173           2          6         6   male       no 4.75 6.00      5.50\n",
            "174           4          4         4 female       no 3.00 3.00      4.25\n",
            "175           1          1         1 female      yes 1.00 1.00      1.00\n",
            "176           1          7         7   male      yes 4.50 1.00      5.25\n",
            "    brandattitude programattitude     job  city age\n",
            "1            3.00            3.33 student busan  22\n",
            "2            2.00            2.33 student busan  24\n",
            "3            4.33            3.67 student busan  20\n",
            "4            6.00            4.00 student busan  23\n",
            "5            5.67            3.67 student busan  22\n",
            "6            3.33            4.00 student busan  21\n",
            "7            1.00            7.00 student busan  22\n",
            "8            3.00            3.33 student busan  23\n",
            "9            2.00            1.67 student busan  25\n",
            "10           5.33            1.67 student busan  21\n",
            "11           5.33            4.00 student busan  25\n",
            "12           1.67            3.33 student busan  23\n",
            "13           5.67            5.67 student busan  25\n",
            "14           1.00            7.00 student busan  22\n",
            "15           4.33            2.67 student busan  25\n",
            "16           2.00            3.67 student busan  22\n",
            "17           2.00            6.00 student busan  22\n",
            "18           6.67            7.00 student busan  22\n",
            "19           7.00            6.67 student busan  19\n",
            "20           3.00            3.00  worker busan  21\n",
            "21           4.33            4.33  worker busan  18\n",
            "22           2.00            2.67  worker busan  21\n",
            "23           5.00            4.00  worker busan  19\n",
            "24           7.00            7.00  worker busan  19\n",
            "25           4.00            5.33  worker busan  19\n",
            "26           6.00            2.67  worker busan  19\n",
            "27           3.00            4.00  worker busan  19\n",
            "28           3.33            4.00  worker busan  18\n",
            "29           4.00            3.33  worker busan  19\n",
            "30           1.67            1.00  worker busan  19\n",
            "31           7.00            4.00  worker busan  19\n",
            "32           2.33            2.33  worker seoul  25\n",
            "33           4.00            4.00  worker seoul  20\n",
            "34           7.00            5.00  worker seoul  19\n",
            "35           2.00            4.00  worker seoul  21\n",
            "36           4.33            7.00 student seoul  37\n",
            "37           6.00            6.00 student seoul  23\n",
            "38           2.00            4.00 student seoul  19\n",
            "39           2.67            2.67 student seoul  26\n",
            "40           3.00            3.33 student seoul  23\n",
            "41           7.00            5.00 student seoul  22\n",
            "42           3.00            4.00 student seoul  25\n",
            "43           4.33            3.67 student seoul  18\n",
            "44           4.67            3.67 student seoul  19\n",
            "45           6.33            4.33 student seoul  26\n",
            "46           5.67            5.00 student seoul  28\n",
            "47           4.67            5.33 student seoul  26\n",
            "48           6.00            5.33 student seoul  23\n",
            "49           5.00            3.67 student seoul  19\n",
            "50           3.67            4.00 student seoul  18\n",
            "51           6.00            5.33 student seoul  21\n",
            "52           7.00            5.00 student seoul  19\n",
            "53           4.00            4.00  worker seoul  19\n",
            "54           3.67            3.33  worker seoul  35\n",
            "55           6.00            2.33  worker seoul  25\n",
            "56           3.67            4.67  worker seoul  24\n",
            "57           4.00            6.33  worker seoul  24\n",
            "58           4.00            4.00  worker seoul  27\n",
            "59           2.67            2.67  worker seoul  30\n",
            "60           2.33            2.67  worker seoul  27\n",
            "61           3.67            3.33  worker seoul  31\n",
            "62           4.00            4.00  worker seoul  25\n",
            "63           3.00            1.67  worker seoul  29\n",
            "64           7.00            4.33  worker seoul  24\n",
            "65           5.00            4.33  worker seoul  27\n",
            "66           4.00            2.67  worker seoul  36\n",
            "67           2.67            6.00  worker seoul  30\n",
            "68           4.00            2.00  worker seoul  26\n",
            "69           2.00            3.33  worker seoul  25\n",
            "70           2.67            2.67  worker seoul  22\n",
            "71           4.00            4.00  worker busan  22\n",
            "72           3.00            4.00  worker busan  20\n",
            "73           3.33            4.33  worker busan  23\n",
            "74           4.00            3.00  worker busan  23\n",
            "75           3.00            3.33 student busan  19\n",
            "76           7.00            4.00 student busan  19\n",
            "77           5.33            6.33 student busan  22\n",
            "78           5.00            5.33 student busan  21\n",
            "79           3.67            3.67 student busan  19\n",
            "80           4.00            5.00 student busan  20\n",
            "81           5.00            3.33 student busan  22\n",
            "82           7.00            5.00 student busan  23\n",
            "83           6.00            2.33 student busan  22\n",
            "84           5.00            4.33 student busan  21\n",
            "85           4.67            4.33 student busan  22\n",
            "86           6.00            4.00 student busan  21\n",
            "87           3.00            4.00 student busan  22\n",
            "88           4.00            6.33 student busan  22\n",
            "89           7.00            5.67 student busan  19\n",
            "90           5.00            2.67 student busan  21\n",
            "91           4.00            4.00 student busan  28\n",
            "92           4.00            5.33 student busan  20\n",
            "93           6.00            6.33 student busan  22\n",
            "94           5.33            3.33 student busan  23\n",
            "95           3.33            5.67 student busan  22\n",
            "96           7.00            4.00 student busan  24\n",
            "97           3.00            3.67 student busan  25\n",
            "98           4.00            3.33 student busan  23\n",
            "99           4.67            4.00 student seoul  24\n",
            "100          6.00            4.00 student seoul  22\n",
            "101          4.00            4.00 student seoul  19\n",
            "102          7.00            6.00 student seoul  20\n",
            "103          2.00            4.00 student seoul  21\n",
            "104          4.67            6.00 student seoul  25\n",
            "105          3.33            3.33 student seoul  23\n",
            "106          2.67            3.67 student seoul  23\n",
            "107          7.00            4.00 student seoul  20\n",
            "108          2.67            2.33 student seoul  25\n",
            "109          4.67            3.67 student seoul  24\n",
            "110          3.67            4.00  worker seoul  22\n",
            "111          1.00            3.33  worker seoul  22\n",
            "112          4.33            3.00  worker seoul  23\n",
            "113          7.00            1.67  worker seoul  22\n",
            "114          5.00            6.00  worker seoul  23\n",
            "115          4.67            3.67  worker seoul  19\n",
            "116          5.33            5.00  worker seoul  20\n",
            "117          5.00            2.67  worker seoul  23\n",
            "118          3.33            2.00  worker seoul  17\n",
            "119          4.00            4.00  worker seoul  26\n",
            "120          4.67            5.67  worker seoul  21\n",
            "121          4.00            4.00  worker seoul  20\n",
            "122          4.00            4.00  worker seoul  23\n",
            "123          7.00            4.00  worker seoul  22\n",
            "124          4.67            5.33  worker seoul  23\n",
            "125          7.00            5.00  worker seoul  24\n",
            "126          3.33            2.33  worker seoul  21\n",
            "127          5.00            5.00  worker seoul  19\n",
            "128          5.00            2.67  worker seoul  19\n",
            "129          3.00            2.67  worker seoul  20\n",
            "130          3.00            4.00  worker seoul  22\n",
            "131          4.33            4.67  worker seoul  20\n",
            "132          3.00            4.00  worker seoul  24\n",
            "133          1.67            2.33  worker seoul  21\n",
            "134          4.33            4.00  worker seoul  21\n",
            "135          1.00            1.67  worker seoul  21\n",
            "136          7.00            4.00 student seoul  23\n",
            "137          4.67            3.33 student seoul  23\n",
            "138          5.00            3.67 student seoul  22\n",
            "139          2.33            4.00 student seoul  23\n",
            "140          2.00            5.67 student seoul  22\n",
            "141          5.33            3.67 student seoul  22\n",
            "142          4.00            4.33 student seoul  25\n",
            "143          3.33            4.67 student seoul  24\n",
            "144          4.00            3.33 student seoul  21\n",
            "145          3.33            1.67 student seoul  23\n",
            "146          4.00            2.00 student seoul  19\n",
            "147          3.00            4.00 student seoul  19\n",
            "148          3.67            4.00 student seoul  23\n",
            "149          2.67            4.33 student seoul  23\n",
            "150          2.67            3.33 student seoul  23\n",
            "151          4.00            4.00 student seoul  23\n",
            "152          3.33            5.00 student seoul  21\n",
            "153          3.00            3.33 student seoul  20\n",
            "154          2.00            4.33 student seoul  21\n",
            "155          4.00            4.00 student seoul  21\n",
            "156          3.67            4.33 student seoul  22\n",
            "157          1.00            3.00 student seoul  22\n",
            "158          7.00            4.00  worker seoul  24\n",
            "159          2.00            3.00  worker seoul  23\n",
            "160          2.00            3.67  worker seoul  24\n",
            "161          4.67            4.00  worker seoul  19\n",
            "162          4.00            3.00  worker seoul  19\n",
            "163          3.67            4.33  worker seoul  23\n",
            "164          2.33            4.00  worker seoul  21\n",
            "165          3.00            2.67  worker seoul  20\n",
            "166          3.67            4.33  worker seoul  23\n",
            "167          3.33            4.00  worker seoul  20\n",
            "168          4.00            4.33  worker seoul  20\n",
            "169          4.67            4.33  worker seoul  24\n",
            "170          3.33            4.00  worker seoul  20\n",
            "171          3.33            3.33  worker seoul  22\n",
            "172          3.33            5.33  worker seoul  22\n",
            "173          1.67            4.33  worker busan  20\n",
            "174          3.00            3.33  worker busan  20\n",
            "175          4.00            4.00  worker busan  19\n",
            "176          3.33            4.33  worker busan  19\n"
          ]
        }
      ]
    },
    {
      "cell_type": "code",
      "source": [
        "# str() 함수로 구조를 확인\n",
        "str(sampledata)"
      ],
      "metadata": {
        "id": "cbHWCH1Agz34",
        "colab": {
          "base_uri": "https://localhost:8080/"
        },
        "outputId": "a9fcf5b8-23e4-461b-b811-910951e2fcdc"
      },
      "execution_count": null,
      "outputs": [
        {
          "output_type": "stream",
          "name": "stdout",
          "text": [
            "'data.frame':\t176 obs. of  19 variables:\n",
            " $ programtype    : int  2 2 2 2 2 2 2 2 2 2 ...\n",
            " $ dramapref      : int  4 4 5 6 2 4 5 2 1 5 ...\n",
            " $ varietypref    : int  4 7 6 2 7 4 2 5 7 5 ...\n",
            " $ brandaware     : int  7 7 7 7 3 7 7 6 7 7 ...\n",
            " $ brandpref      : int  7 5 3 4 3 6 7 4 4 6 ...\n",
            " $ programaware   : int  7 7 7 3 6 7 7 6 7 7 ...\n",
            " $ programpref    : int  4 5 4 2 4 4 1 3 5 6 ...\n",
            " $ modelaware     : int  1 7 7 2 6 7 7 5 7 7 ...\n",
            " $ modelpref      : int  1 7 7 2 6 7 3 5 7 7 ...\n",
            " $ gender         : chr  \"female\" \"male\" \"female\" \"female\" ...\n",
            " $ pplaware       : chr  \"yes\" \"yes\" \"yes\" \"no\" ...\n",
            " $ fun            : num  5 3.5 4.75 3.75 5 3.5 5.25 4 3.75 3.5 ...\n",
            " $ like           : num  4 6.67 5 2 5.33 3.67 2.33 4 4 3.67 ...\n",
            " $ reactance      : num  6 6 2.75 4 4 3.75 6.75 5 3 2 ...\n",
            " $ brandattitude  : num  3 2 4.33 6 5.67 3.33 1 3 2 5.33 ...\n",
            " $ programattitude: num  3.33 2.33 3.67 4 3.67 4 7 3.33 1.67 1.67 ...\n",
            " $ job            : chr  \"student\" \"student\" \"student\" \"student\" ...\n",
            " $ city           : chr  \"busan\" \"busan\" \"busan\" \"busan\" ...\n",
            " $ age            : int  22 24 20 23 22 21 22 23 25 21 ...\n"
          ]
        }
      ]
    },
    {
      "cell_type": "code",
      "source": [
        "# aqfig 패키지는 더 이상 개발되지 않아 유사한 기능을 제공 ggplot2와 lattice이 있습니다.\n",
        "install.packages(\"ggplot2\")"
      ],
      "metadata": {
        "colab": {
          "base_uri": "https://localhost:8080/"
        },
        "id": "eUNUIjM2quw9",
        "outputId": "14eae9a6-83d9-4895-ef82-37b27d48c706"
      },
      "execution_count": null,
      "outputs": [
        {
          "output_type": "stream",
          "name": "stderr",
          "text": [
            "Installing package into ‘/usr/local/lib/R/site-library’\n",
            "(as ‘lib’ is unspecified)\n",
            "\n"
          ]
        }
      ]
    },
    {
      "cell_type": "code",
      "source": [
        "library(ggplot2)"
      ],
      "metadata": {
        "id": "BxP9RF1mzCD4"
      },
      "execution_count": null,
      "outputs": []
    },
    {
      "cell_type": "markdown",
      "source": [
        "# **기술통계량 실습**"
      ],
      "metadata": {
        "id": "6WRj8xbp-xnm"
      }
    },
    {
      "cell_type": "code",
      "source": [
        "# CSV 파일을 데이터 프레임으로 읽기\n",
        "sampledata=read.csv(file_path)\n",
        "\n",
        "# 데이터를 확인한다.\n",
        "sampledata"
      ],
      "metadata": {
        "colab": {
          "base_uri": "https://localhost:8080/",
          "height": 1000
        },
        "id": "L1B3yGZb0UQ3",
        "outputId": "60b96817-4edc-4367-b4c7-f589fabb0e70"
      },
      "execution_count": null,
      "outputs": [
        {
          "output_type": "display_data",
          "data": {
            "text/html": [
              "<table class=\"dataframe\">\n",
              "<caption>A data.frame: 176 × 19</caption>\n",
              "<thead>\n",
              "\t<tr><th scope=col>programtype</th><th scope=col>dramapref</th><th scope=col>varietypref</th><th scope=col>brandaware</th><th scope=col>brandpref</th><th scope=col>programaware</th><th scope=col>programpref</th><th scope=col>modelaware</th><th scope=col>modelpref</th><th scope=col>gender</th><th scope=col>pplaware</th><th scope=col>fun</th><th scope=col>like</th><th scope=col>reactance</th><th scope=col>brandattitude</th><th scope=col>programattitude</th><th scope=col>job</th><th scope=col>city</th><th scope=col>age</th></tr>\n",
              "\t<tr><th scope=col>&lt;int&gt;</th><th scope=col>&lt;int&gt;</th><th scope=col>&lt;int&gt;</th><th scope=col>&lt;int&gt;</th><th scope=col>&lt;int&gt;</th><th scope=col>&lt;int&gt;</th><th scope=col>&lt;int&gt;</th><th scope=col>&lt;int&gt;</th><th scope=col>&lt;int&gt;</th><th scope=col>&lt;chr&gt;</th><th scope=col>&lt;chr&gt;</th><th scope=col>&lt;dbl&gt;</th><th scope=col>&lt;dbl&gt;</th><th scope=col>&lt;dbl&gt;</th><th scope=col>&lt;dbl&gt;</th><th scope=col>&lt;dbl&gt;</th><th scope=col>&lt;chr&gt;</th><th scope=col>&lt;chr&gt;</th><th scope=col>&lt;int&gt;</th></tr>\n",
              "</thead>\n",
              "<tbody>\n",
              "\t<tr><td>2</td><td>4</td><td>4</td><td>7</td><td>7</td><td>7</td><td>4</td><td>1</td><td>1</td><td>female</td><td>yes</td><td>5.00</td><td>4.00</td><td>6.00</td><td>3.00</td><td>3.33</td><td>student</td><td>busan</td><td>22</td></tr>\n",
              "\t<tr><td>2</td><td>4</td><td>7</td><td>7</td><td>5</td><td>7</td><td>5</td><td>7</td><td>7</td><td>male  </td><td>yes</td><td>3.50</td><td>6.67</td><td>6.00</td><td>2.00</td><td>2.33</td><td>student</td><td>busan</td><td>24</td></tr>\n",
              "\t<tr><td>2</td><td>5</td><td>6</td><td>7</td><td>3</td><td>7</td><td>4</td><td>7</td><td>7</td><td>female</td><td>yes</td><td>4.75</td><td>5.00</td><td>2.75</td><td>4.33</td><td>3.67</td><td>student</td><td>busan</td><td>20</td></tr>\n",
              "\t<tr><td>2</td><td>6</td><td>2</td><td>7</td><td>4</td><td>3</td><td>2</td><td>2</td><td>2</td><td>female</td><td>no </td><td>3.75</td><td>2.00</td><td>4.00</td><td>6.00</td><td>4.00</td><td>student</td><td>busan</td><td>23</td></tr>\n",
              "\t<tr><td>2</td><td>2</td><td>7</td><td>3</td><td>3</td><td>6</td><td>4</td><td>6</td><td>6</td><td>male  </td><td>yes</td><td>5.00</td><td>5.33</td><td>4.00</td><td>5.67</td><td>3.67</td><td>student</td><td>busan</td><td>22</td></tr>\n",
              "\t<tr><td>2</td><td>4</td><td>4</td><td>7</td><td>6</td><td>7</td><td>4</td><td>7</td><td>7</td><td>female</td><td>yes</td><td>3.50</td><td>3.67</td><td>3.75</td><td>3.33</td><td>4.00</td><td>student</td><td>busan</td><td>21</td></tr>\n",
              "\t<tr><td>2</td><td>5</td><td>2</td><td>7</td><td>7</td><td>7</td><td>1</td><td>7</td><td>3</td><td>female</td><td>yes</td><td>5.25</td><td>2.33</td><td>6.75</td><td>1.00</td><td>7.00</td><td>student</td><td>busan</td><td>22</td></tr>\n",
              "\t<tr><td>2</td><td>2</td><td>5</td><td>6</td><td>4</td><td>6</td><td>3</td><td>5</td><td>5</td><td>male  </td><td>yes</td><td>4.00</td><td>4.00</td><td>5.00</td><td>3.00</td><td>3.33</td><td>student</td><td>busan</td><td>23</td></tr>\n",
              "\t<tr><td>2</td><td>1</td><td>7</td><td>7</td><td>4</td><td>7</td><td>5</td><td>7</td><td>7</td><td>male  </td><td>yes</td><td>3.75</td><td>4.00</td><td>3.00</td><td>2.00</td><td>1.67</td><td>student</td><td>busan</td><td>25</td></tr>\n",
              "\t<tr><td>2</td><td>5</td><td>5</td><td>7</td><td>6</td><td>7</td><td>6</td><td>7</td><td>7</td><td>female</td><td>yes</td><td>3.50</td><td>3.67</td><td>2.00</td><td>5.33</td><td>1.67</td><td>student</td><td>busan</td><td>21</td></tr>\n",
              "\t<tr><td>2</td><td>6</td><td>6</td><td>7</td><td>4</td><td>7</td><td>4</td><td>5</td><td>5</td><td>male  </td><td>yes</td><td>5.00</td><td>3.67</td><td>3.25</td><td>5.33</td><td>4.00</td><td>student</td><td>busan</td><td>25</td></tr>\n",
              "\t<tr><td>2</td><td>5</td><td>4</td><td>7</td><td>6</td><td>6</td><td>4</td><td>5</td><td>5</td><td>female</td><td>yes</td><td>5.00</td><td>2.67</td><td>4.00</td><td>1.67</td><td>3.33</td><td>student</td><td>busan</td><td>23</td></tr>\n",
              "\t<tr><td>2</td><td>2</td><td>4</td><td>7</td><td>3</td><td>7</td><td>3</td><td>6</td><td>7</td><td>male  </td><td>yes</td><td>4.75</td><td>2.33</td><td>3.50</td><td>5.67</td><td>5.67</td><td>student</td><td>busan</td><td>25</td></tr>\n",
              "\t<tr><td>2</td><td>2</td><td>6</td><td>7</td><td>4</td><td>7</td><td>1</td><td>7</td><td>7</td><td>female</td><td>yes</td><td>5.50</td><td>7.00</td><td>5.75</td><td>1.00</td><td>7.00</td><td>student</td><td>busan</td><td>22</td></tr>\n",
              "\t<tr><td>2</td><td>3</td><td>4</td><td>7</td><td>5</td><td>6</td><td>4</td><td>5</td><td>5</td><td>male  </td><td>yes</td><td>2.75</td><td>3.33</td><td>3.50</td><td>4.33</td><td>2.67</td><td>student</td><td>busan</td><td>25</td></tr>\n",
              "\t<tr><td>2</td><td>2</td><td>1</td><td>7</td><td>3</td><td>6</td><td>1</td><td>6</td><td>6</td><td>female</td><td>yes</td><td>1.50</td><td>1.00</td><td>1.75</td><td>2.00</td><td>3.67</td><td>student</td><td>busan</td><td>22</td></tr>\n",
              "\t<tr><td>2</td><td>5</td><td>5</td><td>7</td><td>4</td><td>5</td><td>4</td><td>5</td><td>6</td><td>female</td><td>yes</td><td>2.50</td><td>3.33</td><td>4.50</td><td>2.00</td><td>6.00</td><td>student</td><td>busan</td><td>22</td></tr>\n",
              "\t<tr><td>2</td><td>6</td><td>4</td><td>7</td><td>3</td><td>7</td><td>3</td><td>7</td><td>7</td><td>female</td><td>yes</td><td>3.75</td><td>1.00</td><td>5.50</td><td>6.67</td><td>7.00</td><td>student</td><td>busan</td><td>22</td></tr>\n",
              "\t<tr><td>2</td><td>3</td><td>1</td><td>7</td><td>4</td><td>7</td><td>1</td><td>4</td><td>4</td><td>female</td><td>yes</td><td>1.00</td><td>2.00</td><td>6.25</td><td>7.00</td><td>6.67</td><td>student</td><td>busan</td><td>19</td></tr>\n",
              "\t<tr><td>2</td><td>7</td><td>5</td><td>1</td><td>4</td><td>1</td><td>6</td><td>1</td><td>4</td><td>female</td><td>yes</td><td>4.50</td><td>4.00</td><td>3.50</td><td>3.00</td><td>3.00</td><td>worker </td><td>busan</td><td>21</td></tr>\n",
              "\t<tr><td>2</td><td>4</td><td>4</td><td>6</td><td>3</td><td>6</td><td>5</td><td>6</td><td>6</td><td>male  </td><td>yes</td><td>4.00</td><td>1.67</td><td>1.00</td><td>4.33</td><td>4.33</td><td>worker </td><td>busan</td><td>18</td></tr>\n",
              "\t<tr><td>2</td><td>6</td><td>6</td><td>7</td><td>3</td><td>7</td><td>4</td><td>7</td><td>7</td><td>female</td><td>yes</td><td>4.50</td><td>7.00</td><td>3.75</td><td>2.00</td><td>2.67</td><td>worker </td><td>busan</td><td>21</td></tr>\n",
              "\t<tr><td>2</td><td>5</td><td>6</td><td>5</td><td>4</td><td>5</td><td>4</td><td>3</td><td>3</td><td>male  </td><td>no </td><td>2.75</td><td>4.33</td><td>3.50</td><td>5.00</td><td>4.00</td><td>worker </td><td>busan</td><td>19</td></tr>\n",
              "\t<tr><td>2</td><td>4</td><td>2</td><td>4</td><td>3</td><td>5</td><td>1</td><td>1</td><td>1</td><td>male  </td><td>no </td><td>1.00</td><td>1.00</td><td>6.00</td><td>7.00</td><td>7.00</td><td>worker </td><td>busan</td><td>19</td></tr>\n",
              "\t<tr><td>2</td><td>4</td><td>6</td><td>7</td><td>4</td><td>2</td><td>1</td><td>1</td><td>1</td><td>male  </td><td>yes</td><td>3.50</td><td>2.67</td><td>4.50</td><td>4.00</td><td>5.33</td><td>worker </td><td>busan</td><td>19</td></tr>\n",
              "\t<tr><td>2</td><td>2</td><td>6</td><td>7</td><td>4</td><td>7</td><td>4</td><td>7</td><td>7</td><td>male  </td><td>yes</td><td>3.00</td><td>3.67</td><td>1.25</td><td>6.00</td><td>2.67</td><td>worker </td><td>busan</td><td>19</td></tr>\n",
              "\t<tr><td>2</td><td>4</td><td>4</td><td>7</td><td>5</td><td>7</td><td>4</td><td>3</td><td>3</td><td>male  </td><td>yes</td><td>3.75</td><td>4.00</td><td>3.75</td><td>3.00</td><td>4.00</td><td>worker </td><td>busan</td><td>19</td></tr>\n",
              "\t<tr><td>2</td><td>3</td><td>5</td><td>5</td><td>4</td><td>5</td><td>4</td><td>5</td><td>5</td><td>male  </td><td>yes</td><td>1.50</td><td>3.00</td><td>3.75</td><td>3.33</td><td>4.00</td><td>worker </td><td>busan</td><td>18</td></tr>\n",
              "\t<tr><td>2</td><td>2</td><td>6</td><td>7</td><td>3</td><td>7</td><td>3</td><td>7</td><td>7</td><td>male  </td><td>no </td><td>2.75</td><td>2.33</td><td>3.25</td><td>4.00</td><td>3.33</td><td>worker </td><td>busan</td><td>19</td></tr>\n",
              "\t<tr><td>2</td><td>2</td><td>6</td><td>7</td><td>7</td><td>7</td><td>7</td><td>7</td><td>7</td><td>male  </td><td>no </td><td>5.00</td><td>2.67</td><td>1.00</td><td>1.67</td><td>1.00</td><td>worker </td><td>busan</td><td>19</td></tr>\n",
              "\t<tr><td>⋮</td><td>⋮</td><td>⋮</td><td>⋮</td><td>⋮</td><td>⋮</td><td>⋮</td><td>⋮</td><td>⋮</td><td>⋮</td><td>⋮</td><td>⋮</td><td>⋮</td><td>⋮</td><td>⋮</td><td>⋮</td><td>⋮</td><td>⋮</td><td>⋮</td></tr>\n",
              "\t<tr><td>2</td><td>3</td><td>3</td><td>7</td><td>5</td><td>7</td><td>1</td><td>7</td><td>7</td><td>female</td><td>yes</td><td>2.00</td><td>4.00</td><td>4.75</td><td>3.00</td><td>4.00</td><td>student</td><td>seoul</td><td>19</td></tr>\n",
              "\t<tr><td>2</td><td>7</td><td>7</td><td>7</td><td>4</td><td>7</td><td>3</td><td>7</td><td>7</td><td>male  </td><td>yes</td><td>5.75</td><td>5.00</td><td>5.25</td><td>3.67</td><td>4.00</td><td>student</td><td>seoul</td><td>23</td></tr>\n",
              "\t<tr><td>2</td><td>5</td><td>7</td><td>7</td><td>5</td><td>7</td><td>2</td><td>7</td><td>7</td><td>female</td><td>yes</td><td>4.00</td><td>4.00</td><td>5.50</td><td>2.67</td><td>4.33</td><td>student</td><td>seoul</td><td>23</td></tr>\n",
              "\t<tr><td>2</td><td>6</td><td>5</td><td>6</td><td>4</td><td>6</td><td>5</td><td>5</td><td>5</td><td>male  </td><td>yes</td><td>4.75</td><td>5.67</td><td>4.75</td><td>2.67</td><td>3.33</td><td>student</td><td>seoul</td><td>23</td></tr>\n",
              "\t<tr><td>2</td><td>3</td><td>4</td><td>7</td><td>4</td><td>7</td><td>2</td><td>5</td><td>5</td><td>male  </td><td>yes</td><td>4.25</td><td>5.00</td><td>4.75</td><td>4.00</td><td>4.00</td><td>student</td><td>seoul</td><td>23</td></tr>\n",
              "\t<tr><td>2</td><td>2</td><td>5</td><td>6</td><td>4</td><td>6</td><td>3</td><td>5</td><td>6</td><td>male  </td><td>yes</td><td>4.25</td><td>2.67</td><td>6.25</td><td>3.33</td><td>5.00</td><td>student</td><td>seoul</td><td>21</td></tr>\n",
              "\t<tr><td>2</td><td>6</td><td>7</td><td>7</td><td>6</td><td>7</td><td>3</td><td>5</td><td>5</td><td>female</td><td>yes</td><td>4.25</td><td>5.00</td><td>2.00</td><td>3.00</td><td>3.33</td><td>student</td><td>seoul</td><td>20</td></tr>\n",
              "\t<tr><td>2</td><td>6</td><td>5</td><td>6</td><td>4</td><td>5</td><td>4</td><td>5</td><td>5</td><td>female</td><td>yes</td><td>5.00</td><td>4.00</td><td>4.00</td><td>2.00</td><td>4.33</td><td>student</td><td>seoul</td><td>21</td></tr>\n",
              "\t<tr><td>2</td><td>5</td><td>6</td><td>7</td><td>5</td><td>5</td><td>4</td><td>1</td><td>1</td><td>female</td><td>yes</td><td>5.00</td><td>5.33</td><td>6.00</td><td>4.00</td><td>4.00</td><td>student</td><td>seoul</td><td>21</td></tr>\n",
              "\t<tr><td>2</td><td>6</td><td>7</td><td>6</td><td>4</td><td>6</td><td>4</td><td>5</td><td>6</td><td>male  </td><td>yes</td><td>5.00</td><td>3.67</td><td>4.00</td><td>3.67</td><td>4.33</td><td>student</td><td>seoul</td><td>22</td></tr>\n",
              "\t<tr><td>2</td><td>4</td><td>6</td><td>7</td><td>5</td><td>7</td><td>7</td><td>7</td><td>7</td><td>male  </td><td>yes</td><td>1.00</td><td>6.00</td><td>1.00</td><td>1.00</td><td>3.00</td><td>student</td><td>seoul</td><td>22</td></tr>\n",
              "\t<tr><td>2</td><td>3</td><td>1</td><td>5</td><td>1</td><td>5</td><td>3</td><td>1</td><td>2</td><td>male  </td><td>yes</td><td>1.00</td><td>1.67</td><td>1.00</td><td>7.00</td><td>4.00</td><td>worker </td><td>seoul</td><td>24</td></tr>\n",
              "\t<tr><td>2</td><td>5</td><td>5</td><td>7</td><td>6</td><td>7</td><td>4</td><td>1</td><td>1</td><td>male  </td><td>yes</td><td>2.00</td><td>4.00</td><td>2.00</td><td>2.00</td><td>3.00</td><td>worker </td><td>seoul</td><td>23</td></tr>\n",
              "\t<tr><td>2</td><td>5</td><td>6</td><td>6</td><td>5</td><td>7</td><td>4</td><td>2</td><td>2</td><td>female</td><td>yes</td><td>5.25</td><td>6.00</td><td>4.75</td><td>2.00</td><td>3.67</td><td>worker </td><td>seoul</td><td>24</td></tr>\n",
              "\t<tr><td>2</td><td>3</td><td>5</td><td>7</td><td>5</td><td>7</td><td>3</td><td>6</td><td>6</td><td>female</td><td>yes</td><td>1.75</td><td>2.33</td><td>5.25</td><td>4.67</td><td>4.00</td><td>worker </td><td>seoul</td><td>19</td></tr>\n",
              "\t<tr><td>2</td><td>7</td><td>5</td><td>7</td><td>5</td><td>7</td><td>6</td><td>7</td><td>7</td><td>female</td><td>yes</td><td>4.50</td><td>5.00</td><td>4.00</td><td>4.00</td><td>3.00</td><td>worker </td><td>seoul</td><td>19</td></tr>\n",
              "\t<tr><td>2</td><td>3</td><td>4</td><td>5</td><td>4</td><td>4</td><td>5</td><td>4</td><td>3</td><td>male  </td><td>no </td><td>4.50</td><td>4.00</td><td>4.00</td><td>3.67</td><td>4.33</td><td>worker </td><td>seoul</td><td>23</td></tr>\n",
              "\t<tr><td>2</td><td>4</td><td>4</td><td>3</td><td>2</td><td>3</td><td>2</td><td>3</td><td>3</td><td>female</td><td>yes</td><td>2.75</td><td>2.00</td><td>3.50</td><td>2.33</td><td>4.00</td><td>worker </td><td>seoul</td><td>21</td></tr>\n",
              "\t<tr><td>2</td><td>5</td><td>6</td><td>4</td><td>5</td><td>6</td><td>6</td><td>5</td><td>4</td><td>female</td><td>yes</td><td>5.00</td><td>5.67</td><td>4.75</td><td>3.00</td><td>2.67</td><td>worker </td><td>seoul</td><td>20</td></tr>\n",
              "\t<tr><td>2</td><td>4</td><td>4</td><td>4</td><td>5</td><td>3</td><td>4</td><td>6</td><td>4</td><td>male  </td><td>no </td><td>3.75</td><td>3.00</td><td>4.00</td><td>3.67</td><td>4.33</td><td>worker </td><td>seoul</td><td>23</td></tr>\n",
              "\t<tr><td>2</td><td>4</td><td>4</td><td>3</td><td>4</td><td>3</td><td>1</td><td>4</td><td>5</td><td>male  </td><td>yes</td><td>2.25</td><td>2.33</td><td>3.50</td><td>3.33</td><td>4.00</td><td>worker </td><td>seoul</td><td>20</td></tr>\n",
              "\t<tr><td>2</td><td>4</td><td>7</td><td>7</td><td>6</td><td>7</td><td>5</td><td>1</td><td>1</td><td>female</td><td>yes</td><td>1.00</td><td>7.00</td><td>5.00</td><td>4.00</td><td>4.33</td><td>worker </td><td>seoul</td><td>20</td></tr>\n",
              "\t<tr><td>2</td><td>4</td><td>6</td><td>7</td><td>2</td><td>7</td><td>6</td><td>6</td><td>6</td><td>male  </td><td>yes</td><td>5.50</td><td>5.00</td><td>4.00</td><td>4.67</td><td>4.33</td><td>worker </td><td>seoul</td><td>24</td></tr>\n",
              "\t<tr><td>2</td><td>1</td><td>5</td><td>7</td><td>4</td><td>7</td><td>2</td><td>7</td><td>7</td><td>female</td><td>no </td><td>2.50</td><td>3.67</td><td>3.25</td><td>3.33</td><td>4.00</td><td>worker </td><td>seoul</td><td>20</td></tr>\n",
              "\t<tr><td>2</td><td>6</td><td>6</td><td>7</td><td>6</td><td>7</td><td>4</td><td>7</td><td>7</td><td>female</td><td>no </td><td>5.25</td><td>3.67</td><td>6.00</td><td>3.33</td><td>3.33</td><td>worker </td><td>seoul</td><td>22</td></tr>\n",
              "\t<tr><td>2</td><td>4</td><td>7</td><td>7</td><td>4</td><td>7</td><td>3</td><td>4</td><td>4</td><td>male  </td><td>no </td><td>5.25</td><td>5.00</td><td>4.75</td><td>3.33</td><td>5.33</td><td>worker </td><td>seoul</td><td>22</td></tr>\n",
              "\t<tr><td>2</td><td>5</td><td>3</td><td>6</td><td>6</td><td>5</td><td>2</td><td>6</td><td>6</td><td>male  </td><td>no </td><td>4.75</td><td>6.00</td><td>5.50</td><td>1.67</td><td>4.33</td><td>worker </td><td>busan</td><td>20</td></tr>\n",
              "\t<tr><td>2</td><td>5</td><td>4</td><td>6</td><td>6</td><td>5</td><td>4</td><td>4</td><td>4</td><td>female</td><td>no </td><td>3.00</td><td>3.00</td><td>4.25</td><td>3.00</td><td>3.33</td><td>worker </td><td>busan</td><td>20</td></tr>\n",
              "\t<tr><td>2</td><td>1</td><td>1</td><td>4</td><td>1</td><td>4</td><td>1</td><td>1</td><td>1</td><td>female</td><td>yes</td><td>1.00</td><td>1.00</td><td>1.00</td><td>4.00</td><td>4.00</td><td>worker </td><td>busan</td><td>19</td></tr>\n",
              "\t<tr><td>2</td><td>4</td><td>6</td><td>7</td><td>7</td><td>7</td><td>1</td><td>7</td><td>7</td><td>male  </td><td>yes</td><td>4.50</td><td>1.00</td><td>5.25</td><td>3.33</td><td>4.33</td><td>worker </td><td>busan</td><td>19</td></tr>\n",
              "</tbody>\n",
              "</table>\n"
            ],
            "text/markdown": "\nA data.frame: 176 × 19\n\n| programtype &lt;int&gt; | dramapref &lt;int&gt; | varietypref &lt;int&gt; | brandaware &lt;int&gt; | brandpref &lt;int&gt; | programaware &lt;int&gt; | programpref &lt;int&gt; | modelaware &lt;int&gt; | modelpref &lt;int&gt; | gender &lt;chr&gt; | pplaware &lt;chr&gt; | fun &lt;dbl&gt; | like &lt;dbl&gt; | reactance &lt;dbl&gt; | brandattitude &lt;dbl&gt; | programattitude &lt;dbl&gt; | job &lt;chr&gt; | city &lt;chr&gt; | age &lt;int&gt; |\n|---|---|---|---|---|---|---|---|---|---|---|---|---|---|---|---|---|---|---|\n| 2 | 4 | 4 | 7 | 7 | 7 | 4 | 1 | 1 | female | yes | 5.00 | 4.00 | 6.00 | 3.00 | 3.33 | student | busan | 22 |\n| 2 | 4 | 7 | 7 | 5 | 7 | 5 | 7 | 7 | male   | yes | 3.50 | 6.67 | 6.00 | 2.00 | 2.33 | student | busan | 24 |\n| 2 | 5 | 6 | 7 | 3 | 7 | 4 | 7 | 7 | female | yes | 4.75 | 5.00 | 2.75 | 4.33 | 3.67 | student | busan | 20 |\n| 2 | 6 | 2 | 7 | 4 | 3 | 2 | 2 | 2 | female | no  | 3.75 | 2.00 | 4.00 | 6.00 | 4.00 | student | busan | 23 |\n| 2 | 2 | 7 | 3 | 3 | 6 | 4 | 6 | 6 | male   | yes | 5.00 | 5.33 | 4.00 | 5.67 | 3.67 | student | busan | 22 |\n| 2 | 4 | 4 | 7 | 6 | 7 | 4 | 7 | 7 | female | yes | 3.50 | 3.67 | 3.75 | 3.33 | 4.00 | student | busan | 21 |\n| 2 | 5 | 2 | 7 | 7 | 7 | 1 | 7 | 3 | female | yes | 5.25 | 2.33 | 6.75 | 1.00 | 7.00 | student | busan | 22 |\n| 2 | 2 | 5 | 6 | 4 | 6 | 3 | 5 | 5 | male   | yes | 4.00 | 4.00 | 5.00 | 3.00 | 3.33 | student | busan | 23 |\n| 2 | 1 | 7 | 7 | 4 | 7 | 5 | 7 | 7 | male   | yes | 3.75 | 4.00 | 3.00 | 2.00 | 1.67 | student | busan | 25 |\n| 2 | 5 | 5 | 7 | 6 | 7 | 6 | 7 | 7 | female | yes | 3.50 | 3.67 | 2.00 | 5.33 | 1.67 | student | busan | 21 |\n| 2 | 6 | 6 | 7 | 4 | 7 | 4 | 5 | 5 | male   | yes | 5.00 | 3.67 | 3.25 | 5.33 | 4.00 | student | busan | 25 |\n| 2 | 5 | 4 | 7 | 6 | 6 | 4 | 5 | 5 | female | yes | 5.00 | 2.67 | 4.00 | 1.67 | 3.33 | student | busan | 23 |\n| 2 | 2 | 4 | 7 | 3 | 7 | 3 | 6 | 7 | male   | yes | 4.75 | 2.33 | 3.50 | 5.67 | 5.67 | student | busan | 25 |\n| 2 | 2 | 6 | 7 | 4 | 7 | 1 | 7 | 7 | female | yes | 5.50 | 7.00 | 5.75 | 1.00 | 7.00 | student | busan | 22 |\n| 2 | 3 | 4 | 7 | 5 | 6 | 4 | 5 | 5 | male   | yes | 2.75 | 3.33 | 3.50 | 4.33 | 2.67 | student | busan | 25 |\n| 2 | 2 | 1 | 7 | 3 | 6 | 1 | 6 | 6 | female | yes | 1.50 | 1.00 | 1.75 | 2.00 | 3.67 | student | busan | 22 |\n| 2 | 5 | 5 | 7 | 4 | 5 | 4 | 5 | 6 | female | yes | 2.50 | 3.33 | 4.50 | 2.00 | 6.00 | student | busan | 22 |\n| 2 | 6 | 4 | 7 | 3 | 7 | 3 | 7 | 7 | female | yes | 3.75 | 1.00 | 5.50 | 6.67 | 7.00 | student | busan | 22 |\n| 2 | 3 | 1 | 7 | 4 | 7 | 1 | 4 | 4 | female | yes | 1.00 | 2.00 | 6.25 | 7.00 | 6.67 | student | busan | 19 |\n| 2 | 7 | 5 | 1 | 4 | 1 | 6 | 1 | 4 | female | yes | 4.50 | 4.00 | 3.50 | 3.00 | 3.00 | worker  | busan | 21 |\n| 2 | 4 | 4 | 6 | 3 | 6 | 5 | 6 | 6 | male   | yes | 4.00 | 1.67 | 1.00 | 4.33 | 4.33 | worker  | busan | 18 |\n| 2 | 6 | 6 | 7 | 3 | 7 | 4 | 7 | 7 | female | yes | 4.50 | 7.00 | 3.75 | 2.00 | 2.67 | worker  | busan | 21 |\n| 2 | 5 | 6 | 5 | 4 | 5 | 4 | 3 | 3 | male   | no  | 2.75 | 4.33 | 3.50 | 5.00 | 4.00 | worker  | busan | 19 |\n| 2 | 4 | 2 | 4 | 3 | 5 | 1 | 1 | 1 | male   | no  | 1.00 | 1.00 | 6.00 | 7.00 | 7.00 | worker  | busan | 19 |\n| 2 | 4 | 6 | 7 | 4 | 2 | 1 | 1 | 1 | male   | yes | 3.50 | 2.67 | 4.50 | 4.00 | 5.33 | worker  | busan | 19 |\n| 2 | 2 | 6 | 7 | 4 | 7 | 4 | 7 | 7 | male   | yes | 3.00 | 3.67 | 1.25 | 6.00 | 2.67 | worker  | busan | 19 |\n| 2 | 4 | 4 | 7 | 5 | 7 | 4 | 3 | 3 | male   | yes | 3.75 | 4.00 | 3.75 | 3.00 | 4.00 | worker  | busan | 19 |\n| 2 | 3 | 5 | 5 | 4 | 5 | 4 | 5 | 5 | male   | yes | 1.50 | 3.00 | 3.75 | 3.33 | 4.00 | worker  | busan | 18 |\n| 2 | 2 | 6 | 7 | 3 | 7 | 3 | 7 | 7 | male   | no  | 2.75 | 2.33 | 3.25 | 4.00 | 3.33 | worker  | busan | 19 |\n| 2 | 2 | 6 | 7 | 7 | 7 | 7 | 7 | 7 | male   | no  | 5.00 | 2.67 | 1.00 | 1.67 | 1.00 | worker  | busan | 19 |\n| ⋮ | ⋮ | ⋮ | ⋮ | ⋮ | ⋮ | ⋮ | ⋮ | ⋮ | ⋮ | ⋮ | ⋮ | ⋮ | ⋮ | ⋮ | ⋮ | ⋮ | ⋮ | ⋮ |\n| 2 | 3 | 3 | 7 | 5 | 7 | 1 | 7 | 7 | female | yes | 2.00 | 4.00 | 4.75 | 3.00 | 4.00 | student | seoul | 19 |\n| 2 | 7 | 7 | 7 | 4 | 7 | 3 | 7 | 7 | male   | yes | 5.75 | 5.00 | 5.25 | 3.67 | 4.00 | student | seoul | 23 |\n| 2 | 5 | 7 | 7 | 5 | 7 | 2 | 7 | 7 | female | yes | 4.00 | 4.00 | 5.50 | 2.67 | 4.33 | student | seoul | 23 |\n| 2 | 6 | 5 | 6 | 4 | 6 | 5 | 5 | 5 | male   | yes | 4.75 | 5.67 | 4.75 | 2.67 | 3.33 | student | seoul | 23 |\n| 2 | 3 | 4 | 7 | 4 | 7 | 2 | 5 | 5 | male   | yes | 4.25 | 5.00 | 4.75 | 4.00 | 4.00 | student | seoul | 23 |\n| 2 | 2 | 5 | 6 | 4 | 6 | 3 | 5 | 6 | male   | yes | 4.25 | 2.67 | 6.25 | 3.33 | 5.00 | student | seoul | 21 |\n| 2 | 6 | 7 | 7 | 6 | 7 | 3 | 5 | 5 | female | yes | 4.25 | 5.00 | 2.00 | 3.00 | 3.33 | student | seoul | 20 |\n| 2 | 6 | 5 | 6 | 4 | 5 | 4 | 5 | 5 | female | yes | 5.00 | 4.00 | 4.00 | 2.00 | 4.33 | student | seoul | 21 |\n| 2 | 5 | 6 | 7 | 5 | 5 | 4 | 1 | 1 | female | yes | 5.00 | 5.33 | 6.00 | 4.00 | 4.00 | student | seoul | 21 |\n| 2 | 6 | 7 | 6 | 4 | 6 | 4 | 5 | 6 | male   | yes | 5.00 | 3.67 | 4.00 | 3.67 | 4.33 | student | seoul | 22 |\n| 2 | 4 | 6 | 7 | 5 | 7 | 7 | 7 | 7 | male   | yes | 1.00 | 6.00 | 1.00 | 1.00 | 3.00 | student | seoul | 22 |\n| 2 | 3 | 1 | 5 | 1 | 5 | 3 | 1 | 2 | male   | yes | 1.00 | 1.67 | 1.00 | 7.00 | 4.00 | worker  | seoul | 24 |\n| 2 | 5 | 5 | 7 | 6 | 7 | 4 | 1 | 1 | male   | yes | 2.00 | 4.00 | 2.00 | 2.00 | 3.00 | worker  | seoul | 23 |\n| 2 | 5 | 6 | 6 | 5 | 7 | 4 | 2 | 2 | female | yes | 5.25 | 6.00 | 4.75 | 2.00 | 3.67 | worker  | seoul | 24 |\n| 2 | 3 | 5 | 7 | 5 | 7 | 3 | 6 | 6 | female | yes | 1.75 | 2.33 | 5.25 | 4.67 | 4.00 | worker  | seoul | 19 |\n| 2 | 7 | 5 | 7 | 5 | 7 | 6 | 7 | 7 | female | yes | 4.50 | 5.00 | 4.00 | 4.00 | 3.00 | worker  | seoul | 19 |\n| 2 | 3 | 4 | 5 | 4 | 4 | 5 | 4 | 3 | male   | no  | 4.50 | 4.00 | 4.00 | 3.67 | 4.33 | worker  | seoul | 23 |\n| 2 | 4 | 4 | 3 | 2 | 3 | 2 | 3 | 3 | female | yes | 2.75 | 2.00 | 3.50 | 2.33 | 4.00 | worker  | seoul | 21 |\n| 2 | 5 | 6 | 4 | 5 | 6 | 6 | 5 | 4 | female | yes | 5.00 | 5.67 | 4.75 | 3.00 | 2.67 | worker  | seoul | 20 |\n| 2 | 4 | 4 | 4 | 5 | 3 | 4 | 6 | 4 | male   | no  | 3.75 | 3.00 | 4.00 | 3.67 | 4.33 | worker  | seoul | 23 |\n| 2 | 4 | 4 | 3 | 4 | 3 | 1 | 4 | 5 | male   | yes | 2.25 | 2.33 | 3.50 | 3.33 | 4.00 | worker  | seoul | 20 |\n| 2 | 4 | 7 | 7 | 6 | 7 | 5 | 1 | 1 | female | yes | 1.00 | 7.00 | 5.00 | 4.00 | 4.33 | worker  | seoul | 20 |\n| 2 | 4 | 6 | 7 | 2 | 7 | 6 | 6 | 6 | male   | yes | 5.50 | 5.00 | 4.00 | 4.67 | 4.33 | worker  | seoul | 24 |\n| 2 | 1 | 5 | 7 | 4 | 7 | 2 | 7 | 7 | female | no  | 2.50 | 3.67 | 3.25 | 3.33 | 4.00 | worker  | seoul | 20 |\n| 2 | 6 | 6 | 7 | 6 | 7 | 4 | 7 | 7 | female | no  | 5.25 | 3.67 | 6.00 | 3.33 | 3.33 | worker  | seoul | 22 |\n| 2 | 4 | 7 | 7 | 4 | 7 | 3 | 4 | 4 | male   | no  | 5.25 | 5.00 | 4.75 | 3.33 | 5.33 | worker  | seoul | 22 |\n| 2 | 5 | 3 | 6 | 6 | 5 | 2 | 6 | 6 | male   | no  | 4.75 | 6.00 | 5.50 | 1.67 | 4.33 | worker  | busan | 20 |\n| 2 | 5 | 4 | 6 | 6 | 5 | 4 | 4 | 4 | female | no  | 3.00 | 3.00 | 4.25 | 3.00 | 3.33 | worker  | busan | 20 |\n| 2 | 1 | 1 | 4 | 1 | 4 | 1 | 1 | 1 | female | yes | 1.00 | 1.00 | 1.00 | 4.00 | 4.00 | worker  | busan | 19 |\n| 2 | 4 | 6 | 7 | 7 | 7 | 1 | 7 | 7 | male   | yes | 4.50 | 1.00 | 5.25 | 3.33 | 4.33 | worker  | busan | 19 |\n\n",
            "text/latex": "A data.frame: 176 × 19\n\\begin{tabular}{lllllllllllllllllll}\n programtype & dramapref & varietypref & brandaware & brandpref & programaware & programpref & modelaware & modelpref & gender & pplaware & fun & like & reactance & brandattitude & programattitude & job & city & age\\\\\n <int> & <int> & <int> & <int> & <int> & <int> & <int> & <int> & <int> & <chr> & <chr> & <dbl> & <dbl> & <dbl> & <dbl> & <dbl> & <chr> & <chr> & <int>\\\\\n\\hline\n\t 2 & 4 & 4 & 7 & 7 & 7 & 4 & 1 & 1 & female & yes & 5.00 & 4.00 & 6.00 & 3.00 & 3.33 & student & busan & 22\\\\\n\t 2 & 4 & 7 & 7 & 5 & 7 & 5 & 7 & 7 & male   & yes & 3.50 & 6.67 & 6.00 & 2.00 & 2.33 & student & busan & 24\\\\\n\t 2 & 5 & 6 & 7 & 3 & 7 & 4 & 7 & 7 & female & yes & 4.75 & 5.00 & 2.75 & 4.33 & 3.67 & student & busan & 20\\\\\n\t 2 & 6 & 2 & 7 & 4 & 3 & 2 & 2 & 2 & female & no  & 3.75 & 2.00 & 4.00 & 6.00 & 4.00 & student & busan & 23\\\\\n\t 2 & 2 & 7 & 3 & 3 & 6 & 4 & 6 & 6 & male   & yes & 5.00 & 5.33 & 4.00 & 5.67 & 3.67 & student & busan & 22\\\\\n\t 2 & 4 & 4 & 7 & 6 & 7 & 4 & 7 & 7 & female & yes & 3.50 & 3.67 & 3.75 & 3.33 & 4.00 & student & busan & 21\\\\\n\t 2 & 5 & 2 & 7 & 7 & 7 & 1 & 7 & 3 & female & yes & 5.25 & 2.33 & 6.75 & 1.00 & 7.00 & student & busan & 22\\\\\n\t 2 & 2 & 5 & 6 & 4 & 6 & 3 & 5 & 5 & male   & yes & 4.00 & 4.00 & 5.00 & 3.00 & 3.33 & student & busan & 23\\\\\n\t 2 & 1 & 7 & 7 & 4 & 7 & 5 & 7 & 7 & male   & yes & 3.75 & 4.00 & 3.00 & 2.00 & 1.67 & student & busan & 25\\\\\n\t 2 & 5 & 5 & 7 & 6 & 7 & 6 & 7 & 7 & female & yes & 3.50 & 3.67 & 2.00 & 5.33 & 1.67 & student & busan & 21\\\\\n\t 2 & 6 & 6 & 7 & 4 & 7 & 4 & 5 & 5 & male   & yes & 5.00 & 3.67 & 3.25 & 5.33 & 4.00 & student & busan & 25\\\\\n\t 2 & 5 & 4 & 7 & 6 & 6 & 4 & 5 & 5 & female & yes & 5.00 & 2.67 & 4.00 & 1.67 & 3.33 & student & busan & 23\\\\\n\t 2 & 2 & 4 & 7 & 3 & 7 & 3 & 6 & 7 & male   & yes & 4.75 & 2.33 & 3.50 & 5.67 & 5.67 & student & busan & 25\\\\\n\t 2 & 2 & 6 & 7 & 4 & 7 & 1 & 7 & 7 & female & yes & 5.50 & 7.00 & 5.75 & 1.00 & 7.00 & student & busan & 22\\\\\n\t 2 & 3 & 4 & 7 & 5 & 6 & 4 & 5 & 5 & male   & yes & 2.75 & 3.33 & 3.50 & 4.33 & 2.67 & student & busan & 25\\\\\n\t 2 & 2 & 1 & 7 & 3 & 6 & 1 & 6 & 6 & female & yes & 1.50 & 1.00 & 1.75 & 2.00 & 3.67 & student & busan & 22\\\\\n\t 2 & 5 & 5 & 7 & 4 & 5 & 4 & 5 & 6 & female & yes & 2.50 & 3.33 & 4.50 & 2.00 & 6.00 & student & busan & 22\\\\\n\t 2 & 6 & 4 & 7 & 3 & 7 & 3 & 7 & 7 & female & yes & 3.75 & 1.00 & 5.50 & 6.67 & 7.00 & student & busan & 22\\\\\n\t 2 & 3 & 1 & 7 & 4 & 7 & 1 & 4 & 4 & female & yes & 1.00 & 2.00 & 6.25 & 7.00 & 6.67 & student & busan & 19\\\\\n\t 2 & 7 & 5 & 1 & 4 & 1 & 6 & 1 & 4 & female & yes & 4.50 & 4.00 & 3.50 & 3.00 & 3.00 & worker  & busan & 21\\\\\n\t 2 & 4 & 4 & 6 & 3 & 6 & 5 & 6 & 6 & male   & yes & 4.00 & 1.67 & 1.00 & 4.33 & 4.33 & worker  & busan & 18\\\\\n\t 2 & 6 & 6 & 7 & 3 & 7 & 4 & 7 & 7 & female & yes & 4.50 & 7.00 & 3.75 & 2.00 & 2.67 & worker  & busan & 21\\\\\n\t 2 & 5 & 6 & 5 & 4 & 5 & 4 & 3 & 3 & male   & no  & 2.75 & 4.33 & 3.50 & 5.00 & 4.00 & worker  & busan & 19\\\\\n\t 2 & 4 & 2 & 4 & 3 & 5 & 1 & 1 & 1 & male   & no  & 1.00 & 1.00 & 6.00 & 7.00 & 7.00 & worker  & busan & 19\\\\\n\t 2 & 4 & 6 & 7 & 4 & 2 & 1 & 1 & 1 & male   & yes & 3.50 & 2.67 & 4.50 & 4.00 & 5.33 & worker  & busan & 19\\\\\n\t 2 & 2 & 6 & 7 & 4 & 7 & 4 & 7 & 7 & male   & yes & 3.00 & 3.67 & 1.25 & 6.00 & 2.67 & worker  & busan & 19\\\\\n\t 2 & 4 & 4 & 7 & 5 & 7 & 4 & 3 & 3 & male   & yes & 3.75 & 4.00 & 3.75 & 3.00 & 4.00 & worker  & busan & 19\\\\\n\t 2 & 3 & 5 & 5 & 4 & 5 & 4 & 5 & 5 & male   & yes & 1.50 & 3.00 & 3.75 & 3.33 & 4.00 & worker  & busan & 18\\\\\n\t 2 & 2 & 6 & 7 & 3 & 7 & 3 & 7 & 7 & male   & no  & 2.75 & 2.33 & 3.25 & 4.00 & 3.33 & worker  & busan & 19\\\\\n\t 2 & 2 & 6 & 7 & 7 & 7 & 7 & 7 & 7 & male   & no  & 5.00 & 2.67 & 1.00 & 1.67 & 1.00 & worker  & busan & 19\\\\\n\t ⋮ & ⋮ & ⋮ & ⋮ & ⋮ & ⋮ & ⋮ & ⋮ & ⋮ & ⋮ & ⋮ & ⋮ & ⋮ & ⋮ & ⋮ & ⋮ & ⋮ & ⋮ & ⋮\\\\\n\t 2 & 3 & 3 & 7 & 5 & 7 & 1 & 7 & 7 & female & yes & 2.00 & 4.00 & 4.75 & 3.00 & 4.00 & student & seoul & 19\\\\\n\t 2 & 7 & 7 & 7 & 4 & 7 & 3 & 7 & 7 & male   & yes & 5.75 & 5.00 & 5.25 & 3.67 & 4.00 & student & seoul & 23\\\\\n\t 2 & 5 & 7 & 7 & 5 & 7 & 2 & 7 & 7 & female & yes & 4.00 & 4.00 & 5.50 & 2.67 & 4.33 & student & seoul & 23\\\\\n\t 2 & 6 & 5 & 6 & 4 & 6 & 5 & 5 & 5 & male   & yes & 4.75 & 5.67 & 4.75 & 2.67 & 3.33 & student & seoul & 23\\\\\n\t 2 & 3 & 4 & 7 & 4 & 7 & 2 & 5 & 5 & male   & yes & 4.25 & 5.00 & 4.75 & 4.00 & 4.00 & student & seoul & 23\\\\\n\t 2 & 2 & 5 & 6 & 4 & 6 & 3 & 5 & 6 & male   & yes & 4.25 & 2.67 & 6.25 & 3.33 & 5.00 & student & seoul & 21\\\\\n\t 2 & 6 & 7 & 7 & 6 & 7 & 3 & 5 & 5 & female & yes & 4.25 & 5.00 & 2.00 & 3.00 & 3.33 & student & seoul & 20\\\\\n\t 2 & 6 & 5 & 6 & 4 & 5 & 4 & 5 & 5 & female & yes & 5.00 & 4.00 & 4.00 & 2.00 & 4.33 & student & seoul & 21\\\\\n\t 2 & 5 & 6 & 7 & 5 & 5 & 4 & 1 & 1 & female & yes & 5.00 & 5.33 & 6.00 & 4.00 & 4.00 & student & seoul & 21\\\\\n\t 2 & 6 & 7 & 6 & 4 & 6 & 4 & 5 & 6 & male   & yes & 5.00 & 3.67 & 4.00 & 3.67 & 4.33 & student & seoul & 22\\\\\n\t 2 & 4 & 6 & 7 & 5 & 7 & 7 & 7 & 7 & male   & yes & 1.00 & 6.00 & 1.00 & 1.00 & 3.00 & student & seoul & 22\\\\\n\t 2 & 3 & 1 & 5 & 1 & 5 & 3 & 1 & 2 & male   & yes & 1.00 & 1.67 & 1.00 & 7.00 & 4.00 & worker  & seoul & 24\\\\\n\t 2 & 5 & 5 & 7 & 6 & 7 & 4 & 1 & 1 & male   & yes & 2.00 & 4.00 & 2.00 & 2.00 & 3.00 & worker  & seoul & 23\\\\\n\t 2 & 5 & 6 & 6 & 5 & 7 & 4 & 2 & 2 & female & yes & 5.25 & 6.00 & 4.75 & 2.00 & 3.67 & worker  & seoul & 24\\\\\n\t 2 & 3 & 5 & 7 & 5 & 7 & 3 & 6 & 6 & female & yes & 1.75 & 2.33 & 5.25 & 4.67 & 4.00 & worker  & seoul & 19\\\\\n\t 2 & 7 & 5 & 7 & 5 & 7 & 6 & 7 & 7 & female & yes & 4.50 & 5.00 & 4.00 & 4.00 & 3.00 & worker  & seoul & 19\\\\\n\t 2 & 3 & 4 & 5 & 4 & 4 & 5 & 4 & 3 & male   & no  & 4.50 & 4.00 & 4.00 & 3.67 & 4.33 & worker  & seoul & 23\\\\\n\t 2 & 4 & 4 & 3 & 2 & 3 & 2 & 3 & 3 & female & yes & 2.75 & 2.00 & 3.50 & 2.33 & 4.00 & worker  & seoul & 21\\\\\n\t 2 & 5 & 6 & 4 & 5 & 6 & 6 & 5 & 4 & female & yes & 5.00 & 5.67 & 4.75 & 3.00 & 2.67 & worker  & seoul & 20\\\\\n\t 2 & 4 & 4 & 4 & 5 & 3 & 4 & 6 & 4 & male   & no  & 3.75 & 3.00 & 4.00 & 3.67 & 4.33 & worker  & seoul & 23\\\\\n\t 2 & 4 & 4 & 3 & 4 & 3 & 1 & 4 & 5 & male   & yes & 2.25 & 2.33 & 3.50 & 3.33 & 4.00 & worker  & seoul & 20\\\\\n\t 2 & 4 & 7 & 7 & 6 & 7 & 5 & 1 & 1 & female & yes & 1.00 & 7.00 & 5.00 & 4.00 & 4.33 & worker  & seoul & 20\\\\\n\t 2 & 4 & 6 & 7 & 2 & 7 & 6 & 6 & 6 & male   & yes & 5.50 & 5.00 & 4.00 & 4.67 & 4.33 & worker  & seoul & 24\\\\\n\t 2 & 1 & 5 & 7 & 4 & 7 & 2 & 7 & 7 & female & no  & 2.50 & 3.67 & 3.25 & 3.33 & 4.00 & worker  & seoul & 20\\\\\n\t 2 & 6 & 6 & 7 & 6 & 7 & 4 & 7 & 7 & female & no  & 5.25 & 3.67 & 6.00 & 3.33 & 3.33 & worker  & seoul & 22\\\\\n\t 2 & 4 & 7 & 7 & 4 & 7 & 3 & 4 & 4 & male   & no  & 5.25 & 5.00 & 4.75 & 3.33 & 5.33 & worker  & seoul & 22\\\\\n\t 2 & 5 & 3 & 6 & 6 & 5 & 2 & 6 & 6 & male   & no  & 4.75 & 6.00 & 5.50 & 1.67 & 4.33 & worker  & busan & 20\\\\\n\t 2 & 5 & 4 & 6 & 6 & 5 & 4 & 4 & 4 & female & no  & 3.00 & 3.00 & 4.25 & 3.00 & 3.33 & worker  & busan & 20\\\\\n\t 2 & 1 & 1 & 4 & 1 & 4 & 1 & 1 & 1 & female & yes & 1.00 & 1.00 & 1.00 & 4.00 & 4.00 & worker  & busan & 19\\\\\n\t 2 & 4 & 6 & 7 & 7 & 7 & 1 & 7 & 7 & male   & yes & 4.50 & 1.00 & 5.25 & 3.33 & 4.33 & worker  & busan & 19\\\\\n\\end{tabular}\n",
            "text/plain": [
              "    programtype dramapref varietypref brandaware brandpref programaware\n",
              "1   2           4         4           7          7         7           \n",
              "2   2           4         7           7          5         7           \n",
              "3   2           5         6           7          3         7           \n",
              "4   2           6         2           7          4         3           \n",
              "5   2           2         7           3          3         6           \n",
              "6   2           4         4           7          6         7           \n",
              "7   2           5         2           7          7         7           \n",
              "8   2           2         5           6          4         6           \n",
              "9   2           1         7           7          4         7           \n",
              "10  2           5         5           7          6         7           \n",
              "11  2           6         6           7          4         7           \n",
              "12  2           5         4           7          6         6           \n",
              "13  2           2         4           7          3         7           \n",
              "14  2           2         6           7          4         7           \n",
              "15  2           3         4           7          5         6           \n",
              "16  2           2         1           7          3         6           \n",
              "17  2           5         5           7          4         5           \n",
              "18  2           6         4           7          3         7           \n",
              "19  2           3         1           7          4         7           \n",
              "20  2           7         5           1          4         1           \n",
              "21  2           4         4           6          3         6           \n",
              "22  2           6         6           7          3         7           \n",
              "23  2           5         6           5          4         5           \n",
              "24  2           4         2           4          3         5           \n",
              "25  2           4         6           7          4         2           \n",
              "26  2           2         6           7          4         7           \n",
              "27  2           4         4           7          5         7           \n",
              "28  2           3         5           5          4         5           \n",
              "29  2           2         6           7          3         7           \n",
              "30  2           2         6           7          7         7           \n",
              "⋮   ⋮           ⋮         ⋮           ⋮          ⋮         ⋮           \n",
              "147 2           3         3           7          5         7           \n",
              "148 2           7         7           7          4         7           \n",
              "149 2           5         7           7          5         7           \n",
              "150 2           6         5           6          4         6           \n",
              "151 2           3         4           7          4         7           \n",
              "152 2           2         5           6          4         6           \n",
              "153 2           6         7           7          6         7           \n",
              "154 2           6         5           6          4         5           \n",
              "155 2           5         6           7          5         5           \n",
              "156 2           6         7           6          4         6           \n",
              "157 2           4         6           7          5         7           \n",
              "158 2           3         1           5          1         5           \n",
              "159 2           5         5           7          6         7           \n",
              "160 2           5         6           6          5         7           \n",
              "161 2           3         5           7          5         7           \n",
              "162 2           7         5           7          5         7           \n",
              "163 2           3         4           5          4         4           \n",
              "164 2           4         4           3          2         3           \n",
              "165 2           5         6           4          5         6           \n",
              "166 2           4         4           4          5         3           \n",
              "167 2           4         4           3          4         3           \n",
              "168 2           4         7           7          6         7           \n",
              "169 2           4         6           7          2         7           \n",
              "170 2           1         5           7          4         7           \n",
              "171 2           6         6           7          6         7           \n",
              "172 2           4         7           7          4         7           \n",
              "173 2           5         3           6          6         5           \n",
              "174 2           5         4           6          6         5           \n",
              "175 2           1         1           4          1         4           \n",
              "176 2           4         6           7          7         7           \n",
              "    programpref modelaware modelpref gender pplaware fun  like reactance\n",
              "1   4           1          1         female yes      5.00 4.00 6.00     \n",
              "2   5           7          7         male   yes      3.50 6.67 6.00     \n",
              "3   4           7          7         female yes      4.75 5.00 2.75     \n",
              "4   2           2          2         female no       3.75 2.00 4.00     \n",
              "5   4           6          6         male   yes      5.00 5.33 4.00     \n",
              "6   4           7          7         female yes      3.50 3.67 3.75     \n",
              "7   1           7          3         female yes      5.25 2.33 6.75     \n",
              "8   3           5          5         male   yes      4.00 4.00 5.00     \n",
              "9   5           7          7         male   yes      3.75 4.00 3.00     \n",
              "10  6           7          7         female yes      3.50 3.67 2.00     \n",
              "11  4           5          5         male   yes      5.00 3.67 3.25     \n",
              "12  4           5          5         female yes      5.00 2.67 4.00     \n",
              "13  3           6          7         male   yes      4.75 2.33 3.50     \n",
              "14  1           7          7         female yes      5.50 7.00 5.75     \n",
              "15  4           5          5         male   yes      2.75 3.33 3.50     \n",
              "16  1           6          6         female yes      1.50 1.00 1.75     \n",
              "17  4           5          6         female yes      2.50 3.33 4.50     \n",
              "18  3           7          7         female yes      3.75 1.00 5.50     \n",
              "19  1           4          4         female yes      1.00 2.00 6.25     \n",
              "20  6           1          4         female yes      4.50 4.00 3.50     \n",
              "21  5           6          6         male   yes      4.00 1.67 1.00     \n",
              "22  4           7          7         female yes      4.50 7.00 3.75     \n",
              "23  4           3          3         male   no       2.75 4.33 3.50     \n",
              "24  1           1          1         male   no       1.00 1.00 6.00     \n",
              "25  1           1          1         male   yes      3.50 2.67 4.50     \n",
              "26  4           7          7         male   yes      3.00 3.67 1.25     \n",
              "27  4           3          3         male   yes      3.75 4.00 3.75     \n",
              "28  4           5          5         male   yes      1.50 3.00 3.75     \n",
              "29  3           7          7         male   no       2.75 2.33 3.25     \n",
              "30  7           7          7         male   no       5.00 2.67 1.00     \n",
              "⋮   ⋮           ⋮          ⋮         ⋮      ⋮        ⋮    ⋮    ⋮        \n",
              "147 1           7          7         female yes      2.00 4.00 4.75     \n",
              "148 3           7          7         male   yes      5.75 5.00 5.25     \n",
              "149 2           7          7         female yes      4.00 4.00 5.50     \n",
              "150 5           5          5         male   yes      4.75 5.67 4.75     \n",
              "151 2           5          5         male   yes      4.25 5.00 4.75     \n",
              "152 3           5          6         male   yes      4.25 2.67 6.25     \n",
              "153 3           5          5         female yes      4.25 5.00 2.00     \n",
              "154 4           5          5         female yes      5.00 4.00 4.00     \n",
              "155 4           1          1         female yes      5.00 5.33 6.00     \n",
              "156 4           5          6         male   yes      5.00 3.67 4.00     \n",
              "157 7           7          7         male   yes      1.00 6.00 1.00     \n",
              "158 3           1          2         male   yes      1.00 1.67 1.00     \n",
              "159 4           1          1         male   yes      2.00 4.00 2.00     \n",
              "160 4           2          2         female yes      5.25 6.00 4.75     \n",
              "161 3           6          6         female yes      1.75 2.33 5.25     \n",
              "162 6           7          7         female yes      4.50 5.00 4.00     \n",
              "163 5           4          3         male   no       4.50 4.00 4.00     \n",
              "164 2           3          3         female yes      2.75 2.00 3.50     \n",
              "165 6           5          4         female yes      5.00 5.67 4.75     \n",
              "166 4           6          4         male   no       3.75 3.00 4.00     \n",
              "167 1           4          5         male   yes      2.25 2.33 3.50     \n",
              "168 5           1          1         female yes      1.00 7.00 5.00     \n",
              "169 6           6          6         male   yes      5.50 5.00 4.00     \n",
              "170 2           7          7         female no       2.50 3.67 3.25     \n",
              "171 4           7          7         female no       5.25 3.67 6.00     \n",
              "172 3           4          4         male   no       5.25 5.00 4.75     \n",
              "173 2           6          6         male   no       4.75 6.00 5.50     \n",
              "174 4           4          4         female no       3.00 3.00 4.25     \n",
              "175 1           1          1         female yes      1.00 1.00 1.00     \n",
              "176 1           7          7         male   yes      4.50 1.00 5.25     \n",
              "    brandattitude programattitude job     city  age\n",
              "1   3.00          3.33            student busan 22 \n",
              "2   2.00          2.33            student busan 24 \n",
              "3   4.33          3.67            student busan 20 \n",
              "4   6.00          4.00            student busan 23 \n",
              "5   5.67          3.67            student busan 22 \n",
              "6   3.33          4.00            student busan 21 \n",
              "7   1.00          7.00            student busan 22 \n",
              "8   3.00          3.33            student busan 23 \n",
              "9   2.00          1.67            student busan 25 \n",
              "10  5.33          1.67            student busan 21 \n",
              "11  5.33          4.00            student busan 25 \n",
              "12  1.67          3.33            student busan 23 \n",
              "13  5.67          5.67            student busan 25 \n",
              "14  1.00          7.00            student busan 22 \n",
              "15  4.33          2.67            student busan 25 \n",
              "16  2.00          3.67            student busan 22 \n",
              "17  2.00          6.00            student busan 22 \n",
              "18  6.67          7.00            student busan 22 \n",
              "19  7.00          6.67            student busan 19 \n",
              "20  3.00          3.00            worker  busan 21 \n",
              "21  4.33          4.33            worker  busan 18 \n",
              "22  2.00          2.67            worker  busan 21 \n",
              "23  5.00          4.00            worker  busan 19 \n",
              "24  7.00          7.00            worker  busan 19 \n",
              "25  4.00          5.33            worker  busan 19 \n",
              "26  6.00          2.67            worker  busan 19 \n",
              "27  3.00          4.00            worker  busan 19 \n",
              "28  3.33          4.00            worker  busan 18 \n",
              "29  4.00          3.33            worker  busan 19 \n",
              "30  1.67          1.00            worker  busan 19 \n",
              "⋮   ⋮             ⋮               ⋮       ⋮     ⋮  \n",
              "147 3.00          4.00            student seoul 19 \n",
              "148 3.67          4.00            student seoul 23 \n",
              "149 2.67          4.33            student seoul 23 \n",
              "150 2.67          3.33            student seoul 23 \n",
              "151 4.00          4.00            student seoul 23 \n",
              "152 3.33          5.00            student seoul 21 \n",
              "153 3.00          3.33            student seoul 20 \n",
              "154 2.00          4.33            student seoul 21 \n",
              "155 4.00          4.00            student seoul 21 \n",
              "156 3.67          4.33            student seoul 22 \n",
              "157 1.00          3.00            student seoul 22 \n",
              "158 7.00          4.00            worker  seoul 24 \n",
              "159 2.00          3.00            worker  seoul 23 \n",
              "160 2.00          3.67            worker  seoul 24 \n",
              "161 4.67          4.00            worker  seoul 19 \n",
              "162 4.00          3.00            worker  seoul 19 \n",
              "163 3.67          4.33            worker  seoul 23 \n",
              "164 2.33          4.00            worker  seoul 21 \n",
              "165 3.00          2.67            worker  seoul 20 \n",
              "166 3.67          4.33            worker  seoul 23 \n",
              "167 3.33          4.00            worker  seoul 20 \n",
              "168 4.00          4.33            worker  seoul 20 \n",
              "169 4.67          4.33            worker  seoul 24 \n",
              "170 3.33          4.00            worker  seoul 20 \n",
              "171 3.33          3.33            worker  seoul 22 \n",
              "172 3.33          5.33            worker  seoul 22 \n",
              "173 1.67          4.33            worker  busan 20 \n",
              "174 3.00          3.33            worker  busan 20 \n",
              "175 4.00          4.00            worker  busan 19 \n",
              "176 3.33          4.33            worker  busan 19 "
            ]
          },
          "metadata": {}
        }
      ]
    },
    {
      "cell_type": "code",
      "source": [
        "# head() 함수를 사용한다.\n",
        "head(sampledata)"
      ],
      "metadata": {
        "colab": {
          "base_uri": "https://localhost:8080/",
          "height": 306
        },
        "id": "dIVZ4DMZsepd",
        "outputId": "c0af808d-ac6c-4526-dd18-c0fef89f6e61"
      },
      "execution_count": null,
      "outputs": [
        {
          "output_type": "display_data",
          "data": {
            "text/html": [
              "<table class=\"dataframe\">\n",
              "<caption>A data.frame: 6 × 19</caption>\n",
              "<thead>\n",
              "\t<tr><th></th><th scope=col>programtype</th><th scope=col>dramapref</th><th scope=col>varietypref</th><th scope=col>brandaware</th><th scope=col>brandpref</th><th scope=col>programaware</th><th scope=col>programpref</th><th scope=col>modelaware</th><th scope=col>modelpref</th><th scope=col>gender</th><th scope=col>pplaware</th><th scope=col>fun</th><th scope=col>like</th><th scope=col>reactance</th><th scope=col>brandattitude</th><th scope=col>programattitude</th><th scope=col>job</th><th scope=col>city</th><th scope=col>age</th></tr>\n",
              "\t<tr><th></th><th scope=col>&lt;int&gt;</th><th scope=col>&lt;int&gt;</th><th scope=col>&lt;int&gt;</th><th scope=col>&lt;int&gt;</th><th scope=col>&lt;int&gt;</th><th scope=col>&lt;int&gt;</th><th scope=col>&lt;int&gt;</th><th scope=col>&lt;int&gt;</th><th scope=col>&lt;int&gt;</th><th scope=col>&lt;chr&gt;</th><th scope=col>&lt;chr&gt;</th><th scope=col>&lt;dbl&gt;</th><th scope=col>&lt;dbl&gt;</th><th scope=col>&lt;dbl&gt;</th><th scope=col>&lt;dbl&gt;</th><th scope=col>&lt;dbl&gt;</th><th scope=col>&lt;chr&gt;</th><th scope=col>&lt;chr&gt;</th><th scope=col>&lt;int&gt;</th></tr>\n",
              "</thead>\n",
              "<tbody>\n",
              "\t<tr><th scope=row>1</th><td>2</td><td>4</td><td>4</td><td>7</td><td>7</td><td>7</td><td>4</td><td>1</td><td>1</td><td>female</td><td>yes</td><td>5.00</td><td>4.00</td><td>6.00</td><td>3.00</td><td>3.33</td><td>student</td><td>busan</td><td>22</td></tr>\n",
              "\t<tr><th scope=row>2</th><td>2</td><td>4</td><td>7</td><td>7</td><td>5</td><td>7</td><td>5</td><td>7</td><td>7</td><td>male  </td><td>yes</td><td>3.50</td><td>6.67</td><td>6.00</td><td>2.00</td><td>2.33</td><td>student</td><td>busan</td><td>24</td></tr>\n",
              "\t<tr><th scope=row>3</th><td>2</td><td>5</td><td>6</td><td>7</td><td>3</td><td>7</td><td>4</td><td>7</td><td>7</td><td>female</td><td>yes</td><td>4.75</td><td>5.00</td><td>2.75</td><td>4.33</td><td>3.67</td><td>student</td><td>busan</td><td>20</td></tr>\n",
              "\t<tr><th scope=row>4</th><td>2</td><td>6</td><td>2</td><td>7</td><td>4</td><td>3</td><td>2</td><td>2</td><td>2</td><td>female</td><td>no </td><td>3.75</td><td>2.00</td><td>4.00</td><td>6.00</td><td>4.00</td><td>student</td><td>busan</td><td>23</td></tr>\n",
              "\t<tr><th scope=row>5</th><td>2</td><td>2</td><td>7</td><td>3</td><td>3</td><td>6</td><td>4</td><td>6</td><td>6</td><td>male  </td><td>yes</td><td>5.00</td><td>5.33</td><td>4.00</td><td>5.67</td><td>3.67</td><td>student</td><td>busan</td><td>22</td></tr>\n",
              "\t<tr><th scope=row>6</th><td>2</td><td>4</td><td>4</td><td>7</td><td>6</td><td>7</td><td>4</td><td>7</td><td>7</td><td>female</td><td>yes</td><td>3.50</td><td>3.67</td><td>3.75</td><td>3.33</td><td>4.00</td><td>student</td><td>busan</td><td>21</td></tr>\n",
              "</tbody>\n",
              "</table>\n"
            ],
            "text/markdown": "\nA data.frame: 6 × 19\n\n| <!--/--> | programtype &lt;int&gt; | dramapref &lt;int&gt; | varietypref &lt;int&gt; | brandaware &lt;int&gt; | brandpref &lt;int&gt; | programaware &lt;int&gt; | programpref &lt;int&gt; | modelaware &lt;int&gt; | modelpref &lt;int&gt; | gender &lt;chr&gt; | pplaware &lt;chr&gt; | fun &lt;dbl&gt; | like &lt;dbl&gt; | reactance &lt;dbl&gt; | brandattitude &lt;dbl&gt; | programattitude &lt;dbl&gt; | job &lt;chr&gt; | city &lt;chr&gt; | age &lt;int&gt; |\n|---|---|---|---|---|---|---|---|---|---|---|---|---|---|---|---|---|---|---|---|\n| 1 | 2 | 4 | 4 | 7 | 7 | 7 | 4 | 1 | 1 | female | yes | 5.00 | 4.00 | 6.00 | 3.00 | 3.33 | student | busan | 22 |\n| 2 | 2 | 4 | 7 | 7 | 5 | 7 | 5 | 7 | 7 | male   | yes | 3.50 | 6.67 | 6.00 | 2.00 | 2.33 | student | busan | 24 |\n| 3 | 2 | 5 | 6 | 7 | 3 | 7 | 4 | 7 | 7 | female | yes | 4.75 | 5.00 | 2.75 | 4.33 | 3.67 | student | busan | 20 |\n| 4 | 2 | 6 | 2 | 7 | 4 | 3 | 2 | 2 | 2 | female | no  | 3.75 | 2.00 | 4.00 | 6.00 | 4.00 | student | busan | 23 |\n| 5 | 2 | 2 | 7 | 3 | 3 | 6 | 4 | 6 | 6 | male   | yes | 5.00 | 5.33 | 4.00 | 5.67 | 3.67 | student | busan | 22 |\n| 6 | 2 | 4 | 4 | 7 | 6 | 7 | 4 | 7 | 7 | female | yes | 3.50 | 3.67 | 3.75 | 3.33 | 4.00 | student | busan | 21 |\n\n",
            "text/latex": "A data.frame: 6 × 19\n\\begin{tabular}{r|lllllllllllllllllll}\n  & programtype & dramapref & varietypref & brandaware & brandpref & programaware & programpref & modelaware & modelpref & gender & pplaware & fun & like & reactance & brandattitude & programattitude & job & city & age\\\\\n  & <int> & <int> & <int> & <int> & <int> & <int> & <int> & <int> & <int> & <chr> & <chr> & <dbl> & <dbl> & <dbl> & <dbl> & <dbl> & <chr> & <chr> & <int>\\\\\n\\hline\n\t1 & 2 & 4 & 4 & 7 & 7 & 7 & 4 & 1 & 1 & female & yes & 5.00 & 4.00 & 6.00 & 3.00 & 3.33 & student & busan & 22\\\\\n\t2 & 2 & 4 & 7 & 7 & 5 & 7 & 5 & 7 & 7 & male   & yes & 3.50 & 6.67 & 6.00 & 2.00 & 2.33 & student & busan & 24\\\\\n\t3 & 2 & 5 & 6 & 7 & 3 & 7 & 4 & 7 & 7 & female & yes & 4.75 & 5.00 & 2.75 & 4.33 & 3.67 & student & busan & 20\\\\\n\t4 & 2 & 6 & 2 & 7 & 4 & 3 & 2 & 2 & 2 & female & no  & 3.75 & 2.00 & 4.00 & 6.00 & 4.00 & student & busan & 23\\\\\n\t5 & 2 & 2 & 7 & 3 & 3 & 6 & 4 & 6 & 6 & male   & yes & 5.00 & 5.33 & 4.00 & 5.67 & 3.67 & student & busan & 22\\\\\n\t6 & 2 & 4 & 4 & 7 & 6 & 7 & 4 & 7 & 7 & female & yes & 3.50 & 3.67 & 3.75 & 3.33 & 4.00 & student & busan & 21\\\\\n\\end{tabular}\n",
            "text/plain": [
              "  programtype dramapref varietypref brandaware brandpref programaware\n",
              "1 2           4         4           7          7         7           \n",
              "2 2           4         7           7          5         7           \n",
              "3 2           5         6           7          3         7           \n",
              "4 2           6         2           7          4         3           \n",
              "5 2           2         7           3          3         6           \n",
              "6 2           4         4           7          6         7           \n",
              "  programpref modelaware modelpref gender pplaware fun  like reactance\n",
              "1 4           1          1         female yes      5.00 4.00 6.00     \n",
              "2 5           7          7         male   yes      3.50 6.67 6.00     \n",
              "3 4           7          7         female yes      4.75 5.00 2.75     \n",
              "4 2           2          2         female no       3.75 2.00 4.00     \n",
              "5 4           6          6         male   yes      5.00 5.33 4.00     \n",
              "6 4           7          7         female yes      3.50 3.67 3.75     \n",
              "  brandattitude programattitude job     city  age\n",
              "1 3.00          3.33            student busan 22 \n",
              "2 2.00          2.33            student busan 24 \n",
              "3 4.33          3.67            student busan 20 \n",
              "4 6.00          4.00            student busan 23 \n",
              "5 5.67          3.67            student busan 22 \n",
              "6 3.33          4.00            student busan 21 "
            ]
          },
          "metadata": {}
        }
      ]
    },
    {
      "cell_type": "code",
      "source": [
        "summary(sampledata[,5])"
      ],
      "metadata": {
        "colab": {
          "base_uri": "https://localhost:8080/",
          "height": 53
        },
        "id": "sUgS1Hsbsnh9",
        "outputId": "9d72e1da-dddc-4a52-9cd4-4f733f877b0d"
      },
      "execution_count": null,
      "outputs": [
        {
          "output_type": "display_data",
          "data": {
            "text/plain": [
              "   Min. 1st Qu.  Median    Mean 3rd Qu.    Max. \n",
              "  1.000   3.000   4.000   4.068   5.000   7.000 "
            ]
          },
          "metadata": {}
        }
      ]
    },
    {
      "cell_type": "code",
      "source": [
        "mean(sampledata[,5])"
      ],
      "metadata": {
        "colab": {
          "base_uri": "https://localhost:8080/",
          "height": 34
        },
        "id": "qUpUs2VWswx4",
        "outputId": "fb0cbc09-e167-4208-cadc-b34adb0c9093"
      },
      "execution_count": null,
      "outputs": [
        {
          "output_type": "display_data",
          "data": {
            "text/html": [
              "4.06818181818182"
            ],
            "text/markdown": "4.06818181818182",
            "text/latex": "4.06818181818182",
            "text/plain": [
              "[1] 4.068182"
            ]
          },
          "metadata": {}
        }
      ]
    },
    {
      "cell_type": "code",
      "source": [
        "median(sampledata[,5])"
      ],
      "metadata": {
        "colab": {
          "base_uri": "https://localhost:8080/",
          "height": 34
        },
        "id": "gWuAlYGosyb3",
        "outputId": "7badcdd2-6a4a-47d8-89e9-b476186e449c"
      },
      "execution_count": null,
      "outputs": [
        {
          "output_type": "display_data",
          "data": {
            "text/html": [
              "4"
            ],
            "text/markdown": "4",
            "text/latex": "4",
            "text/plain": [
              "[1] 4"
            ]
          },
          "metadata": {}
        }
      ]
    },
    {
      "cell_type": "code",
      "source": [
        "sd(sampledata[,5])"
      ],
      "metadata": {
        "id": "gvxc6GSA_k3k",
        "colab": {
          "base_uri": "https://localhost:8080/",
          "height": 34
        },
        "outputId": "f17235a3-3603-4de7-a0f1-88768e9e8a1c"
      },
      "execution_count": null,
      "outputs": [
        {
          "output_type": "display_data",
          "data": {
            "text/html": [
              "1.2943433374977"
            ],
            "text/markdown": "1.2943433374977",
            "text/latex": "1.2943433374977",
            "text/plain": [
              "[1] 1.294343"
            ]
          },
          "metadata": {}
        }
      ]
    },
    {
      "cell_type": "code",
      "source": [
        "var(sampledata[,5])"
      ],
      "metadata": {
        "colab": {
          "base_uri": "https://localhost:8080/",
          "height": 34
        },
        "id": "yfjO4ACU1jAX",
        "outputId": "e81d8416-9348-4d96-bd50-a3da92acd5d3"
      },
      "execution_count": null,
      "outputs": [
        {
          "output_type": "display_data",
          "data": {
            "text/html": [
              "1.67532467532468"
            ],
            "text/markdown": "1.67532467532468",
            "text/latex": "1.67532467532468",
            "text/plain": [
              "[1] 1.675325"
            ]
          },
          "metadata": {}
        }
      ]
    },
    {
      "cell_type": "code",
      "source": [
        "max(sampledata[,5])"
      ],
      "metadata": {
        "colab": {
          "base_uri": "https://localhost:8080/",
          "height": 34
        },
        "outputId": "412003ba-622b-487c-f909-2e8df810b430",
        "id": "MUlR1OU8_bow"
      },
      "execution_count": null,
      "outputs": [
        {
          "output_type": "display_data",
          "data": {
            "text/html": [
              "7"
            ],
            "text/markdown": "7",
            "text/latex": "7",
            "text/plain": [
              "[1] 7"
            ]
          },
          "metadata": {}
        }
      ]
    },
    {
      "cell_type": "code",
      "source": [
        "min(sampledata[,5])"
      ],
      "metadata": {
        "colab": {
          "base_uri": "https://localhost:8080/",
          "height": 34
        },
        "id": "UrPLEPCH1q5X",
        "outputId": "cc567878-b062-472e-cb98-62b4665d56ea"
      },
      "execution_count": null,
      "outputs": [
        {
          "output_type": "display_data",
          "data": {
            "text/html": [
              "1"
            ],
            "text/markdown": "1",
            "text/latex": "1",
            "text/plain": [
              "[1] 1"
            ]
          },
          "metadata": {}
        }
      ]
    },
    {
      "cell_type": "code",
      "source": [
        "range(sampledata[,5])"
      ],
      "metadata": {
        "colab": {
          "base_uri": "https://localhost:8080/",
          "height": 34
        },
        "id": "1mCq8oAh1_Y-",
        "outputId": "e5eb29b6-73c1-423e-d95d-92b22216a5cd"
      },
      "execution_count": null,
      "outputs": [
        {
          "output_type": "display_data",
          "data": {
            "text/html": [
              "<style>\n",
              ".list-inline {list-style: none; margin:0; padding: 0}\n",
              ".list-inline>li {display: inline-block}\n",
              ".list-inline>li:not(:last-child)::after {content: \"\\00b7\"; padding: 0 .5ex}\n",
              "</style>\n",
              "<ol class=list-inline><li>1</li><li>7</li></ol>\n"
            ],
            "text/markdown": "1. 1\n2. 7\n\n\n",
            "text/latex": "\\begin{enumerate*}\n\\item 1\n\\item 7\n\\end{enumerate*}\n",
            "text/plain": [
              "[1] 1 7"
            ]
          },
          "metadata": {}
        }
      ]
    },
    {
      "cell_type": "code",
      "source": [
        "quantile(sampledata[,5])"
      ],
      "metadata": {
        "colab": {
          "base_uri": "https://localhost:8080/",
          "height": 34
        },
        "id": "Pr7e0ZFa148n",
        "outputId": "117406a3-542d-4335-d6a4-f78a8b56507e"
      },
      "execution_count": null,
      "outputs": [
        {
          "output_type": "display_data",
          "data": {
            "text/html": [
              "<style>\n",
              ".dl-inline {width: auto; margin:0; padding: 0}\n",
              ".dl-inline>dt, .dl-inline>dd {float: none; width: auto; display: inline-block}\n",
              ".dl-inline>dt::after {content: \":\\0020\"; padding-right: .5ex}\n",
              ".dl-inline>dt:not(:first-of-type) {padding-left: .5ex}\n",
              "</style><dl class=dl-inline><dt>0%</dt><dd>1</dd><dt>25%</dt><dd>3</dd><dt>50%</dt><dd>4</dd><dt>75%</dt><dd>5</dd><dt>100%</dt><dd>7</dd></dl>\n"
            ],
            "text/markdown": "0%\n:   125%\n:   350%\n:   475%\n:   5100%\n:   7\n\n",
            "text/latex": "\\begin{description*}\n\\item[0\\textbackslash{}\\%] 1\n\\item[25\\textbackslash{}\\%] 3\n\\item[50\\textbackslash{}\\%] 4\n\\item[75\\textbackslash{}\\%] 5\n\\item[100\\textbackslash{}\\%] 7\n\\end{description*}\n",
            "text/plain": [
              "  0%  25%  50%  75% 100% \n",
              "   1    3    4    5    7 "
            ]
          },
          "metadata": {}
        }
      ]
    },
    {
      "cell_type": "code",
      "source": [
        "quantile(sampledata[,5]),c([.3,.6,.9])"
      ],
      "metadata": {
        "id": "RXg_F6MHADfz",
        "colab": {
          "base_uri": "https://localhost:8080/",
          "height": 110
        },
        "outputId": "336807cd-2415-4740-d5d2-60ba919faca1"
      },
      "execution_count": null,
      "outputs": [
        {
          "output_type": "error",
          "ename": "ERROR",
          "evalue": "Error in parse(text = x, srcfile = src): <text>:1:25: unexpected ','\n1: quantile(sampledata[,5]),\n                            ^\n",
          "traceback": [
            "Error in parse(text = x, srcfile = src): <text>:1:25: unexpected ','\n1: quantile(sampledata[,5]),\n                            ^\nTraceback:\n"
          ]
        }
      ]
    },
    {
      "cell_type": "code",
      "source": [
        "quantiles <- sampledata[,5]\n",
        "quantile(probs = c(0.3, 0.6, 0.9))\n",
        "\n",
        "# Print the quantiles\n",
        "print(quantiles)"
      ],
      "metadata": {
        "colab": {
          "base_uri": "https://localhost:8080/",
          "height": 147
        },
        "id": "02W6tKzGkmXX",
        "outputId": "7dd8a4ea-5a85-40e1-8428-68afe9400758"
      },
      "execution_count": null,
      "outputs": [
        {
          "output_type": "error",
          "ename": "ERROR",
          "evalue": "Error in quantile.default(probs = c(0.3, 0.6, 0.9)): argument \"x\" is missing, with no default\n",
          "traceback": [
            "Error in quantile.default(probs = c(0.3, 0.6, 0.9)): argument \"x\" is missing, with no default\nTraceback:\n",
            "1. quantile(probs = c(0.3, 0.6, 0.9))",
            "2. quantile.default(probs = c(0.3, 0.6, 0.9))",
            "3. is.factor(x)"
          ]
        }
      ]
    },
    {
      "cell_type": "code",
      "source": [
        "fivenum(sampledata[,5])"
      ],
      "metadata": {
        "colab": {
          "base_uri": "https://localhost:8080/",
          "height": 34
        },
        "id": "c0m2X4SF1xm9",
        "outputId": "95c3f684-c283-41b6-cc27-c347e68c7972"
      },
      "execution_count": null,
      "outputs": [
        {
          "output_type": "display_data",
          "data": {
            "text/html": [
              "<style>\n",
              ".list-inline {list-style: none; margin:0; padding: 0}\n",
              ".list-inline>li {display: inline-block}\n",
              ".list-inline>li:not(:last-child)::after {content: \"\\00b7\"; padding: 0 .5ex}\n",
              "</style>\n",
              "<ol class=list-inline><li>1</li><li>3</li><li>4</li><li>5</li><li>7</li></ol>\n"
            ],
            "text/markdown": "1. 1\n2. 3\n3. 4\n4. 5\n5. 7\n\n\n",
            "text/latex": "\\begin{enumerate*}\n\\item 1\n\\item 3\n\\item 4\n\\item 5\n\\item 7\n\\end{enumerate*}\n",
            "text/plain": [
              "[1] 1 3 4 5 7"
            ]
          },
          "metadata": {}
        }
      ]
    },
    {
      "cell_type": "code",
      "source": [
        "length(sampledata[,5])"
      ],
      "metadata": {
        "colab": {
          "base_uri": "https://localhost:8080/",
          "height": 34
        },
        "id": "iB3rcnfA1vO7",
        "outputId": "44faf632-8f86-493a-ed6e-cc8e126e2782"
      },
      "execution_count": null,
      "outputs": [
        {
          "output_type": "display_data",
          "data": {
            "text/html": [
              "176"
            ],
            "text/markdown": "176",
            "text/latex": "176",
            "text/plain": [
              "[1] 176"
            ]
          },
          "metadata": {}
        }
      ]
    },
    {
      "cell_type": "markdown",
      "source": [
        "# **다양한 그래프 활용**"
      ],
      "metadata": {
        "id": "1Mf0Wtc8AZ6L"
      }
    },
    {
      "cell_type": "code",
      "source": [
        "# CSV 파일을 데이터 프레임으로 읽기\n",
        "sampledata=read.csv(file_path)\n",
        "sampledata"
      ],
      "metadata": {
        "colab": {
          "base_uri": "https://localhost:8080/",
          "height": 1000
        },
        "id": "zxOcwOZ12GM1",
        "outputId": "8698af3d-e218-4d81-8bf2-1b680a760e09"
      },
      "execution_count": null,
      "outputs": [
        {
          "output_type": "display_data",
          "data": {
            "text/html": [
              "<table class=\"dataframe\">\n",
              "<caption>A data.frame: 176 × 19</caption>\n",
              "<thead>\n",
              "\t<tr><th scope=col>programtype</th><th scope=col>dramapref</th><th scope=col>varietypref</th><th scope=col>brandaware</th><th scope=col>brandpref</th><th scope=col>programaware</th><th scope=col>programpref</th><th scope=col>modelaware</th><th scope=col>modelpref</th><th scope=col>gender</th><th scope=col>pplaware</th><th scope=col>fun</th><th scope=col>like</th><th scope=col>reactance</th><th scope=col>brandattitude</th><th scope=col>programattitude</th><th scope=col>job</th><th scope=col>city</th><th scope=col>age</th></tr>\n",
              "\t<tr><th scope=col>&lt;int&gt;</th><th scope=col>&lt;int&gt;</th><th scope=col>&lt;int&gt;</th><th scope=col>&lt;int&gt;</th><th scope=col>&lt;int&gt;</th><th scope=col>&lt;int&gt;</th><th scope=col>&lt;int&gt;</th><th scope=col>&lt;int&gt;</th><th scope=col>&lt;int&gt;</th><th scope=col>&lt;chr&gt;</th><th scope=col>&lt;chr&gt;</th><th scope=col>&lt;dbl&gt;</th><th scope=col>&lt;dbl&gt;</th><th scope=col>&lt;dbl&gt;</th><th scope=col>&lt;dbl&gt;</th><th scope=col>&lt;dbl&gt;</th><th scope=col>&lt;chr&gt;</th><th scope=col>&lt;chr&gt;</th><th scope=col>&lt;int&gt;</th></tr>\n",
              "</thead>\n",
              "<tbody>\n",
              "\t<tr><td>2</td><td>4</td><td>4</td><td>7</td><td>7</td><td>7</td><td>4</td><td>1</td><td>1</td><td>female</td><td>yes</td><td>5.00</td><td>4.00</td><td>6.00</td><td>3.00</td><td>3.33</td><td>student</td><td>busan</td><td>22</td></tr>\n",
              "\t<tr><td>2</td><td>4</td><td>7</td><td>7</td><td>5</td><td>7</td><td>5</td><td>7</td><td>7</td><td>male  </td><td>yes</td><td>3.50</td><td>6.67</td><td>6.00</td><td>2.00</td><td>2.33</td><td>student</td><td>busan</td><td>24</td></tr>\n",
              "\t<tr><td>2</td><td>5</td><td>6</td><td>7</td><td>3</td><td>7</td><td>4</td><td>7</td><td>7</td><td>female</td><td>yes</td><td>4.75</td><td>5.00</td><td>2.75</td><td>4.33</td><td>3.67</td><td>student</td><td>busan</td><td>20</td></tr>\n",
              "\t<tr><td>2</td><td>6</td><td>2</td><td>7</td><td>4</td><td>3</td><td>2</td><td>2</td><td>2</td><td>female</td><td>no </td><td>3.75</td><td>2.00</td><td>4.00</td><td>6.00</td><td>4.00</td><td>student</td><td>busan</td><td>23</td></tr>\n",
              "\t<tr><td>2</td><td>2</td><td>7</td><td>3</td><td>3</td><td>6</td><td>4</td><td>6</td><td>6</td><td>male  </td><td>yes</td><td>5.00</td><td>5.33</td><td>4.00</td><td>5.67</td><td>3.67</td><td>student</td><td>busan</td><td>22</td></tr>\n",
              "\t<tr><td>2</td><td>4</td><td>4</td><td>7</td><td>6</td><td>7</td><td>4</td><td>7</td><td>7</td><td>female</td><td>yes</td><td>3.50</td><td>3.67</td><td>3.75</td><td>3.33</td><td>4.00</td><td>student</td><td>busan</td><td>21</td></tr>\n",
              "\t<tr><td>2</td><td>5</td><td>2</td><td>7</td><td>7</td><td>7</td><td>1</td><td>7</td><td>3</td><td>female</td><td>yes</td><td>5.25</td><td>2.33</td><td>6.75</td><td>1.00</td><td>7.00</td><td>student</td><td>busan</td><td>22</td></tr>\n",
              "\t<tr><td>2</td><td>2</td><td>5</td><td>6</td><td>4</td><td>6</td><td>3</td><td>5</td><td>5</td><td>male  </td><td>yes</td><td>4.00</td><td>4.00</td><td>5.00</td><td>3.00</td><td>3.33</td><td>student</td><td>busan</td><td>23</td></tr>\n",
              "\t<tr><td>2</td><td>1</td><td>7</td><td>7</td><td>4</td><td>7</td><td>5</td><td>7</td><td>7</td><td>male  </td><td>yes</td><td>3.75</td><td>4.00</td><td>3.00</td><td>2.00</td><td>1.67</td><td>student</td><td>busan</td><td>25</td></tr>\n",
              "\t<tr><td>2</td><td>5</td><td>5</td><td>7</td><td>6</td><td>7</td><td>6</td><td>7</td><td>7</td><td>female</td><td>yes</td><td>3.50</td><td>3.67</td><td>2.00</td><td>5.33</td><td>1.67</td><td>student</td><td>busan</td><td>21</td></tr>\n",
              "\t<tr><td>2</td><td>6</td><td>6</td><td>7</td><td>4</td><td>7</td><td>4</td><td>5</td><td>5</td><td>male  </td><td>yes</td><td>5.00</td><td>3.67</td><td>3.25</td><td>5.33</td><td>4.00</td><td>student</td><td>busan</td><td>25</td></tr>\n",
              "\t<tr><td>2</td><td>5</td><td>4</td><td>7</td><td>6</td><td>6</td><td>4</td><td>5</td><td>5</td><td>female</td><td>yes</td><td>5.00</td><td>2.67</td><td>4.00</td><td>1.67</td><td>3.33</td><td>student</td><td>busan</td><td>23</td></tr>\n",
              "\t<tr><td>2</td><td>2</td><td>4</td><td>7</td><td>3</td><td>7</td><td>3</td><td>6</td><td>7</td><td>male  </td><td>yes</td><td>4.75</td><td>2.33</td><td>3.50</td><td>5.67</td><td>5.67</td><td>student</td><td>busan</td><td>25</td></tr>\n",
              "\t<tr><td>2</td><td>2</td><td>6</td><td>7</td><td>4</td><td>7</td><td>1</td><td>7</td><td>7</td><td>female</td><td>yes</td><td>5.50</td><td>7.00</td><td>5.75</td><td>1.00</td><td>7.00</td><td>student</td><td>busan</td><td>22</td></tr>\n",
              "\t<tr><td>2</td><td>3</td><td>4</td><td>7</td><td>5</td><td>6</td><td>4</td><td>5</td><td>5</td><td>male  </td><td>yes</td><td>2.75</td><td>3.33</td><td>3.50</td><td>4.33</td><td>2.67</td><td>student</td><td>busan</td><td>25</td></tr>\n",
              "\t<tr><td>2</td><td>2</td><td>1</td><td>7</td><td>3</td><td>6</td><td>1</td><td>6</td><td>6</td><td>female</td><td>yes</td><td>1.50</td><td>1.00</td><td>1.75</td><td>2.00</td><td>3.67</td><td>student</td><td>busan</td><td>22</td></tr>\n",
              "\t<tr><td>2</td><td>5</td><td>5</td><td>7</td><td>4</td><td>5</td><td>4</td><td>5</td><td>6</td><td>female</td><td>yes</td><td>2.50</td><td>3.33</td><td>4.50</td><td>2.00</td><td>6.00</td><td>student</td><td>busan</td><td>22</td></tr>\n",
              "\t<tr><td>2</td><td>6</td><td>4</td><td>7</td><td>3</td><td>7</td><td>3</td><td>7</td><td>7</td><td>female</td><td>yes</td><td>3.75</td><td>1.00</td><td>5.50</td><td>6.67</td><td>7.00</td><td>student</td><td>busan</td><td>22</td></tr>\n",
              "\t<tr><td>2</td><td>3</td><td>1</td><td>7</td><td>4</td><td>7</td><td>1</td><td>4</td><td>4</td><td>female</td><td>yes</td><td>1.00</td><td>2.00</td><td>6.25</td><td>7.00</td><td>6.67</td><td>student</td><td>busan</td><td>19</td></tr>\n",
              "\t<tr><td>2</td><td>7</td><td>5</td><td>1</td><td>4</td><td>1</td><td>6</td><td>1</td><td>4</td><td>female</td><td>yes</td><td>4.50</td><td>4.00</td><td>3.50</td><td>3.00</td><td>3.00</td><td>worker </td><td>busan</td><td>21</td></tr>\n",
              "\t<tr><td>2</td><td>4</td><td>4</td><td>6</td><td>3</td><td>6</td><td>5</td><td>6</td><td>6</td><td>male  </td><td>yes</td><td>4.00</td><td>1.67</td><td>1.00</td><td>4.33</td><td>4.33</td><td>worker </td><td>busan</td><td>18</td></tr>\n",
              "\t<tr><td>2</td><td>6</td><td>6</td><td>7</td><td>3</td><td>7</td><td>4</td><td>7</td><td>7</td><td>female</td><td>yes</td><td>4.50</td><td>7.00</td><td>3.75</td><td>2.00</td><td>2.67</td><td>worker </td><td>busan</td><td>21</td></tr>\n",
              "\t<tr><td>2</td><td>5</td><td>6</td><td>5</td><td>4</td><td>5</td><td>4</td><td>3</td><td>3</td><td>male  </td><td>no </td><td>2.75</td><td>4.33</td><td>3.50</td><td>5.00</td><td>4.00</td><td>worker </td><td>busan</td><td>19</td></tr>\n",
              "\t<tr><td>2</td><td>4</td><td>2</td><td>4</td><td>3</td><td>5</td><td>1</td><td>1</td><td>1</td><td>male  </td><td>no </td><td>1.00</td><td>1.00</td><td>6.00</td><td>7.00</td><td>7.00</td><td>worker </td><td>busan</td><td>19</td></tr>\n",
              "\t<tr><td>2</td><td>4</td><td>6</td><td>7</td><td>4</td><td>2</td><td>1</td><td>1</td><td>1</td><td>male  </td><td>yes</td><td>3.50</td><td>2.67</td><td>4.50</td><td>4.00</td><td>5.33</td><td>worker </td><td>busan</td><td>19</td></tr>\n",
              "\t<tr><td>2</td><td>2</td><td>6</td><td>7</td><td>4</td><td>7</td><td>4</td><td>7</td><td>7</td><td>male  </td><td>yes</td><td>3.00</td><td>3.67</td><td>1.25</td><td>6.00</td><td>2.67</td><td>worker </td><td>busan</td><td>19</td></tr>\n",
              "\t<tr><td>2</td><td>4</td><td>4</td><td>7</td><td>5</td><td>7</td><td>4</td><td>3</td><td>3</td><td>male  </td><td>yes</td><td>3.75</td><td>4.00</td><td>3.75</td><td>3.00</td><td>4.00</td><td>worker </td><td>busan</td><td>19</td></tr>\n",
              "\t<tr><td>2</td><td>3</td><td>5</td><td>5</td><td>4</td><td>5</td><td>4</td><td>5</td><td>5</td><td>male  </td><td>yes</td><td>1.50</td><td>3.00</td><td>3.75</td><td>3.33</td><td>4.00</td><td>worker </td><td>busan</td><td>18</td></tr>\n",
              "\t<tr><td>2</td><td>2</td><td>6</td><td>7</td><td>3</td><td>7</td><td>3</td><td>7</td><td>7</td><td>male  </td><td>no </td><td>2.75</td><td>2.33</td><td>3.25</td><td>4.00</td><td>3.33</td><td>worker </td><td>busan</td><td>19</td></tr>\n",
              "\t<tr><td>2</td><td>2</td><td>6</td><td>7</td><td>7</td><td>7</td><td>7</td><td>7</td><td>7</td><td>male  </td><td>no </td><td>5.00</td><td>2.67</td><td>1.00</td><td>1.67</td><td>1.00</td><td>worker </td><td>busan</td><td>19</td></tr>\n",
              "\t<tr><td>⋮</td><td>⋮</td><td>⋮</td><td>⋮</td><td>⋮</td><td>⋮</td><td>⋮</td><td>⋮</td><td>⋮</td><td>⋮</td><td>⋮</td><td>⋮</td><td>⋮</td><td>⋮</td><td>⋮</td><td>⋮</td><td>⋮</td><td>⋮</td><td>⋮</td></tr>\n",
              "\t<tr><td>2</td><td>3</td><td>3</td><td>7</td><td>5</td><td>7</td><td>1</td><td>7</td><td>7</td><td>female</td><td>yes</td><td>2.00</td><td>4.00</td><td>4.75</td><td>3.00</td><td>4.00</td><td>student</td><td>seoul</td><td>19</td></tr>\n",
              "\t<tr><td>2</td><td>7</td><td>7</td><td>7</td><td>4</td><td>7</td><td>3</td><td>7</td><td>7</td><td>male  </td><td>yes</td><td>5.75</td><td>5.00</td><td>5.25</td><td>3.67</td><td>4.00</td><td>student</td><td>seoul</td><td>23</td></tr>\n",
              "\t<tr><td>2</td><td>5</td><td>7</td><td>7</td><td>5</td><td>7</td><td>2</td><td>7</td><td>7</td><td>female</td><td>yes</td><td>4.00</td><td>4.00</td><td>5.50</td><td>2.67</td><td>4.33</td><td>student</td><td>seoul</td><td>23</td></tr>\n",
              "\t<tr><td>2</td><td>6</td><td>5</td><td>6</td><td>4</td><td>6</td><td>5</td><td>5</td><td>5</td><td>male  </td><td>yes</td><td>4.75</td><td>5.67</td><td>4.75</td><td>2.67</td><td>3.33</td><td>student</td><td>seoul</td><td>23</td></tr>\n",
              "\t<tr><td>2</td><td>3</td><td>4</td><td>7</td><td>4</td><td>7</td><td>2</td><td>5</td><td>5</td><td>male  </td><td>yes</td><td>4.25</td><td>5.00</td><td>4.75</td><td>4.00</td><td>4.00</td><td>student</td><td>seoul</td><td>23</td></tr>\n",
              "\t<tr><td>2</td><td>2</td><td>5</td><td>6</td><td>4</td><td>6</td><td>3</td><td>5</td><td>6</td><td>male  </td><td>yes</td><td>4.25</td><td>2.67</td><td>6.25</td><td>3.33</td><td>5.00</td><td>student</td><td>seoul</td><td>21</td></tr>\n",
              "\t<tr><td>2</td><td>6</td><td>7</td><td>7</td><td>6</td><td>7</td><td>3</td><td>5</td><td>5</td><td>female</td><td>yes</td><td>4.25</td><td>5.00</td><td>2.00</td><td>3.00</td><td>3.33</td><td>student</td><td>seoul</td><td>20</td></tr>\n",
              "\t<tr><td>2</td><td>6</td><td>5</td><td>6</td><td>4</td><td>5</td><td>4</td><td>5</td><td>5</td><td>female</td><td>yes</td><td>5.00</td><td>4.00</td><td>4.00</td><td>2.00</td><td>4.33</td><td>student</td><td>seoul</td><td>21</td></tr>\n",
              "\t<tr><td>2</td><td>5</td><td>6</td><td>7</td><td>5</td><td>5</td><td>4</td><td>1</td><td>1</td><td>female</td><td>yes</td><td>5.00</td><td>5.33</td><td>6.00</td><td>4.00</td><td>4.00</td><td>student</td><td>seoul</td><td>21</td></tr>\n",
              "\t<tr><td>2</td><td>6</td><td>7</td><td>6</td><td>4</td><td>6</td><td>4</td><td>5</td><td>6</td><td>male  </td><td>yes</td><td>5.00</td><td>3.67</td><td>4.00</td><td>3.67</td><td>4.33</td><td>student</td><td>seoul</td><td>22</td></tr>\n",
              "\t<tr><td>2</td><td>4</td><td>6</td><td>7</td><td>5</td><td>7</td><td>7</td><td>7</td><td>7</td><td>male  </td><td>yes</td><td>1.00</td><td>6.00</td><td>1.00</td><td>1.00</td><td>3.00</td><td>student</td><td>seoul</td><td>22</td></tr>\n",
              "\t<tr><td>2</td><td>3</td><td>1</td><td>5</td><td>1</td><td>5</td><td>3</td><td>1</td><td>2</td><td>male  </td><td>yes</td><td>1.00</td><td>1.67</td><td>1.00</td><td>7.00</td><td>4.00</td><td>worker </td><td>seoul</td><td>24</td></tr>\n",
              "\t<tr><td>2</td><td>5</td><td>5</td><td>7</td><td>6</td><td>7</td><td>4</td><td>1</td><td>1</td><td>male  </td><td>yes</td><td>2.00</td><td>4.00</td><td>2.00</td><td>2.00</td><td>3.00</td><td>worker </td><td>seoul</td><td>23</td></tr>\n",
              "\t<tr><td>2</td><td>5</td><td>6</td><td>6</td><td>5</td><td>7</td><td>4</td><td>2</td><td>2</td><td>female</td><td>yes</td><td>5.25</td><td>6.00</td><td>4.75</td><td>2.00</td><td>3.67</td><td>worker </td><td>seoul</td><td>24</td></tr>\n",
              "\t<tr><td>2</td><td>3</td><td>5</td><td>7</td><td>5</td><td>7</td><td>3</td><td>6</td><td>6</td><td>female</td><td>yes</td><td>1.75</td><td>2.33</td><td>5.25</td><td>4.67</td><td>4.00</td><td>worker </td><td>seoul</td><td>19</td></tr>\n",
              "\t<tr><td>2</td><td>7</td><td>5</td><td>7</td><td>5</td><td>7</td><td>6</td><td>7</td><td>7</td><td>female</td><td>yes</td><td>4.50</td><td>5.00</td><td>4.00</td><td>4.00</td><td>3.00</td><td>worker </td><td>seoul</td><td>19</td></tr>\n",
              "\t<tr><td>2</td><td>3</td><td>4</td><td>5</td><td>4</td><td>4</td><td>5</td><td>4</td><td>3</td><td>male  </td><td>no </td><td>4.50</td><td>4.00</td><td>4.00</td><td>3.67</td><td>4.33</td><td>worker </td><td>seoul</td><td>23</td></tr>\n",
              "\t<tr><td>2</td><td>4</td><td>4</td><td>3</td><td>2</td><td>3</td><td>2</td><td>3</td><td>3</td><td>female</td><td>yes</td><td>2.75</td><td>2.00</td><td>3.50</td><td>2.33</td><td>4.00</td><td>worker </td><td>seoul</td><td>21</td></tr>\n",
              "\t<tr><td>2</td><td>5</td><td>6</td><td>4</td><td>5</td><td>6</td><td>6</td><td>5</td><td>4</td><td>female</td><td>yes</td><td>5.00</td><td>5.67</td><td>4.75</td><td>3.00</td><td>2.67</td><td>worker </td><td>seoul</td><td>20</td></tr>\n",
              "\t<tr><td>2</td><td>4</td><td>4</td><td>4</td><td>5</td><td>3</td><td>4</td><td>6</td><td>4</td><td>male  </td><td>no </td><td>3.75</td><td>3.00</td><td>4.00</td><td>3.67</td><td>4.33</td><td>worker </td><td>seoul</td><td>23</td></tr>\n",
              "\t<tr><td>2</td><td>4</td><td>4</td><td>3</td><td>4</td><td>3</td><td>1</td><td>4</td><td>5</td><td>male  </td><td>yes</td><td>2.25</td><td>2.33</td><td>3.50</td><td>3.33</td><td>4.00</td><td>worker </td><td>seoul</td><td>20</td></tr>\n",
              "\t<tr><td>2</td><td>4</td><td>7</td><td>7</td><td>6</td><td>7</td><td>5</td><td>1</td><td>1</td><td>female</td><td>yes</td><td>1.00</td><td>7.00</td><td>5.00</td><td>4.00</td><td>4.33</td><td>worker </td><td>seoul</td><td>20</td></tr>\n",
              "\t<tr><td>2</td><td>4</td><td>6</td><td>7</td><td>2</td><td>7</td><td>6</td><td>6</td><td>6</td><td>male  </td><td>yes</td><td>5.50</td><td>5.00</td><td>4.00</td><td>4.67</td><td>4.33</td><td>worker </td><td>seoul</td><td>24</td></tr>\n",
              "\t<tr><td>2</td><td>1</td><td>5</td><td>7</td><td>4</td><td>7</td><td>2</td><td>7</td><td>7</td><td>female</td><td>no </td><td>2.50</td><td>3.67</td><td>3.25</td><td>3.33</td><td>4.00</td><td>worker </td><td>seoul</td><td>20</td></tr>\n",
              "\t<tr><td>2</td><td>6</td><td>6</td><td>7</td><td>6</td><td>7</td><td>4</td><td>7</td><td>7</td><td>female</td><td>no </td><td>5.25</td><td>3.67</td><td>6.00</td><td>3.33</td><td>3.33</td><td>worker </td><td>seoul</td><td>22</td></tr>\n",
              "\t<tr><td>2</td><td>4</td><td>7</td><td>7</td><td>4</td><td>7</td><td>3</td><td>4</td><td>4</td><td>male  </td><td>no </td><td>5.25</td><td>5.00</td><td>4.75</td><td>3.33</td><td>5.33</td><td>worker </td><td>seoul</td><td>22</td></tr>\n",
              "\t<tr><td>2</td><td>5</td><td>3</td><td>6</td><td>6</td><td>5</td><td>2</td><td>6</td><td>6</td><td>male  </td><td>no </td><td>4.75</td><td>6.00</td><td>5.50</td><td>1.67</td><td>4.33</td><td>worker </td><td>busan</td><td>20</td></tr>\n",
              "\t<tr><td>2</td><td>5</td><td>4</td><td>6</td><td>6</td><td>5</td><td>4</td><td>4</td><td>4</td><td>female</td><td>no </td><td>3.00</td><td>3.00</td><td>4.25</td><td>3.00</td><td>3.33</td><td>worker </td><td>busan</td><td>20</td></tr>\n",
              "\t<tr><td>2</td><td>1</td><td>1</td><td>4</td><td>1</td><td>4</td><td>1</td><td>1</td><td>1</td><td>female</td><td>yes</td><td>1.00</td><td>1.00</td><td>1.00</td><td>4.00</td><td>4.00</td><td>worker </td><td>busan</td><td>19</td></tr>\n",
              "\t<tr><td>2</td><td>4</td><td>6</td><td>7</td><td>7</td><td>7</td><td>1</td><td>7</td><td>7</td><td>male  </td><td>yes</td><td>4.50</td><td>1.00</td><td>5.25</td><td>3.33</td><td>4.33</td><td>worker </td><td>busan</td><td>19</td></tr>\n",
              "</tbody>\n",
              "</table>\n"
            ],
            "text/markdown": "\nA data.frame: 176 × 19\n\n| programtype &lt;int&gt; | dramapref &lt;int&gt; | varietypref &lt;int&gt; | brandaware &lt;int&gt; | brandpref &lt;int&gt; | programaware &lt;int&gt; | programpref &lt;int&gt; | modelaware &lt;int&gt; | modelpref &lt;int&gt; | gender &lt;chr&gt; | pplaware &lt;chr&gt; | fun &lt;dbl&gt; | like &lt;dbl&gt; | reactance &lt;dbl&gt; | brandattitude &lt;dbl&gt; | programattitude &lt;dbl&gt; | job &lt;chr&gt; | city &lt;chr&gt; | age &lt;int&gt; |\n|---|---|---|---|---|---|---|---|---|---|---|---|---|---|---|---|---|---|---|\n| 2 | 4 | 4 | 7 | 7 | 7 | 4 | 1 | 1 | female | yes | 5.00 | 4.00 | 6.00 | 3.00 | 3.33 | student | busan | 22 |\n| 2 | 4 | 7 | 7 | 5 | 7 | 5 | 7 | 7 | male   | yes | 3.50 | 6.67 | 6.00 | 2.00 | 2.33 | student | busan | 24 |\n| 2 | 5 | 6 | 7 | 3 | 7 | 4 | 7 | 7 | female | yes | 4.75 | 5.00 | 2.75 | 4.33 | 3.67 | student | busan | 20 |\n| 2 | 6 | 2 | 7 | 4 | 3 | 2 | 2 | 2 | female | no  | 3.75 | 2.00 | 4.00 | 6.00 | 4.00 | student | busan | 23 |\n| 2 | 2 | 7 | 3 | 3 | 6 | 4 | 6 | 6 | male   | yes | 5.00 | 5.33 | 4.00 | 5.67 | 3.67 | student | busan | 22 |\n| 2 | 4 | 4 | 7 | 6 | 7 | 4 | 7 | 7 | female | yes | 3.50 | 3.67 | 3.75 | 3.33 | 4.00 | student | busan | 21 |\n| 2 | 5 | 2 | 7 | 7 | 7 | 1 | 7 | 3 | female | yes | 5.25 | 2.33 | 6.75 | 1.00 | 7.00 | student | busan | 22 |\n| 2 | 2 | 5 | 6 | 4 | 6 | 3 | 5 | 5 | male   | yes | 4.00 | 4.00 | 5.00 | 3.00 | 3.33 | student | busan | 23 |\n| 2 | 1 | 7 | 7 | 4 | 7 | 5 | 7 | 7 | male   | yes | 3.75 | 4.00 | 3.00 | 2.00 | 1.67 | student | busan | 25 |\n| 2 | 5 | 5 | 7 | 6 | 7 | 6 | 7 | 7 | female | yes | 3.50 | 3.67 | 2.00 | 5.33 | 1.67 | student | busan | 21 |\n| 2 | 6 | 6 | 7 | 4 | 7 | 4 | 5 | 5 | male   | yes | 5.00 | 3.67 | 3.25 | 5.33 | 4.00 | student | busan | 25 |\n| 2 | 5 | 4 | 7 | 6 | 6 | 4 | 5 | 5 | female | yes | 5.00 | 2.67 | 4.00 | 1.67 | 3.33 | student | busan | 23 |\n| 2 | 2 | 4 | 7 | 3 | 7 | 3 | 6 | 7 | male   | yes | 4.75 | 2.33 | 3.50 | 5.67 | 5.67 | student | busan | 25 |\n| 2 | 2 | 6 | 7 | 4 | 7 | 1 | 7 | 7 | female | yes | 5.50 | 7.00 | 5.75 | 1.00 | 7.00 | student | busan | 22 |\n| 2 | 3 | 4 | 7 | 5 | 6 | 4 | 5 | 5 | male   | yes | 2.75 | 3.33 | 3.50 | 4.33 | 2.67 | student | busan | 25 |\n| 2 | 2 | 1 | 7 | 3 | 6 | 1 | 6 | 6 | female | yes | 1.50 | 1.00 | 1.75 | 2.00 | 3.67 | student | busan | 22 |\n| 2 | 5 | 5 | 7 | 4 | 5 | 4 | 5 | 6 | female | yes | 2.50 | 3.33 | 4.50 | 2.00 | 6.00 | student | busan | 22 |\n| 2 | 6 | 4 | 7 | 3 | 7 | 3 | 7 | 7 | female | yes | 3.75 | 1.00 | 5.50 | 6.67 | 7.00 | student | busan | 22 |\n| 2 | 3 | 1 | 7 | 4 | 7 | 1 | 4 | 4 | female | yes | 1.00 | 2.00 | 6.25 | 7.00 | 6.67 | student | busan | 19 |\n| 2 | 7 | 5 | 1 | 4 | 1 | 6 | 1 | 4 | female | yes | 4.50 | 4.00 | 3.50 | 3.00 | 3.00 | worker  | busan | 21 |\n| 2 | 4 | 4 | 6 | 3 | 6 | 5 | 6 | 6 | male   | yes | 4.00 | 1.67 | 1.00 | 4.33 | 4.33 | worker  | busan | 18 |\n| 2 | 6 | 6 | 7 | 3 | 7 | 4 | 7 | 7 | female | yes | 4.50 | 7.00 | 3.75 | 2.00 | 2.67 | worker  | busan | 21 |\n| 2 | 5 | 6 | 5 | 4 | 5 | 4 | 3 | 3 | male   | no  | 2.75 | 4.33 | 3.50 | 5.00 | 4.00 | worker  | busan | 19 |\n| 2 | 4 | 2 | 4 | 3 | 5 | 1 | 1 | 1 | male   | no  | 1.00 | 1.00 | 6.00 | 7.00 | 7.00 | worker  | busan | 19 |\n| 2 | 4 | 6 | 7 | 4 | 2 | 1 | 1 | 1 | male   | yes | 3.50 | 2.67 | 4.50 | 4.00 | 5.33 | worker  | busan | 19 |\n| 2 | 2 | 6 | 7 | 4 | 7 | 4 | 7 | 7 | male   | yes | 3.00 | 3.67 | 1.25 | 6.00 | 2.67 | worker  | busan | 19 |\n| 2 | 4 | 4 | 7 | 5 | 7 | 4 | 3 | 3 | male   | yes | 3.75 | 4.00 | 3.75 | 3.00 | 4.00 | worker  | busan | 19 |\n| 2 | 3 | 5 | 5 | 4 | 5 | 4 | 5 | 5 | male   | yes | 1.50 | 3.00 | 3.75 | 3.33 | 4.00 | worker  | busan | 18 |\n| 2 | 2 | 6 | 7 | 3 | 7 | 3 | 7 | 7 | male   | no  | 2.75 | 2.33 | 3.25 | 4.00 | 3.33 | worker  | busan | 19 |\n| 2 | 2 | 6 | 7 | 7 | 7 | 7 | 7 | 7 | male   | no  | 5.00 | 2.67 | 1.00 | 1.67 | 1.00 | worker  | busan | 19 |\n| ⋮ | ⋮ | ⋮ | ⋮ | ⋮ | ⋮ | ⋮ | ⋮ | ⋮ | ⋮ | ⋮ | ⋮ | ⋮ | ⋮ | ⋮ | ⋮ | ⋮ | ⋮ | ⋮ |\n| 2 | 3 | 3 | 7 | 5 | 7 | 1 | 7 | 7 | female | yes | 2.00 | 4.00 | 4.75 | 3.00 | 4.00 | student | seoul | 19 |\n| 2 | 7 | 7 | 7 | 4 | 7 | 3 | 7 | 7 | male   | yes | 5.75 | 5.00 | 5.25 | 3.67 | 4.00 | student | seoul | 23 |\n| 2 | 5 | 7 | 7 | 5 | 7 | 2 | 7 | 7 | female | yes | 4.00 | 4.00 | 5.50 | 2.67 | 4.33 | student | seoul | 23 |\n| 2 | 6 | 5 | 6 | 4 | 6 | 5 | 5 | 5 | male   | yes | 4.75 | 5.67 | 4.75 | 2.67 | 3.33 | student | seoul | 23 |\n| 2 | 3 | 4 | 7 | 4 | 7 | 2 | 5 | 5 | male   | yes | 4.25 | 5.00 | 4.75 | 4.00 | 4.00 | student | seoul | 23 |\n| 2 | 2 | 5 | 6 | 4 | 6 | 3 | 5 | 6 | male   | yes | 4.25 | 2.67 | 6.25 | 3.33 | 5.00 | student | seoul | 21 |\n| 2 | 6 | 7 | 7 | 6 | 7 | 3 | 5 | 5 | female | yes | 4.25 | 5.00 | 2.00 | 3.00 | 3.33 | student | seoul | 20 |\n| 2 | 6 | 5 | 6 | 4 | 5 | 4 | 5 | 5 | female | yes | 5.00 | 4.00 | 4.00 | 2.00 | 4.33 | student | seoul | 21 |\n| 2 | 5 | 6 | 7 | 5 | 5 | 4 | 1 | 1 | female | yes | 5.00 | 5.33 | 6.00 | 4.00 | 4.00 | student | seoul | 21 |\n| 2 | 6 | 7 | 6 | 4 | 6 | 4 | 5 | 6 | male   | yes | 5.00 | 3.67 | 4.00 | 3.67 | 4.33 | student | seoul | 22 |\n| 2 | 4 | 6 | 7 | 5 | 7 | 7 | 7 | 7 | male   | yes | 1.00 | 6.00 | 1.00 | 1.00 | 3.00 | student | seoul | 22 |\n| 2 | 3 | 1 | 5 | 1 | 5 | 3 | 1 | 2 | male   | yes | 1.00 | 1.67 | 1.00 | 7.00 | 4.00 | worker  | seoul | 24 |\n| 2 | 5 | 5 | 7 | 6 | 7 | 4 | 1 | 1 | male   | yes | 2.00 | 4.00 | 2.00 | 2.00 | 3.00 | worker  | seoul | 23 |\n| 2 | 5 | 6 | 6 | 5 | 7 | 4 | 2 | 2 | female | yes | 5.25 | 6.00 | 4.75 | 2.00 | 3.67 | worker  | seoul | 24 |\n| 2 | 3 | 5 | 7 | 5 | 7 | 3 | 6 | 6 | female | yes | 1.75 | 2.33 | 5.25 | 4.67 | 4.00 | worker  | seoul | 19 |\n| 2 | 7 | 5 | 7 | 5 | 7 | 6 | 7 | 7 | female | yes | 4.50 | 5.00 | 4.00 | 4.00 | 3.00 | worker  | seoul | 19 |\n| 2 | 3 | 4 | 5 | 4 | 4 | 5 | 4 | 3 | male   | no  | 4.50 | 4.00 | 4.00 | 3.67 | 4.33 | worker  | seoul | 23 |\n| 2 | 4 | 4 | 3 | 2 | 3 | 2 | 3 | 3 | female | yes | 2.75 | 2.00 | 3.50 | 2.33 | 4.00 | worker  | seoul | 21 |\n| 2 | 5 | 6 | 4 | 5 | 6 | 6 | 5 | 4 | female | yes | 5.00 | 5.67 | 4.75 | 3.00 | 2.67 | worker  | seoul | 20 |\n| 2 | 4 | 4 | 4 | 5 | 3 | 4 | 6 | 4 | male   | no  | 3.75 | 3.00 | 4.00 | 3.67 | 4.33 | worker  | seoul | 23 |\n| 2 | 4 | 4 | 3 | 4 | 3 | 1 | 4 | 5 | male   | yes | 2.25 | 2.33 | 3.50 | 3.33 | 4.00 | worker  | seoul | 20 |\n| 2 | 4 | 7 | 7 | 6 | 7 | 5 | 1 | 1 | female | yes | 1.00 | 7.00 | 5.00 | 4.00 | 4.33 | worker  | seoul | 20 |\n| 2 | 4 | 6 | 7 | 2 | 7 | 6 | 6 | 6 | male   | yes | 5.50 | 5.00 | 4.00 | 4.67 | 4.33 | worker  | seoul | 24 |\n| 2 | 1 | 5 | 7 | 4 | 7 | 2 | 7 | 7 | female | no  | 2.50 | 3.67 | 3.25 | 3.33 | 4.00 | worker  | seoul | 20 |\n| 2 | 6 | 6 | 7 | 6 | 7 | 4 | 7 | 7 | female | no  | 5.25 | 3.67 | 6.00 | 3.33 | 3.33 | worker  | seoul | 22 |\n| 2 | 4 | 7 | 7 | 4 | 7 | 3 | 4 | 4 | male   | no  | 5.25 | 5.00 | 4.75 | 3.33 | 5.33 | worker  | seoul | 22 |\n| 2 | 5 | 3 | 6 | 6 | 5 | 2 | 6 | 6 | male   | no  | 4.75 | 6.00 | 5.50 | 1.67 | 4.33 | worker  | busan | 20 |\n| 2 | 5 | 4 | 6 | 6 | 5 | 4 | 4 | 4 | female | no  | 3.00 | 3.00 | 4.25 | 3.00 | 3.33 | worker  | busan | 20 |\n| 2 | 1 | 1 | 4 | 1 | 4 | 1 | 1 | 1 | female | yes | 1.00 | 1.00 | 1.00 | 4.00 | 4.00 | worker  | busan | 19 |\n| 2 | 4 | 6 | 7 | 7 | 7 | 1 | 7 | 7 | male   | yes | 4.50 | 1.00 | 5.25 | 3.33 | 4.33 | worker  | busan | 19 |\n\n",
            "text/latex": "A data.frame: 176 × 19\n\\begin{tabular}{lllllllllllllllllll}\n programtype & dramapref & varietypref & brandaware & brandpref & programaware & programpref & modelaware & modelpref & gender & pplaware & fun & like & reactance & brandattitude & programattitude & job & city & age\\\\\n <int> & <int> & <int> & <int> & <int> & <int> & <int> & <int> & <int> & <chr> & <chr> & <dbl> & <dbl> & <dbl> & <dbl> & <dbl> & <chr> & <chr> & <int>\\\\\n\\hline\n\t 2 & 4 & 4 & 7 & 7 & 7 & 4 & 1 & 1 & female & yes & 5.00 & 4.00 & 6.00 & 3.00 & 3.33 & student & busan & 22\\\\\n\t 2 & 4 & 7 & 7 & 5 & 7 & 5 & 7 & 7 & male   & yes & 3.50 & 6.67 & 6.00 & 2.00 & 2.33 & student & busan & 24\\\\\n\t 2 & 5 & 6 & 7 & 3 & 7 & 4 & 7 & 7 & female & yes & 4.75 & 5.00 & 2.75 & 4.33 & 3.67 & student & busan & 20\\\\\n\t 2 & 6 & 2 & 7 & 4 & 3 & 2 & 2 & 2 & female & no  & 3.75 & 2.00 & 4.00 & 6.00 & 4.00 & student & busan & 23\\\\\n\t 2 & 2 & 7 & 3 & 3 & 6 & 4 & 6 & 6 & male   & yes & 5.00 & 5.33 & 4.00 & 5.67 & 3.67 & student & busan & 22\\\\\n\t 2 & 4 & 4 & 7 & 6 & 7 & 4 & 7 & 7 & female & yes & 3.50 & 3.67 & 3.75 & 3.33 & 4.00 & student & busan & 21\\\\\n\t 2 & 5 & 2 & 7 & 7 & 7 & 1 & 7 & 3 & female & yes & 5.25 & 2.33 & 6.75 & 1.00 & 7.00 & student & busan & 22\\\\\n\t 2 & 2 & 5 & 6 & 4 & 6 & 3 & 5 & 5 & male   & yes & 4.00 & 4.00 & 5.00 & 3.00 & 3.33 & student & busan & 23\\\\\n\t 2 & 1 & 7 & 7 & 4 & 7 & 5 & 7 & 7 & male   & yes & 3.75 & 4.00 & 3.00 & 2.00 & 1.67 & student & busan & 25\\\\\n\t 2 & 5 & 5 & 7 & 6 & 7 & 6 & 7 & 7 & female & yes & 3.50 & 3.67 & 2.00 & 5.33 & 1.67 & student & busan & 21\\\\\n\t 2 & 6 & 6 & 7 & 4 & 7 & 4 & 5 & 5 & male   & yes & 5.00 & 3.67 & 3.25 & 5.33 & 4.00 & student & busan & 25\\\\\n\t 2 & 5 & 4 & 7 & 6 & 6 & 4 & 5 & 5 & female & yes & 5.00 & 2.67 & 4.00 & 1.67 & 3.33 & student & busan & 23\\\\\n\t 2 & 2 & 4 & 7 & 3 & 7 & 3 & 6 & 7 & male   & yes & 4.75 & 2.33 & 3.50 & 5.67 & 5.67 & student & busan & 25\\\\\n\t 2 & 2 & 6 & 7 & 4 & 7 & 1 & 7 & 7 & female & yes & 5.50 & 7.00 & 5.75 & 1.00 & 7.00 & student & busan & 22\\\\\n\t 2 & 3 & 4 & 7 & 5 & 6 & 4 & 5 & 5 & male   & yes & 2.75 & 3.33 & 3.50 & 4.33 & 2.67 & student & busan & 25\\\\\n\t 2 & 2 & 1 & 7 & 3 & 6 & 1 & 6 & 6 & female & yes & 1.50 & 1.00 & 1.75 & 2.00 & 3.67 & student & busan & 22\\\\\n\t 2 & 5 & 5 & 7 & 4 & 5 & 4 & 5 & 6 & female & yes & 2.50 & 3.33 & 4.50 & 2.00 & 6.00 & student & busan & 22\\\\\n\t 2 & 6 & 4 & 7 & 3 & 7 & 3 & 7 & 7 & female & yes & 3.75 & 1.00 & 5.50 & 6.67 & 7.00 & student & busan & 22\\\\\n\t 2 & 3 & 1 & 7 & 4 & 7 & 1 & 4 & 4 & female & yes & 1.00 & 2.00 & 6.25 & 7.00 & 6.67 & student & busan & 19\\\\\n\t 2 & 7 & 5 & 1 & 4 & 1 & 6 & 1 & 4 & female & yes & 4.50 & 4.00 & 3.50 & 3.00 & 3.00 & worker  & busan & 21\\\\\n\t 2 & 4 & 4 & 6 & 3 & 6 & 5 & 6 & 6 & male   & yes & 4.00 & 1.67 & 1.00 & 4.33 & 4.33 & worker  & busan & 18\\\\\n\t 2 & 6 & 6 & 7 & 3 & 7 & 4 & 7 & 7 & female & yes & 4.50 & 7.00 & 3.75 & 2.00 & 2.67 & worker  & busan & 21\\\\\n\t 2 & 5 & 6 & 5 & 4 & 5 & 4 & 3 & 3 & male   & no  & 2.75 & 4.33 & 3.50 & 5.00 & 4.00 & worker  & busan & 19\\\\\n\t 2 & 4 & 2 & 4 & 3 & 5 & 1 & 1 & 1 & male   & no  & 1.00 & 1.00 & 6.00 & 7.00 & 7.00 & worker  & busan & 19\\\\\n\t 2 & 4 & 6 & 7 & 4 & 2 & 1 & 1 & 1 & male   & yes & 3.50 & 2.67 & 4.50 & 4.00 & 5.33 & worker  & busan & 19\\\\\n\t 2 & 2 & 6 & 7 & 4 & 7 & 4 & 7 & 7 & male   & yes & 3.00 & 3.67 & 1.25 & 6.00 & 2.67 & worker  & busan & 19\\\\\n\t 2 & 4 & 4 & 7 & 5 & 7 & 4 & 3 & 3 & male   & yes & 3.75 & 4.00 & 3.75 & 3.00 & 4.00 & worker  & busan & 19\\\\\n\t 2 & 3 & 5 & 5 & 4 & 5 & 4 & 5 & 5 & male   & yes & 1.50 & 3.00 & 3.75 & 3.33 & 4.00 & worker  & busan & 18\\\\\n\t 2 & 2 & 6 & 7 & 3 & 7 & 3 & 7 & 7 & male   & no  & 2.75 & 2.33 & 3.25 & 4.00 & 3.33 & worker  & busan & 19\\\\\n\t 2 & 2 & 6 & 7 & 7 & 7 & 7 & 7 & 7 & male   & no  & 5.00 & 2.67 & 1.00 & 1.67 & 1.00 & worker  & busan & 19\\\\\n\t ⋮ & ⋮ & ⋮ & ⋮ & ⋮ & ⋮ & ⋮ & ⋮ & ⋮ & ⋮ & ⋮ & ⋮ & ⋮ & ⋮ & ⋮ & ⋮ & ⋮ & ⋮ & ⋮\\\\\n\t 2 & 3 & 3 & 7 & 5 & 7 & 1 & 7 & 7 & female & yes & 2.00 & 4.00 & 4.75 & 3.00 & 4.00 & student & seoul & 19\\\\\n\t 2 & 7 & 7 & 7 & 4 & 7 & 3 & 7 & 7 & male   & yes & 5.75 & 5.00 & 5.25 & 3.67 & 4.00 & student & seoul & 23\\\\\n\t 2 & 5 & 7 & 7 & 5 & 7 & 2 & 7 & 7 & female & yes & 4.00 & 4.00 & 5.50 & 2.67 & 4.33 & student & seoul & 23\\\\\n\t 2 & 6 & 5 & 6 & 4 & 6 & 5 & 5 & 5 & male   & yes & 4.75 & 5.67 & 4.75 & 2.67 & 3.33 & student & seoul & 23\\\\\n\t 2 & 3 & 4 & 7 & 4 & 7 & 2 & 5 & 5 & male   & yes & 4.25 & 5.00 & 4.75 & 4.00 & 4.00 & student & seoul & 23\\\\\n\t 2 & 2 & 5 & 6 & 4 & 6 & 3 & 5 & 6 & male   & yes & 4.25 & 2.67 & 6.25 & 3.33 & 5.00 & student & seoul & 21\\\\\n\t 2 & 6 & 7 & 7 & 6 & 7 & 3 & 5 & 5 & female & yes & 4.25 & 5.00 & 2.00 & 3.00 & 3.33 & student & seoul & 20\\\\\n\t 2 & 6 & 5 & 6 & 4 & 5 & 4 & 5 & 5 & female & yes & 5.00 & 4.00 & 4.00 & 2.00 & 4.33 & student & seoul & 21\\\\\n\t 2 & 5 & 6 & 7 & 5 & 5 & 4 & 1 & 1 & female & yes & 5.00 & 5.33 & 6.00 & 4.00 & 4.00 & student & seoul & 21\\\\\n\t 2 & 6 & 7 & 6 & 4 & 6 & 4 & 5 & 6 & male   & yes & 5.00 & 3.67 & 4.00 & 3.67 & 4.33 & student & seoul & 22\\\\\n\t 2 & 4 & 6 & 7 & 5 & 7 & 7 & 7 & 7 & male   & yes & 1.00 & 6.00 & 1.00 & 1.00 & 3.00 & student & seoul & 22\\\\\n\t 2 & 3 & 1 & 5 & 1 & 5 & 3 & 1 & 2 & male   & yes & 1.00 & 1.67 & 1.00 & 7.00 & 4.00 & worker  & seoul & 24\\\\\n\t 2 & 5 & 5 & 7 & 6 & 7 & 4 & 1 & 1 & male   & yes & 2.00 & 4.00 & 2.00 & 2.00 & 3.00 & worker  & seoul & 23\\\\\n\t 2 & 5 & 6 & 6 & 5 & 7 & 4 & 2 & 2 & female & yes & 5.25 & 6.00 & 4.75 & 2.00 & 3.67 & worker  & seoul & 24\\\\\n\t 2 & 3 & 5 & 7 & 5 & 7 & 3 & 6 & 6 & female & yes & 1.75 & 2.33 & 5.25 & 4.67 & 4.00 & worker  & seoul & 19\\\\\n\t 2 & 7 & 5 & 7 & 5 & 7 & 6 & 7 & 7 & female & yes & 4.50 & 5.00 & 4.00 & 4.00 & 3.00 & worker  & seoul & 19\\\\\n\t 2 & 3 & 4 & 5 & 4 & 4 & 5 & 4 & 3 & male   & no  & 4.50 & 4.00 & 4.00 & 3.67 & 4.33 & worker  & seoul & 23\\\\\n\t 2 & 4 & 4 & 3 & 2 & 3 & 2 & 3 & 3 & female & yes & 2.75 & 2.00 & 3.50 & 2.33 & 4.00 & worker  & seoul & 21\\\\\n\t 2 & 5 & 6 & 4 & 5 & 6 & 6 & 5 & 4 & female & yes & 5.00 & 5.67 & 4.75 & 3.00 & 2.67 & worker  & seoul & 20\\\\\n\t 2 & 4 & 4 & 4 & 5 & 3 & 4 & 6 & 4 & male   & no  & 3.75 & 3.00 & 4.00 & 3.67 & 4.33 & worker  & seoul & 23\\\\\n\t 2 & 4 & 4 & 3 & 4 & 3 & 1 & 4 & 5 & male   & yes & 2.25 & 2.33 & 3.50 & 3.33 & 4.00 & worker  & seoul & 20\\\\\n\t 2 & 4 & 7 & 7 & 6 & 7 & 5 & 1 & 1 & female & yes & 1.00 & 7.00 & 5.00 & 4.00 & 4.33 & worker  & seoul & 20\\\\\n\t 2 & 4 & 6 & 7 & 2 & 7 & 6 & 6 & 6 & male   & yes & 5.50 & 5.00 & 4.00 & 4.67 & 4.33 & worker  & seoul & 24\\\\\n\t 2 & 1 & 5 & 7 & 4 & 7 & 2 & 7 & 7 & female & no  & 2.50 & 3.67 & 3.25 & 3.33 & 4.00 & worker  & seoul & 20\\\\\n\t 2 & 6 & 6 & 7 & 6 & 7 & 4 & 7 & 7 & female & no  & 5.25 & 3.67 & 6.00 & 3.33 & 3.33 & worker  & seoul & 22\\\\\n\t 2 & 4 & 7 & 7 & 4 & 7 & 3 & 4 & 4 & male   & no  & 5.25 & 5.00 & 4.75 & 3.33 & 5.33 & worker  & seoul & 22\\\\\n\t 2 & 5 & 3 & 6 & 6 & 5 & 2 & 6 & 6 & male   & no  & 4.75 & 6.00 & 5.50 & 1.67 & 4.33 & worker  & busan & 20\\\\\n\t 2 & 5 & 4 & 6 & 6 & 5 & 4 & 4 & 4 & female & no  & 3.00 & 3.00 & 4.25 & 3.00 & 3.33 & worker  & busan & 20\\\\\n\t 2 & 1 & 1 & 4 & 1 & 4 & 1 & 1 & 1 & female & yes & 1.00 & 1.00 & 1.00 & 4.00 & 4.00 & worker  & busan & 19\\\\\n\t 2 & 4 & 6 & 7 & 7 & 7 & 1 & 7 & 7 & male   & yes & 4.50 & 1.00 & 5.25 & 3.33 & 4.33 & worker  & busan & 19\\\\\n\\end{tabular}\n",
            "text/plain": [
              "    programtype dramapref varietypref brandaware brandpref programaware\n",
              "1   2           4         4           7          7         7           \n",
              "2   2           4         7           7          5         7           \n",
              "3   2           5         6           7          3         7           \n",
              "4   2           6         2           7          4         3           \n",
              "5   2           2         7           3          3         6           \n",
              "6   2           4         4           7          6         7           \n",
              "7   2           5         2           7          7         7           \n",
              "8   2           2         5           6          4         6           \n",
              "9   2           1         7           7          4         7           \n",
              "10  2           5         5           7          6         7           \n",
              "11  2           6         6           7          4         7           \n",
              "12  2           5         4           7          6         6           \n",
              "13  2           2         4           7          3         7           \n",
              "14  2           2         6           7          4         7           \n",
              "15  2           3         4           7          5         6           \n",
              "16  2           2         1           7          3         6           \n",
              "17  2           5         5           7          4         5           \n",
              "18  2           6         4           7          3         7           \n",
              "19  2           3         1           7          4         7           \n",
              "20  2           7         5           1          4         1           \n",
              "21  2           4         4           6          3         6           \n",
              "22  2           6         6           7          3         7           \n",
              "23  2           5         6           5          4         5           \n",
              "24  2           4         2           4          3         5           \n",
              "25  2           4         6           7          4         2           \n",
              "26  2           2         6           7          4         7           \n",
              "27  2           4         4           7          5         7           \n",
              "28  2           3         5           5          4         5           \n",
              "29  2           2         6           7          3         7           \n",
              "30  2           2         6           7          7         7           \n",
              "⋮   ⋮           ⋮         ⋮           ⋮          ⋮         ⋮           \n",
              "147 2           3         3           7          5         7           \n",
              "148 2           7         7           7          4         7           \n",
              "149 2           5         7           7          5         7           \n",
              "150 2           6         5           6          4         6           \n",
              "151 2           3         4           7          4         7           \n",
              "152 2           2         5           6          4         6           \n",
              "153 2           6         7           7          6         7           \n",
              "154 2           6         5           6          4         5           \n",
              "155 2           5         6           7          5         5           \n",
              "156 2           6         7           6          4         6           \n",
              "157 2           4         6           7          5         7           \n",
              "158 2           3         1           5          1         5           \n",
              "159 2           5         5           7          6         7           \n",
              "160 2           5         6           6          5         7           \n",
              "161 2           3         5           7          5         7           \n",
              "162 2           7         5           7          5         7           \n",
              "163 2           3         4           5          4         4           \n",
              "164 2           4         4           3          2         3           \n",
              "165 2           5         6           4          5         6           \n",
              "166 2           4         4           4          5         3           \n",
              "167 2           4         4           3          4         3           \n",
              "168 2           4         7           7          6         7           \n",
              "169 2           4         6           7          2         7           \n",
              "170 2           1         5           7          4         7           \n",
              "171 2           6         6           7          6         7           \n",
              "172 2           4         7           7          4         7           \n",
              "173 2           5         3           6          6         5           \n",
              "174 2           5         4           6          6         5           \n",
              "175 2           1         1           4          1         4           \n",
              "176 2           4         6           7          7         7           \n",
              "    programpref modelaware modelpref gender pplaware fun  like reactance\n",
              "1   4           1          1         female yes      5.00 4.00 6.00     \n",
              "2   5           7          7         male   yes      3.50 6.67 6.00     \n",
              "3   4           7          7         female yes      4.75 5.00 2.75     \n",
              "4   2           2          2         female no       3.75 2.00 4.00     \n",
              "5   4           6          6         male   yes      5.00 5.33 4.00     \n",
              "6   4           7          7         female yes      3.50 3.67 3.75     \n",
              "7   1           7          3         female yes      5.25 2.33 6.75     \n",
              "8   3           5          5         male   yes      4.00 4.00 5.00     \n",
              "9   5           7          7         male   yes      3.75 4.00 3.00     \n",
              "10  6           7          7         female yes      3.50 3.67 2.00     \n",
              "11  4           5          5         male   yes      5.00 3.67 3.25     \n",
              "12  4           5          5         female yes      5.00 2.67 4.00     \n",
              "13  3           6          7         male   yes      4.75 2.33 3.50     \n",
              "14  1           7          7         female yes      5.50 7.00 5.75     \n",
              "15  4           5          5         male   yes      2.75 3.33 3.50     \n",
              "16  1           6          6         female yes      1.50 1.00 1.75     \n",
              "17  4           5          6         female yes      2.50 3.33 4.50     \n",
              "18  3           7          7         female yes      3.75 1.00 5.50     \n",
              "19  1           4          4         female yes      1.00 2.00 6.25     \n",
              "20  6           1          4         female yes      4.50 4.00 3.50     \n",
              "21  5           6          6         male   yes      4.00 1.67 1.00     \n",
              "22  4           7          7         female yes      4.50 7.00 3.75     \n",
              "23  4           3          3         male   no       2.75 4.33 3.50     \n",
              "24  1           1          1         male   no       1.00 1.00 6.00     \n",
              "25  1           1          1         male   yes      3.50 2.67 4.50     \n",
              "26  4           7          7         male   yes      3.00 3.67 1.25     \n",
              "27  4           3          3         male   yes      3.75 4.00 3.75     \n",
              "28  4           5          5         male   yes      1.50 3.00 3.75     \n",
              "29  3           7          7         male   no       2.75 2.33 3.25     \n",
              "30  7           7          7         male   no       5.00 2.67 1.00     \n",
              "⋮   ⋮           ⋮          ⋮         ⋮      ⋮        ⋮    ⋮    ⋮        \n",
              "147 1           7          7         female yes      2.00 4.00 4.75     \n",
              "148 3           7          7         male   yes      5.75 5.00 5.25     \n",
              "149 2           7          7         female yes      4.00 4.00 5.50     \n",
              "150 5           5          5         male   yes      4.75 5.67 4.75     \n",
              "151 2           5          5         male   yes      4.25 5.00 4.75     \n",
              "152 3           5          6         male   yes      4.25 2.67 6.25     \n",
              "153 3           5          5         female yes      4.25 5.00 2.00     \n",
              "154 4           5          5         female yes      5.00 4.00 4.00     \n",
              "155 4           1          1         female yes      5.00 5.33 6.00     \n",
              "156 4           5          6         male   yes      5.00 3.67 4.00     \n",
              "157 7           7          7         male   yes      1.00 6.00 1.00     \n",
              "158 3           1          2         male   yes      1.00 1.67 1.00     \n",
              "159 4           1          1         male   yes      2.00 4.00 2.00     \n",
              "160 4           2          2         female yes      5.25 6.00 4.75     \n",
              "161 3           6          6         female yes      1.75 2.33 5.25     \n",
              "162 6           7          7         female yes      4.50 5.00 4.00     \n",
              "163 5           4          3         male   no       4.50 4.00 4.00     \n",
              "164 2           3          3         female yes      2.75 2.00 3.50     \n",
              "165 6           5          4         female yes      5.00 5.67 4.75     \n",
              "166 4           6          4         male   no       3.75 3.00 4.00     \n",
              "167 1           4          5         male   yes      2.25 2.33 3.50     \n",
              "168 5           1          1         female yes      1.00 7.00 5.00     \n",
              "169 6           6          6         male   yes      5.50 5.00 4.00     \n",
              "170 2           7          7         female no       2.50 3.67 3.25     \n",
              "171 4           7          7         female no       5.25 3.67 6.00     \n",
              "172 3           4          4         male   no       5.25 5.00 4.75     \n",
              "173 2           6          6         male   no       4.75 6.00 5.50     \n",
              "174 4           4          4         female no       3.00 3.00 4.25     \n",
              "175 1           1          1         female yes      1.00 1.00 1.00     \n",
              "176 1           7          7         male   yes      4.50 1.00 5.25     \n",
              "    brandattitude programattitude job     city  age\n",
              "1   3.00          3.33            student busan 22 \n",
              "2   2.00          2.33            student busan 24 \n",
              "3   4.33          3.67            student busan 20 \n",
              "4   6.00          4.00            student busan 23 \n",
              "5   5.67          3.67            student busan 22 \n",
              "6   3.33          4.00            student busan 21 \n",
              "7   1.00          7.00            student busan 22 \n",
              "8   3.00          3.33            student busan 23 \n",
              "9   2.00          1.67            student busan 25 \n",
              "10  5.33          1.67            student busan 21 \n",
              "11  5.33          4.00            student busan 25 \n",
              "12  1.67          3.33            student busan 23 \n",
              "13  5.67          5.67            student busan 25 \n",
              "14  1.00          7.00            student busan 22 \n",
              "15  4.33          2.67            student busan 25 \n",
              "16  2.00          3.67            student busan 22 \n",
              "17  2.00          6.00            student busan 22 \n",
              "18  6.67          7.00            student busan 22 \n",
              "19  7.00          6.67            student busan 19 \n",
              "20  3.00          3.00            worker  busan 21 \n",
              "21  4.33          4.33            worker  busan 18 \n",
              "22  2.00          2.67            worker  busan 21 \n",
              "23  5.00          4.00            worker  busan 19 \n",
              "24  7.00          7.00            worker  busan 19 \n",
              "25  4.00          5.33            worker  busan 19 \n",
              "26  6.00          2.67            worker  busan 19 \n",
              "27  3.00          4.00            worker  busan 19 \n",
              "28  3.33          4.00            worker  busan 18 \n",
              "29  4.00          3.33            worker  busan 19 \n",
              "30  1.67          1.00            worker  busan 19 \n",
              "⋮   ⋮             ⋮               ⋮       ⋮     ⋮  \n",
              "147 3.00          4.00            student seoul 19 \n",
              "148 3.67          4.00            student seoul 23 \n",
              "149 2.67          4.33            student seoul 23 \n",
              "150 2.67          3.33            student seoul 23 \n",
              "151 4.00          4.00            student seoul 23 \n",
              "152 3.33          5.00            student seoul 21 \n",
              "153 3.00          3.33            student seoul 20 \n",
              "154 2.00          4.33            student seoul 21 \n",
              "155 4.00          4.00            student seoul 21 \n",
              "156 3.67          4.33            student seoul 22 \n",
              "157 1.00          3.00            student seoul 22 \n",
              "158 7.00          4.00            worker  seoul 24 \n",
              "159 2.00          3.00            worker  seoul 23 \n",
              "160 2.00          3.67            worker  seoul 24 \n",
              "161 4.67          4.00            worker  seoul 19 \n",
              "162 4.00          3.00            worker  seoul 19 \n",
              "163 3.67          4.33            worker  seoul 23 \n",
              "164 2.33          4.00            worker  seoul 21 \n",
              "165 3.00          2.67            worker  seoul 20 \n",
              "166 3.67          4.33            worker  seoul 23 \n",
              "167 3.33          4.00            worker  seoul 20 \n",
              "168 4.00          4.33            worker  seoul 20 \n",
              "169 4.67          4.33            worker  seoul 24 \n",
              "170 3.33          4.00            worker  seoul 20 \n",
              "171 3.33          3.33            worker  seoul 22 \n",
              "172 3.33          5.33            worker  seoul 22 \n",
              "173 1.67          4.33            worker  busan 20 \n",
              "174 3.00          3.33            worker  busan 20 \n",
              "175 4.00          4.00            worker  busan 19 \n",
              "176 3.33          4.33            worker  busan 19 "
            ]
          },
          "metadata": {}
        }
      ]
    },
    {
      "cell_type": "code",
      "source": [
        "# 히스토그램 그리기\n",
        "# 빈도표 작성\n",
        "ft=table(sampledata[,5])\n",
        "ft"
      ],
      "metadata": {
        "colab": {
          "base_uri": "https://localhost:8080/",
          "height": 71
        },
        "id": "LEldxEdY2haM",
        "outputId": "0bb5d374-318c-4505-86a6-127949822ee8"
      },
      "execution_count": null,
      "outputs": [
        {
          "output_type": "display_data",
          "data": {
            "text/plain": [
              "\n",
              " 1  2  3  4  5  6  7 \n",
              " 6 15 25 74 33 17  6 "
            ]
          },
          "metadata": {}
        }
      ]
    },
    {
      "cell_type": "code",
      "source": [
        "# 빈도표를 바탕으로 히스토그램 출력\n",
        "barplot(ft)"
      ],
      "metadata": {
        "colab": {
          "base_uri": "https://localhost:8080/",
          "height": 437
        },
        "id": "3NV9jIt12uZn",
        "outputId": "bc1458b1-1c52-438c-e40e-f001bc1da9e2"
      },
      "execution_count": null,
      "outputs": [
        {
          "output_type": "display_data",
          "data": {
            "text/plain": [
              "plot without title"
            ],
            "image/png": "[encoded data removed]"
          },
          "metadata": {
            "image/png": {
              "width": 420,
              "height": 420
            }
          }
        }
      ]
    },
    {
      "cell_type": "code",
      "source": [
        "# 상대빈도를 이용하여 히스토그램 그리기\n",
        "barplot(ft/length(sampledata[,5]))"
      ],
      "metadata": {
        "colab": {
          "base_uri": "https://localhost:8080/",
          "height": 437
        },
        "id": "fBFIlg_O24ZT",
        "outputId": "c2eb2c88-98f6-4987-cf36-b010817ccb0d"
      },
      "execution_count": null,
      "outputs": [
        {
          "output_type": "display_data",
          "data": {
            "text/plain": [
              "plot without title"
            ],
            "image/png": "[encoded data removed]"
          },
          "metadata": {
            "image/png": {
              "width": 420,
              "height": 420
            }
          }
        }
      ]
    },
    {
      "cell_type": "code",
      "source": [
        "# hist() 함수를 사용하여 히스토그램 그리기\n",
        "hist(sampledata[,5])"
      ],
      "metadata": {
        "colab": {
          "base_uri": "https://localhost:8080/",
          "height": 437
        },
        "id": "2xOQ-NW83CvQ",
        "outputId": "892a8f4a-fb5f-4048-a3c4-bd499464bee6"
      },
      "execution_count": null,
      "outputs": [
        {
          "output_type": "display_data",
          "data": {
            "text/plain": [
              "Plot with title “Histogram of sampledata[, 5]”"
            ],
            "image/png": "[encoded data removed]"
          },
          "metadata": {
            "image/png": {
              "width": 420,
              "height": 420
            }
          }
        }
      ]
    },
    {
      "cell_type": "code",
      "source": [
        "# stem() 함수를 사용하여 구체적 수치를 포함한 줄기잎도표 그리기\n",
        "stem(sampledata[,5])"
      ],
      "metadata": {
        "colab": {
          "base_uri": "https://localhost:8080/"
        },
        "id": "iNF7z0VW3GqF",
        "outputId": "d6dd8095-ad45-4e51-a577-3af8272a60ca"
      },
      "execution_count": null,
      "outputs": [
        {
          "output_type": "stream",
          "name": "stdout",
          "text": [
            "\n",
            "  The decimal point is at the |\n",
            "\n",
            "  1 | 000000\n",
            "  1 | \n",
            "  2 | 000000000000000\n",
            "  2 | \n",
            "  3 | 0000000000000000000000000\n",
            "  3 | \n",
            "  4 | 00000000000000000000000000000000000000000000000000000000000000000000\n",
            "  4 | \n",
            "  5 | 000000000000000000000000000000000\n",
            "  5 | \n",
            "  6 | 00000000000000000\n",
            "  6 | \n",
            "  7 | 000000\n",
            "\n"
          ]
        }
      ]
    },
    {
      "cell_type": "code",
      "source": [
        "# boxplot() 함수로 상자도표 그리기\n",
        "boxplot(sampledata[,5])"
      ],
      "metadata": {
        "colab": {
          "base_uri": "https://localhost:8080/",
          "height": 437
        },
        "id": "MG1BTKNb3WTv",
        "outputId": "8fc34bec-d8d2-4398-957e-e785a82b51cb"
      },
      "execution_count": null,
      "outputs": [
        {
          "output_type": "display_data",
          "data": {
            "text/plain": [
              "plot without title"
            ],
            "image/png": "[encoded data removed]"
          },
          "metadata": {
            "image/png": {
              "width": 420,
              "height": 420
            }
          }
        }
      ]
    },
    {
      "cell_type": "code",
      "source": [
        "# boxplot() 함수로 성별에 따른 브랜드선호도 분포를 비교하는 상자도표 그리기\n",
        "boxplot(sampledata[,5]~sampledata[,10])"
      ],
      "metadata": {
        "colab": {
          "base_uri": "https://localhost:8080/",
          "height": 437
        },
        "id": "UrV1Zep-3kyz",
        "outputId": "9c6e2ab7-2180-4b33-956e-a4416e8fb68f"
      },
      "execution_count": null,
      "outputs": [
        {
          "output_type": "display_data",
          "data": {
            "text/plain": [
              "plot without title"
            ],
            "image/png": "[encoded data removed]"
          },
          "metadata": {
            "image/png": {
              "width": 420,
              "height": 420
            }
          }
        }
      ]
    },
    {
      "cell_type": "code",
      "source": [
        "#plot() 함수로 산포도 그리기\n",
        "plot(sampledata[,4],sampledata[,5])"
      ],
      "metadata": {
        "colab": {
          "base_uri": "https://localhost:8080/",
          "height": 437
        },
        "id": "S-wRnmS-3v_U",
        "outputId": "cf2fcd5c-4605-49f2-b214-7574bda58ec4"
      },
      "execution_count": null,
      "outputs": [
        {
          "output_type": "display_data",
          "data": {
            "text/plain": [
              "plot without title"
            ],
            "image/png": "[encoded data removed]"
          },
          "metadata": {
            "image/png": {
              "width": 420,
              "height": 420
            }
          }
        }
      ]
    },
    {
      "cell_type": "code",
      "source": [
        "#plot() 함수로 산포도 그리기\n",
        "plot(sampledata[,4],sampledata[,5])\n",
        "\n",
        "#abline()함수와 lm()함수로 두 변수 간의 관계를 표현하는 직선그리기\n",
        "abline(lm(sampledata[,5]~sampledata[,4]))"
      ],
      "metadata": {
        "colab": {
          "base_uri": "https://localhost:8080/",
          "height": 437
        },
        "id": "w2Cs9VLV4AhJ",
        "outputId": "c82fd5d8-c90e-482a-e855-e8276664a731"
      },
      "execution_count": null,
      "outputs": [
        {
          "output_type": "display_data",
          "data": {
            "text/plain": [
              "plot without title"
            ],
            "image/png": "[encoded data removed]"
          },
          "metadata": {
            "image/png": {
              "width": 420,
              "height": 420
            }
          }
        }
      ]
    },
    {
      "cell_type": "markdown",
      "source": [
        "# **척도의 평가-신뢰도 분석**"
      ],
      "metadata": {
        "id": "D9SNvKwgC8Tx"
      }
    },
    {
      "cell_type": "code",
      "source": [
        "#라이브러리 설치\n",
        "install.packages(\"mnormt\")\n",
        "install.packages(\"psych\")"
      ],
      "metadata": {
        "colab": {
          "base_uri": "https://localhost:8080/"
        },
        "id": "0JIZdngA4GR7",
        "outputId": "6e83a55d-9f0a-4a7b-963f-67c4496e6ee3"
      },
      "execution_count": null,
      "outputs": [
        {
          "output_type": "stream",
          "name": "stderr",
          "text": [
            "Installing package into ‘/usr/local/lib/R/site-library’\n",
            "(as ‘lib’ is unspecified)\n",
            "\n",
            "Installing package into ‘/usr/local/lib/R/site-library’\n",
            "(as ‘lib’ is unspecified)\n",
            "\n"
          ]
        }
      ]
    },
    {
      "cell_type": "code",
      "source": [
        "# CSV 파일 업로드 : 경로 /content/sample_data\n",
        "# 업로드 파일명 : 실습샘플데이터 sampledata(ch11_factor)_eng\n",
        "# CSV 파일명 변경 : sampledata2.csv\n",
        "\n",
        "#라이브러리 불러오기\n",
        "library(psych)\n",
        "\n",
        "# CSV 파일을 데이터 프레임으로 읽기\n",
        "file_path <- \"/content/sample_data/sampledata2.csv\"\n",
        "sampledata <- read.csv(file_path)\n",
        "\n",
        "#라이브러리 실행\n",
        "alpha(sampledata[,1:4])"
      ],
      "metadata": {
        "colab": {
          "base_uri": "https://localhost:8080/",
          "height": 596
        },
        "id": "QM8bHNim4yUz",
        "outputId": "79e6cd09-d47f-4c84-fbfc-ff428d51374a"
      },
      "execution_count": null,
      "outputs": [
        {
          "output_type": "display_data",
          "data": {
            "text/plain": [
              "\n",
              "Reliability analysis   \n",
              "Call: alpha(x = sampledata[, 1:4])\n",
              "\n",
              "  raw_alpha std.alpha G6(smc) average_r S/N   ase mean  sd median_r\n",
              "      0.87      0.87    0.88      0.63 6.7 0.019  4.4 1.4     0.64\n",
              "\n",
              "    95% confidence boundaries \n",
              "         lower alpha upper\n",
              "Feldt     0.83  0.87  0.91\n",
              "Duhachek  0.84  0.87  0.91\n",
              "\n",
              " Reliability if an item is dropped:\n",
              "           raw_alpha std.alpha G6(smc) average_r  S/N alpha se var.r med.r\n",
              "brandpref1      0.79      0.78    0.79      0.55  3.6   0.0337 0.080  0.41\n",
              "brandpref2      0.81      0.81    0.81      0.59  4.3   0.0295 0.052  0.51\n",
              "brandpref3      0.79      0.78    0.76      0.55  3.6   0.0335 0.043  0.51\n",
              "brandpref4      0.94      0.94    0.91      0.83 14.5   0.0099 0.003  0.85\n",
              "\n",
              " Item statistics \n",
              "             n raw.r std.r r.cor r.drop mean  sd\n",
              "brandpref1 130  0.92  0.92  0.90   0.85  4.2 1.7\n",
              "brandpref2 130  0.89  0.88  0.87   0.79  4.2 1.7\n",
              "brandpref3 130  0.93  0.92  0.93   0.85  4.3 1.7\n",
              "brandpref4 130  0.66  0.67  0.48   0.45  5.0 1.6\n",
              "\n",
              "Non missing response frequency for each item\n",
              "              1    2    3    4    5    6    7 miss\n",
              "brandpref1 0.04 0.13 0.19 0.24 0.12 0.16 0.12    0\n",
              "brandpref2 0.04 0.15 0.16 0.25 0.13 0.14 0.12    0\n",
              "brandpref3 0.04 0.15 0.13 0.25 0.16 0.14 0.14    0\n",
              "brandpref4 0.02 0.04 0.15 0.22 0.15 0.18 0.24    0"
            ]
          },
          "metadata": {}
        }
      ]
    },
    {
      "cell_type": "code",
      "source": [
        "#라이브러리 불러오기\n",
        "library(psych)\n",
        "\n",
        "# CSV 파일을 데이터 프레임으로 읽기\n",
        "file_path <- \"/content/sample_data/sampledata2.csv\"\n",
        "sampledata <- read.csv(file_path)\n",
        "\n",
        "#라이브러리 실행\n",
        "principal(sampledata,2,rotate=\"varimax\")"
      ],
      "metadata": {
        "id": "kiIItExt6D1B",
        "colab": {
          "base_uri": "https://localhost:8080/",
          "height": 489
        },
        "outputId": "b18368e0-2e03-43b0-8194-34e74d26a44c"
      },
      "execution_count": null,
      "outputs": [
        {
          "output_type": "display_data",
          "data": {
            "text/plain": [
              "Principal Components Analysis\n",
              "Call: principal(r = sampledata, nfactors = 2, rotate = \"varimax\")\n",
              "Standardized loadings (pattern matrix) based upon correlation matrix\n",
              "               RC1   RC2   h2   u2 com\n",
              "brandpref1    0.93  0.06 0.87 0.13 1.0\n",
              "brandpref2    0.87  0.28 0.83 0.17 1.2\n",
              "brandpref3    0.93  0.16 0.88 0.12 1.1\n",
              "brandpref4    0.63 -0.04 0.40 0.60 1.0\n",
              "programpref1  0.08  0.80 0.64 0.36 1.0\n",
              "programpref2 -0.02  0.86 0.74 0.26 1.0\n",
              "programpref3  0.22  0.91 0.87 0.13 1.1\n",
              "\n",
              "                       RC1  RC2\n",
              "SS loadings           2.93 2.31\n",
              "Proportion Var        0.42 0.33\n",
              "Cumulative Var        0.42 0.75\n",
              "Proportion Explained  0.56 0.44\n",
              "Cumulative Proportion 0.56 1.00\n",
              "\n",
              "Mean item complexity =  1.1\n",
              "Test of the hypothesis that 2 components are sufficient.\n",
              "\n",
              "The root mean square of the residuals (RMSR) is  0.08 \n",
              " with the empirical chi square  37.89  with prob <  7.9e-06 \n",
              "\n",
              "Fit based upon off diagonal values = 0.97"
            ]
          },
          "metadata": {}
        }
      ]
    },
    {
      "cell_type": "markdown",
      "source": [
        "# **가설검정-상관분석**"
      ],
      "metadata": {
        "id": "FYWga8KrDIQS"
      }
    },
    {
      "cell_type": "code",
      "source": [
        "# CSV 파일을 데이터 프레임으로 읽기\n",
        "file_path <- \"/content/sample_data/sampledata.csv\"\n",
        "sampledata <- read.csv(file_path)\n",
        "head(sampledata)"
      ],
      "metadata": {
        "id": "kmpeXSjgHcrt",
        "colab": {
          "base_uri": "https://localhost:8080/",
          "height": 306
        },
        "outputId": "8aae9d40-badc-4bef-a47c-5f7b6c1a28a1"
      },
      "execution_count": null,
      "outputs": [
        {
          "output_type": "display_data",
          "data": {
            "text/html": [
              "<table class=\"dataframe\">\n",
              "<caption>A data.frame: 6 × 19</caption>\n",
              "<thead>\n",
              "\t<tr><th></th><th scope=col>programtype</th><th scope=col>dramapref</th><th scope=col>varietypref</th><th scope=col>brandaware</th><th scope=col>brandpref</th><th scope=col>programaware</th><th scope=col>programpref</th><th scope=col>modelaware</th><th scope=col>modelpref</th><th scope=col>gender</th><th scope=col>pplaware</th><th scope=col>fun</th><th scope=col>like</th><th scope=col>reactance</th><th scope=col>brandattitude</th><th scope=col>programattitude</th><th scope=col>job</th><th scope=col>city</th><th scope=col>age</th></tr>\n",
              "\t<tr><th></th><th scope=col>&lt;int&gt;</th><th scope=col>&lt;int&gt;</th><th scope=col>&lt;int&gt;</th><th scope=col>&lt;int&gt;</th><th scope=col>&lt;int&gt;</th><th scope=col>&lt;int&gt;</th><th scope=col>&lt;int&gt;</th><th scope=col>&lt;int&gt;</th><th scope=col>&lt;int&gt;</th><th scope=col>&lt;chr&gt;</th><th scope=col>&lt;chr&gt;</th><th scope=col>&lt;dbl&gt;</th><th scope=col>&lt;dbl&gt;</th><th scope=col>&lt;dbl&gt;</th><th scope=col>&lt;dbl&gt;</th><th scope=col>&lt;dbl&gt;</th><th scope=col>&lt;chr&gt;</th><th scope=col>&lt;chr&gt;</th><th scope=col>&lt;int&gt;</th></tr>\n",
              "</thead>\n",
              "<tbody>\n",
              "\t<tr><th scope=row>1</th><td>2</td><td>4</td><td>4</td><td>7</td><td>7</td><td>7</td><td>4</td><td>1</td><td>1</td><td>female</td><td>yes</td><td>5.00</td><td>4.00</td><td>6.00</td><td>3.00</td><td>3.33</td><td>student</td><td>busan</td><td>22</td></tr>\n",
              "\t<tr><th scope=row>2</th><td>2</td><td>4</td><td>7</td><td>7</td><td>5</td><td>7</td><td>5</td><td>7</td><td>7</td><td>male  </td><td>yes</td><td>3.50</td><td>6.67</td><td>6.00</td><td>2.00</td><td>2.33</td><td>student</td><td>busan</td><td>24</td></tr>\n",
              "\t<tr><th scope=row>3</th><td>2</td><td>5</td><td>6</td><td>7</td><td>3</td><td>7</td><td>4</td><td>7</td><td>7</td><td>female</td><td>yes</td><td>4.75</td><td>5.00</td><td>2.75</td><td>4.33</td><td>3.67</td><td>student</td><td>busan</td><td>20</td></tr>\n",
              "\t<tr><th scope=row>4</th><td>2</td><td>6</td><td>2</td><td>7</td><td>4</td><td>3</td><td>2</td><td>2</td><td>2</td><td>female</td><td>no </td><td>3.75</td><td>2.00</td><td>4.00</td><td>6.00</td><td>4.00</td><td>student</td><td>busan</td><td>23</td></tr>\n",
              "\t<tr><th scope=row>5</th><td>2</td><td>2</td><td>7</td><td>3</td><td>3</td><td>6</td><td>4</td><td>6</td><td>6</td><td>male  </td><td>yes</td><td>5.00</td><td>5.33</td><td>4.00</td><td>5.67</td><td>3.67</td><td>student</td><td>busan</td><td>22</td></tr>\n",
              "\t<tr><th scope=row>6</th><td>2</td><td>4</td><td>4</td><td>7</td><td>6</td><td>7</td><td>4</td><td>7</td><td>7</td><td>female</td><td>yes</td><td>3.50</td><td>3.67</td><td>3.75</td><td>3.33</td><td>4.00</td><td>student</td><td>busan</td><td>21</td></tr>\n",
              "</tbody>\n",
              "</table>\n"
            ],
            "text/markdown": "\nA data.frame: 6 × 19\n\n| <!--/--> | programtype &lt;int&gt; | dramapref &lt;int&gt; | varietypref &lt;int&gt; | brandaware &lt;int&gt; | brandpref &lt;int&gt; | programaware &lt;int&gt; | programpref &lt;int&gt; | modelaware &lt;int&gt; | modelpref &lt;int&gt; | gender &lt;chr&gt; | pplaware &lt;chr&gt; | fun &lt;dbl&gt; | like &lt;dbl&gt; | reactance &lt;dbl&gt; | brandattitude &lt;dbl&gt; | programattitude &lt;dbl&gt; | job &lt;chr&gt; | city &lt;chr&gt; | age &lt;int&gt; |\n|---|---|---|---|---|---|---|---|---|---|---|---|---|---|---|---|---|---|---|---|\n| 1 | 2 | 4 | 4 | 7 | 7 | 7 | 4 | 1 | 1 | female | yes | 5.00 | 4.00 | 6.00 | 3.00 | 3.33 | student | busan | 22 |\n| 2 | 2 | 4 | 7 | 7 | 5 | 7 | 5 | 7 | 7 | male   | yes | 3.50 | 6.67 | 6.00 | 2.00 | 2.33 | student | busan | 24 |\n| 3 | 2 | 5 | 6 | 7 | 3 | 7 | 4 | 7 | 7 | female | yes | 4.75 | 5.00 | 2.75 | 4.33 | 3.67 | student | busan | 20 |\n| 4 | 2 | 6 | 2 | 7 | 4 | 3 | 2 | 2 | 2 | female | no  | 3.75 | 2.00 | 4.00 | 6.00 | 4.00 | student | busan | 23 |\n| 5 | 2 | 2 | 7 | 3 | 3 | 6 | 4 | 6 | 6 | male   | yes | 5.00 | 5.33 | 4.00 | 5.67 | 3.67 | student | busan | 22 |\n| 6 | 2 | 4 | 4 | 7 | 6 | 7 | 4 | 7 | 7 | female | yes | 3.50 | 3.67 | 3.75 | 3.33 | 4.00 | student | busan | 21 |\n\n",
            "text/latex": "A data.frame: 6 × 19\n\\begin{tabular}{r|lllllllllllllllllll}\n  & programtype & dramapref & varietypref & brandaware & brandpref & programaware & programpref & modelaware & modelpref & gender & pplaware & fun & like & reactance & brandattitude & programattitude & job & city & age\\\\\n  & <int> & <int> & <int> & <int> & <int> & <int> & <int> & <int> & <int> & <chr> & <chr> & <dbl> & <dbl> & <dbl> & <dbl> & <dbl> & <chr> & <chr> & <int>\\\\\n\\hline\n\t1 & 2 & 4 & 4 & 7 & 7 & 7 & 4 & 1 & 1 & female & yes & 5.00 & 4.00 & 6.00 & 3.00 & 3.33 & student & busan & 22\\\\\n\t2 & 2 & 4 & 7 & 7 & 5 & 7 & 5 & 7 & 7 & male   & yes & 3.50 & 6.67 & 6.00 & 2.00 & 2.33 & student & busan & 24\\\\\n\t3 & 2 & 5 & 6 & 7 & 3 & 7 & 4 & 7 & 7 & female & yes & 4.75 & 5.00 & 2.75 & 4.33 & 3.67 & student & busan & 20\\\\\n\t4 & 2 & 6 & 2 & 7 & 4 & 3 & 2 & 2 & 2 & female & no  & 3.75 & 2.00 & 4.00 & 6.00 & 4.00 & student & busan & 23\\\\\n\t5 & 2 & 2 & 7 & 3 & 3 & 6 & 4 & 6 & 6 & male   & yes & 5.00 & 5.33 & 4.00 & 5.67 & 3.67 & student & busan & 22\\\\\n\t6 & 2 & 4 & 4 & 7 & 6 & 7 & 4 & 7 & 7 & female & yes & 3.50 & 3.67 & 3.75 & 3.33 & 4.00 & student & busan & 21\\\\\n\\end{tabular}\n",
            "text/plain": [
              "  programtype dramapref varietypref brandaware brandpref programaware\n",
              "1 2           4         4           7          7         7           \n",
              "2 2           4         7           7          5         7           \n",
              "3 2           5         6           7          3         7           \n",
              "4 2           6         2           7          4         3           \n",
              "5 2           2         7           3          3         6           \n",
              "6 2           4         4           7          6         7           \n",
              "  programpref modelaware modelpref gender pplaware fun  like reactance\n",
              "1 4           1          1         female yes      5.00 4.00 6.00     \n",
              "2 5           7          7         male   yes      3.50 6.67 6.00     \n",
              "3 4           7          7         female yes      4.75 5.00 2.75     \n",
              "4 2           2          2         female no       3.75 2.00 4.00     \n",
              "5 4           6          6         male   yes      5.00 5.33 4.00     \n",
              "6 4           7          7         female yes      3.50 3.67 3.75     \n",
              "  brandattitude programattitude job     city  age\n",
              "1 3.00          3.33            student busan 22 \n",
              "2 2.00          2.33            student busan 24 \n",
              "3 4.33          3.67            student busan 20 \n",
              "4 6.00          4.00            student busan 23 \n",
              "5 5.67          3.67            student busan 22 \n",
              "6 3.33          4.00            student busan 21 "
            ]
          },
          "metadata": {}
        }
      ]
    },
    {
      "cell_type": "code",
      "source": [
        "#변수명 변경\n",
        "dramapref<-sampledata[,2]\n",
        "enterpref<-sampledata[,3]\n",
        "\n",
        "#상관분석에 cor.test() 함수를 사용\n",
        "cor.test(dramapref,enterpref)"
      ],
      "metadata": {
        "colab": {
          "base_uri": "https://localhost:8080/",
          "height": 216
        },
        "id": "Edxm5tB8NpKd",
        "outputId": "65d5d4fb-e427-4aac-e6d5-5b9a679d410b"
      },
      "execution_count": null,
      "outputs": [
        {
          "output_type": "display_data",
          "data": {
            "text/plain": [
              "\n",
              "\tPearson's product-moment correlation\n",
              "\n",
              "data:  dramapref and enterpref\n",
              "t = 20.223, df = 128, p-value < 2.2e-16\n",
              "alternative hypothesis: true correlation is not equal to 0\n",
              "95 percent confidence interval:\n",
              " 0.8244047 0.9083924\n",
              "sample estimates:\n",
              "      cor \n",
              "0.8727089 \n"
            ]
          },
          "metadata": {}
        }
      ]
    },
    {
      "cell_type": "markdown",
      "source": [
        "#**가설검정-회귀분석**"
      ],
      "metadata": {
        "id": "KsISEot2Stgi"
      }
    },
    {
      "cell_type": "code",
      "source": [
        "dramapref<-sampledata[,2]    # “드라마 선호도”인 “sampledata[,2]”를 “dramapref”에 저장\n",
        "enterpref<-sampledata[,3]    # “예능 선호도”인 “sampledata[,3]”을 “enterpref”에 저장\n",
        "reg1<-lm(dramapref~enterpref)   # 회귀분석(종속변수~독립변수)\n",
        "reg1"
      ],
      "metadata": {
        "colab": {
          "base_uri": "https://localhost:8080/",
          "height": 144
        },
        "id": "Oy-yip8DN0jG",
        "outputId": "404fc0b9-4dd0-42ec-fa21-71a6b0831d90"
      },
      "execution_count": null,
      "outputs": [
        {
          "output_type": "display_data",
          "data": {
            "text/plain": [
              "\n",
              "Call:\n",
              "lm(formula = dramapref ~ enterpref)\n",
              "\n",
              "Coefficients:\n",
              "(Intercept)    enterpref  \n",
              "     3.4942       0.1577  \n"
            ]
          },
          "metadata": {}
        }
      ]
    },
    {
      "cell_type": "code",
      "source": [
        "summary(reg1)"
      ],
      "metadata": {
        "colab": {
          "base_uri": "https://localhost:8080/",
          "height": 344
        },
        "id": "9GHgLseXTOD5",
        "outputId": "a3a1e468-8e47-4628-e08c-cb76f20406a7"
      },
      "execution_count": null,
      "outputs": [
        {
          "output_type": "display_data",
          "data": {
            "text/plain": [
              "\n",
              "Call:\n",
              "lm(formula = dramapref ~ enterpref)\n",
              "\n",
              "Residuals:\n",
              "    Min      1Q  Median      3Q     Max \n",
              "-3.5984 -0.5984 -0.1252  0.9143  3.1903 \n",
              "\n",
              "Coefficients:\n",
              "            Estimate Std. Error t value Pr(>|t|)    \n",
              "(Intercept)  3.49419    0.39054   8.947 5.33e-16 ***\n",
              "enterpref    0.15774    0.07531   2.095   0.0377 *  \n",
              "---\n",
              "Signif. codes:  0 ‘***’ 0.001 ‘**’ 0.01 ‘*’ 0.05 ‘.’ 0.1 ‘ ’ 1\n",
              "\n",
              "Residual standard error: 1.474 on 174 degrees of freedom\n",
              "Multiple R-squared:  0.02459,\tAdjusted R-squared:  0.01899 \n",
              "F-statistic: 4.387 on 1 and 174 DF,  p-value: 0.03766\n"
            ]
          },
          "metadata": {}
        }
      ]
    },
    {
      "cell_type": "code",
      "source": [
        "enterpref<-sampledata[,3]    # “예능 선호도”인 “sampledata[,3]”을 “enterpref”에 저장\n",
        "progpref<-sampledata[,7]    # “프로그램 선호도”인 “sampledata[,7]”를 “progpref”에 저장\n",
        "dramapref<-sampledata[,2]   # 종속변수 “드라마 선호도”인 “sampledata[,2]”를 “dramapref”에 저장\n",
        "reg2<-lm(dramapref~enterpref+progpref)   # 다중회귀분석\n",
        "reg2"
      ],
      "metadata": {
        "colab": {
          "base_uri": "https://localhost:8080/",
          "height": 144
        },
        "id": "a-6xATSXTpY3",
        "outputId": "5a722ee2-ef5e-45e1-f396-449821776e11"
      },
      "execution_count": null,
      "outputs": [
        {
          "output_type": "display_data",
          "data": {
            "text/plain": [
              "\n",
              "Call:\n",
              "lm(formula = dramapref ~ enterpref + progpref)\n",
              "\n",
              "Coefficients:\n",
              "(Intercept)    enterpref     progpref  \n",
              "     2.7817       0.1075       0.2827  \n"
            ]
          },
          "metadata": {}
        }
      ]
    },
    {
      "cell_type": "code",
      "source": [
        "summary(reg2)"
      ],
      "metadata": {
        "colab": {
          "base_uri": "https://localhost:8080/",
          "height": 362
        },
        "id": "nHtSB1l5VCOW",
        "outputId": "40718b04-52a8-4780-ac9c-54942c7164bf"
      },
      "execution_count": null,
      "outputs": [
        {
          "output_type": "display_data",
          "data": {
            "text/plain": [
              "\n",
              "Call:\n",
              "lm(formula = dramapref ~ enterpref + progpref)\n",
              "\n",
              "Residuals:\n",
              "    Min      1Q  Median      3Q     Max \n",
              "-3.9479 -0.7165 -0.0039  0.8437  3.1153 \n",
              "\n",
              "Coefficients:\n",
              "            Estimate Std. Error t value Pr(>|t|)    \n",
              "(Intercept)  2.78170    0.42558   6.536 6.81e-10 ***\n",
              "enterpref    0.10751    0.07411   1.451 0.148679    \n",
              "progpref     0.28271    0.07792   3.628 0.000375 ***\n",
              "---\n",
              "Signif. codes:  0 ‘***’ 0.001 ‘**’ 0.01 ‘*’ 0.05 ‘.’ 0.1 ‘ ’ 1\n",
              "\n",
              "Residual standard error: 1.425 on 173 degrees of freedom\n",
              "Multiple R-squared:  0.09357,\tAdjusted R-squared:  0.08309 \n",
              "F-statistic: 8.929 on 2 and 173 DF,  p-value: 0.000204\n"
            ]
          },
          "metadata": {}
        }
      ]
    }
  ]
}